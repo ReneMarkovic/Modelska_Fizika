{
 "cells": [
  {
   "cell_type": "code",
   "execution_count": 3,
   "id": "dcb7c533",
   "metadata": {
    "ExecuteTime": {
     "end_time": "2023-02-28T07:34:34.186903Z",
     "start_time": "2023-02-28T07:34:34.174853Z"
    }
   },
   "outputs": [],
   "source": [
    "#več o astropy -> https://docs.astropy.org/en/stable/index.html\n",
    "import astropy.coordinates as coord\n",
    "from astropy.time import Time\n",
    "import astropy.units as u\n",
    "\n",
    "import time\n",
    "from tqdm.notebook import tqdm\n",
    "import numpy as np\n",
    "import matplotlib.pyplot as plt\n",
    "from calendar import monthrange"
   ]
  },
  {
   "cell_type": "code",
   "execution_count": 4,
   "id": "942d604c",
   "metadata": {
    "ExecuteTime": {
     "end_time": "2023-02-28T07:34:35.048933Z",
     "start_time": "2023-02-28T07:34:35.035747Z"
    },
    "code_folding": [
     0,
     19,
     28,
     39,
     46
    ]
   },
   "outputs": [],
   "source": [
    "def plot_vzhod(x1,x2,y):\n",
    "    '''\n",
    "    V polarnih koordinatah izriše\n",
    "    lego sončnega vzhoda in zahoda glede na\n",
    "    dolžino dneva\n",
    "    x1 -> list: vsebuje podatke o azimutu sončnega vzhoda podanega v °\n",
    "    x2 -> list: vsebuje podatke o azimutu sončnega zahoda podanega v °\n",
    "    y -> list: vsebuje podatke o dolžini dneva v enotah ura\n",
    "    '''\n",
    "    fig = plt.figure()\n",
    "    ax = plt.axes(polar=True)\n",
    "    x1 =  np.array([2*np.pi/360*xx for xx in x1])\n",
    "    x2 =  np.array([2*np.pi/360*xx for xx in x2])\n",
    "    y = np.array(y)\n",
    "    ax.plot(x1, y, \"go\")\n",
    "    ax.plot(x2, y, \"ro\")\n",
    "    ax.set_ylim(4,20)\n",
    "    plt.show()\n",
    "    \n",
    "def convert_to_string(xx,ref):\n",
    "    m=str(xx)\n",
    "    m_len=len(m)\n",
    "    m_levo=(ref-m_len)//2\n",
    "    m_desno=ref-m_len-m_levo\n",
    "    m1=' '.join('' for k in range(m_levo))\n",
    "    m2=' '.join('' for k in range(m_desno))\n",
    "    return m1+m+m2\n",
    "    \n",
    "def convert_time_to_float(t):\n",
    "    '''\n",
    "    čas je podan v spremenljivki t kot string, ki ima format\n",
    "    hh:mm:ss -> ta zapis pretvorimo v realno število enota pa\n",
    "    so ure t.split(:)->[hh,mm,ss]\n",
    "    '''\n",
    "    h=float(t.split(\":\")[0])\n",
    "    m=float(t.split(\":\")[1])/60.0\n",
    "    s=float(t.split(\":\")[2])/3600.0\n",
    "    return h+m+s\n",
    "\n",
    "def convert(t):\n",
    "    '''\n",
    "    tukaj pretvorimo string, ki odraža podatek o datumu in uri v\n",
    "    datetime spremenljivko.\n",
    "    '''\n",
    "    return time.mktime(time.strptime(t, '%Y-%m-%d %H:%M:%S'))\n",
    "\n",
    "def convert_deg(d):\n",
    "    '''\n",
    "    d je string, ki vsebuje podatke o kotu in je podan v obliki\n",
    "    41d52m31s\n",
    "    s spodnjo kodo tako zapisan podatek pretvorimo v realno število,\n",
    "    ki odraža stopinje.\n",
    "    '''\n",
    "    deg=d.split(\"d\")[0]\n",
    "    m=d.split(\"d\")[1].split(\"m\")[0]\n",
    "    s=d.split(\"m\")[1].split(\"s\")[0]\n",
    "    deg=float(deg)+float(m)/60+float(s)/3600\n",
    "    return deg"
   ]
  },
  {
   "cell_type": "markdown",
   "id": "4b858f94",
   "metadata": {},
   "source": [
    "# Gibanje sonca na nebu"
   ]
  },
  {
   "cell_type": "markdown",
   "id": "44b5ff0b",
   "metadata": {},
   "source": [
    "## Določitev lokacije\n",
    "\n",
    "V spodnji celici je prikazan primer, uporabe knjižice **astropy** za določitev GPS koordinat določenega naslova. Ta podatek bo zan zelo pomemben, saj nas bo zanimalo kako spreminja lega Sonca skozi leto na tej legi."
   ]
  },
  {
   "cell_type": "code",
   "execution_count": 5,
   "id": "2f2f37af",
   "metadata": {
    "ExecuteTime": {
     "end_time": "2023-02-28T07:34:36.562907Z",
     "start_time": "2023-02-28T07:34:36.380402Z"
    }
   },
   "outputs": [
    {
     "name": "stdout",
     "output_type": "stream",
     "text": [
      "Zemljepisna šririna 46d33m49.47804s\n",
      "Zemljepisna dolžina 15d37m26.84568s\n"
     ]
    }
   ],
   "source": [
    "loc=coord.EarthLocation.of_address(\"Koroška cesta 160, Maribor, Slovenija\")\n",
    "#print(loc)\n",
    "lat=loc.lat.degree\n",
    "lon=loc.lon.degree\n",
    "print(\"Zemljepisna šririna\",loc.lat)\n",
    "print(\"Zemljepisna dolžina\",loc.lon)"
   ]
  },
  {
   "cell_type": "markdown",
   "id": "4aba6eb2",
   "metadata": {},
   "source": [
    "## Podatkovna baza\n",
    "\n",
    "Sedaj si pripravimo dva dict objekta. Prvi,**df_1min**, bo na minutni ravni hranil lego Sonca skozi časovno obdobje enega leta. Drugi, **df_dnevno**, pa bo hranil kjučne parametre povezane z lego Sonca na nebu v teku dneva."
   ]
  },
  {
   "cell_type": "code",
   "execution_count": 6,
   "id": "665186be",
   "metadata": {
    "ExecuteTime": {
     "end_time": "2023-02-28T07:34:38.142855Z",
     "start_time": "2023-02-28T07:34:38.129355Z"
    }
   },
   "outputs": [],
   "source": [
    "df_1min={}\n",
    "df_1min[\"Datum\"]=[]\n",
    "df_1min[\"Mesec\"]=[]\n",
    "df_1min[\"Dan\"]=[]\n",
    "df_1min[\"Ura\"]=[]\n",
    "df_1min[\"Minuta\"]=[]\n",
    "df_1min[\"Az\"]=[]\n",
    "df_1min[\"Alt\"]=[]\n",
    "\n",
    "df_dnevno={}\n",
    "df_dnevno[\"Datum\"]=[]\n",
    "df_dnevno[\"Mesec\"]=[]\n",
    "df_dnevno[\"Dan\"]=[]\n",
    "df_dnevno[\"Sončni vzhod lokacija\"]=[]\n",
    "df_dnevno[\"Sončni vzhod ura\"]=[]\n",
    "df_dnevno[\"Sončni zahod lokacija\"]=[]\n",
    "df_dnevno[\"Sončni zahod ura\"]=[]\n",
    "df_dnevno[\"Dolžina dneva\"]=[]\n",
    "df_dnevno[\"Alt maks\"]=[]"
   ]
  },
  {
   "cell_type": "markdown",
   "id": "58cca3db",
   "metadata": {},
   "source": [
    "## Generiranje podatkov za podatkovno bazo"
   ]
  },
  {
   "cell_type": "code",
   "execution_count": 15,
   "id": "9cd156a1",
   "metadata": {
    "ExecuteTime": {
     "end_time": "2023-02-27T23:37:37.989134Z",
     "start_time": "2023-02-27T21:20:04.742291Z"
    },
    "scrolled": true
   },
   "outputs": [
    {
     "data": {
      "application/vnd.jupyter.widget-view+json": {
       "model_id": "8144d388a4eb4374ad5083949ab9ff1f",
       "version_major": 2,
       "version_minor": 0
      },
      "text/plain": [
       "Mesec:   0%|          | 0/12 [00:00<?, ?it/s]"
      ]
     },
     "metadata": {},
     "output_type": "display_data"
    },
    {
     "data": {
      "application/vnd.jupyter.widget-view+json": {
       "model_id": "b97b90f5e08145be9632803be13322ed",
       "version_major": 2,
       "version_minor": 0
      },
      "text/plain": [
       "Dan:   0%|          | 0/31 [00:00<?, ?it/s]"
      ]
     },
     "metadata": {},
     "output_type": "display_data"
    },
    {
     "name": "stdout",
     "output_type": "stream",
     "text": [
      "1 1 2023 8.45 6.80 15.25 20.43\n",
      "2 1 2023 8.47 6.80 15.27 20.52\n",
      "3 1 2023 8.48 6.80 15.28 20.61\n",
      "4 1 2023 8.50 6.80 15.30 20.71\n",
      "5 1 2023 8.52 6.80 15.32 20.82\n",
      "6 1 2023 8.55 6.78 15.33 20.94\n",
      "7 1 2023 8.57 6.78 15.35 21.06\n",
      "8 1 2023 8.58 6.78 15.37 21.19\n",
      "9 1 2023 8.62 6.78 15.40 21.33\n",
      "10 1 2023 8.65 6.77 15.42 21.47\n",
      "11 1 2023 8.67 6.77 15.43 21.63\n",
      "12 1 2023 8.70 6.75 15.45 21.79\n",
      "13 1 2023 8.73 6.75 15.48 21.95\n",
      "14 1 2023 8.77 6.73 15.50 22.13\n",
      "15 1 2023 8.78 6.73 15.52 22.31\n",
      "16 1 2023 8.83 6.72 15.55 22.49\n",
      "17 1 2023 8.87 6.70 15.57 22.69\n",
      "18 1 2023 8.88 6.70 15.58 22.89\n",
      "19 1 2023 8.93 6.68 15.62 23.09\n",
      "20 1 2023 8.97 6.67 15.63 23.31\n",
      "21 1 2023 9.02 6.65 15.67 23.53\n",
      "22 1 2023 9.05 6.63 15.68 23.75\n",
      "23 1 2023 9.07 6.63 15.70 23.99\n",
      "24 1 2023 9.12 6.62 15.73 24.22\n",
      "25 1 2023 9.15 6.60 15.75 24.47\n",
      "26 1 2023 9.20 6.58 15.78 24.72\n",
      "27 1 2023 9.25 6.55 15.80 24.97\n",
      "28 1 2023 9.30 6.53 15.83 25.23\n",
      "29 1 2023 9.33 6.52 15.85 25.50\n",
      "30 1 2023 9.38 6.50 15.88 25.77\n",
      "31 1 2023 9.42 6.48 15.90 26.05\n"
     ]
    },
    {
     "data": {
      "application/vnd.jupyter.widget-view+json": {
       "model_id": "44d187e590194d65aa95c78a20dacdb5",
       "version_major": 2,
       "version_minor": 0
      },
      "text/plain": [
       "Dan:   0%|          | 0/28 [00:00<?, ?it/s]"
      ]
     },
     "metadata": {},
     "output_type": "display_data"
    },
    {
     "name": "stdout",
     "output_type": "stream",
     "text": [
      "1 2 2023 9.47 6.47 15.93 26.33\n",
      "2 2 2023 9.52 6.43 15.95 26.62\n",
      "3 2 2023 9.57 6.42 15.98 26.91\n",
      "4 2 2023 9.62 6.40 16.02 27.20\n",
      "5 2 2023 9.67 6.37 16.03 27.51\n",
      "6 2 2023 9.72 6.35 16.07 27.81\n",
      "7 2 2023 9.75 6.33 16.08 28.12\n",
      "8 2 2023 9.82 6.30 16.12 28.44\n",
      "9 2 2023 9.85 6.28 16.13 28.75\n",
      "10 2 2023 9.92 6.25 16.17 29.08\n",
      "11 2 2023 9.95 6.23 16.18 29.40\n",
      "12 2 2023 10.02 6.20 16.22 29.73\n",
      "13 2 2023 10.05 6.18 16.23 30.07\n",
      "14 2 2023 10.12 6.15 16.27 30.41\n",
      "15 2 2023 10.17 6.12 16.28 30.75\n",
      "16 2 2023 10.22 6.10 16.32 31.09\n",
      "17 2 2023 10.27 6.07 16.33 31.44\n",
      "18 2 2023 10.32 6.05 16.37 31.79\n",
      "19 2 2023 10.37 6.02 16.38 32.15\n",
      "20 2 2023 10.43 5.98 16.42 32.51\n",
      "21 2 2023 10.48 5.95 16.43 32.87\n",
      "22 2 2023 10.53 5.93 16.47 33.23\n",
      "23 2 2023 10.58 5.90 16.48 33.60\n",
      "24 2 2023 10.65 5.87 16.52 33.97\n",
      "25 2 2023 10.70 5.83 16.53 34.34\n",
      "26 2 2023 10.75 5.82 16.57 34.71\n",
      "27 2 2023 10.80 5.78 16.58 35.08\n",
      "28 2 2023 10.87 5.75 16.62 35.46\n"
     ]
    },
    {
     "data": {
      "application/vnd.jupyter.widget-view+json": {
       "model_id": "51b737a0a751427396605440fac22f00",
       "version_major": 2,
       "version_minor": 0
      },
      "text/plain": [
       "Dan:   0%|          | 0/31 [00:00<?, ?it/s]"
      ]
     },
     "metadata": {},
     "output_type": "display_data"
    },
    {
     "name": "stdout",
     "output_type": "stream",
     "text": [
      "1 3 2023 10.92 5.72 16.63 35.84\n",
      "2 3 2023 10.98 5.68 16.67 36.22\n",
      "3 3 2023 11.03 5.65 16.68 36.60\n",
      "4 3 2023 11.08 5.63 16.72 36.99\n",
      "5 3 2023 11.13 5.60 16.73 37.37\n",
      "6 3 2023 11.20 5.57 16.77 37.76\n",
      "7 3 2023 11.25 5.53 16.78 38.15\n",
      "8 3 2023 11.30 5.50 16.80 38.54\n",
      "9 3 2023 11.37 5.47 16.83 38.93\n",
      "10 3 2023 11.42 5.43 16.85 39.32\n",
      "11 3 2023 11.48 5.40 16.88 39.71\n",
      "12 3 2023 11.53 5.37 16.90 40.10\n",
      "13 3 2023 11.58 5.33 16.92 40.50\n",
      "14 3 2023 11.65 5.30 16.95 40.89\n",
      "15 3 2023 11.68 5.28 16.97 41.29\n",
      "16 3 2023 11.75 5.25 17.00 41.68\n",
      "17 3 2023 11.80 5.22 17.02 42.08\n",
      "18 3 2023 11.85 5.18 17.03 42.47\n",
      "19 3 2023 11.92 5.15 17.07 42.87\n",
      "20 3 2023 11.97 5.12 17.08 43.26\n",
      "21 3 2023 12.03 5.08 17.12 43.66\n",
      "22 3 2023 12.08 5.05 17.13 44.05\n",
      "23 3 2023 12.13 5.02 17.15 44.45\n",
      "24 3 2023 12.20 4.98 17.18 44.84\n",
      "25 3 2023 12.25 4.95 17.20 45.24\n",
      "26 3 2023 12.30 4.92 17.22 45.63\n",
      "27 3 2023 12.37 4.88 17.25 46.02\n",
      "28 3 2023 12.42 4.85 17.27 46.41\n",
      "29 3 2023 12.47 4.82 17.28 46.80\n",
      "30 3 2023 12.53 4.78 17.32 47.19\n",
      "31 3 2023 12.58 4.75 17.33 47.58\n"
     ]
    },
    {
     "data": {
      "application/vnd.jupyter.widget-view+json": {
       "model_id": "49fa378ffc7b4f398abd5f412bef13c6",
       "version_major": 2,
       "version_minor": 0
      },
      "text/plain": [
       "Dan:   0%|          | 0/30 [00:00<?, ?it/s]"
      ]
     },
     "metadata": {},
     "output_type": "display_data"
    },
    {
     "name": "stdout",
     "output_type": "stream",
     "text": [
      "1 4 2023 12.63 4.72 17.35 47.97\n",
      "2 4 2023 12.70 4.68 17.38 48.35\n",
      "3 4 2023 12.75 4.65 17.40 48.74\n",
      "4 4 2023 12.82 4.62 17.43 49.12\n",
      "5 4 2023 12.85 4.60 17.45 49.50\n",
      "6 4 2023 12.90 4.57 17.47 49.88\n",
      "7 4 2023 12.97 4.53 17.50 50.25\n",
      "8 4 2023 13.02 4.50 17.52 50.63\n",
      "9 4 2023 13.07 4.47 17.53 51.00\n",
      "10 4 2023 13.13 4.43 17.57 51.37\n",
      "11 4 2023 13.18 4.40 17.58 51.74\n",
      "12 4 2023 13.23 4.37 17.60 52.11\n",
      "13 4 2023 13.30 4.33 17.63 52.47\n",
      "14 4 2023 13.33 4.32 17.65 52.83\n",
      "15 4 2023 13.38 4.28 17.67 53.19\n",
      "16 4 2023 13.45 4.25 17.70 53.55\n",
      "17 4 2023 13.50 4.22 17.72 53.90\n",
      "18 4 2023 13.55 4.18 17.73 54.25\n",
      "19 4 2023 13.60 4.17 17.77 54.60\n",
      "20 4 2023 13.65 4.13 17.78 54.95\n",
      "21 4 2023 13.70 4.10 17.80 55.29\n",
      "22 4 2023 13.77 4.07 17.83 55.62\n",
      "23 4 2023 13.80 4.05 17.85 55.96\n",
      "24 4 2023 13.85 4.02 17.87 56.29\n",
      "25 4 2023 13.92 3.98 17.90 56.62\n",
      "26 4 2023 13.95 3.97 17.92 56.94\n",
      "27 4 2023 14.00 3.93 17.93 57.26\n",
      "28 4 2023 14.07 3.90 17.97 57.58\n",
      "29 4 2023 14.10 3.88 17.98 57.89\n",
      "30 4 2023 14.15 3.85 18.00 58.20\n"
     ]
    },
    {
     "data": {
      "application/vnd.jupyter.widget-view+json": {
       "model_id": "ad7d5d90fa2c41e1be229e905ef7ae26",
       "version_major": 2,
       "version_minor": 0
      },
      "text/plain": [
       "Dan:   0%|          | 0/31 [00:00<?, ?it/s]"
      ]
     },
     "metadata": {},
     "output_type": "display_data"
    },
    {
     "name": "stdout",
     "output_type": "stream",
     "text": [
      "1 5 2023 14.20 3.83 18.03 58.51\n",
      "2 5 2023 14.25 3.80 18.05 58.81\n",
      "3 5 2023 14.30 3.77 18.07 59.10\n",
      "4 5 2023 14.35 3.75 18.10 59.40\n",
      "5 5 2023 14.40 3.72 18.12 59.68\n",
      "6 5 2023 14.43 3.70 18.13 59.97\n",
      "7 5 2023 14.47 3.68 18.15 60.24\n",
      "8 5 2023 14.53 3.65 18.18 60.52\n",
      "9 5 2023 14.57 3.63 18.20 60.79\n",
      "10 5 2023 14.62 3.60 18.22 61.05\n",
      "11 5 2023 14.65 3.58 18.23 61.31\n",
      "12 5 2023 14.70 3.57 18.27 61.56\n",
      "13 5 2023 14.73 3.55 18.28 61.81\n",
      "14 5 2023 14.78 3.52 18.30 62.06\n",
      "15 5 2023 14.82 3.50 18.32 62.30\n",
      "16 5 2023 14.87 3.48 18.35 62.53\n",
      "17 5 2023 14.90 3.47 18.37 62.76\n",
      "18 5 2023 14.93 3.45 18.38 62.98\n",
      "19 5 2023 14.97 3.43 18.40 63.20\n",
      "20 5 2023 15.00 3.42 18.42 63.41\n",
      "21 5 2023 15.03 3.40 18.43 63.62\n",
      "22 5 2023 15.07 3.38 18.45 63.82\n",
      "23 5 2023 15.12 3.37 18.48 64.01\n",
      "24 5 2023 15.15 3.35 18.50 64.20\n",
      "25 5 2023 15.18 3.33 18.52 64.38\n",
      "26 5 2023 15.22 3.32 18.53 64.56\n",
      "27 5 2023 15.25 3.30 18.55 64.73\n",
      "28 5 2023 15.28 3.28 18.57 64.89\n",
      "29 5 2023 15.30 3.28 18.58 65.05\n",
      "30 5 2023 15.33 3.27 18.60 65.20\n",
      "31 5 2023 15.37 3.25 18.62 65.35\n"
     ]
    },
    {
     "data": {
      "application/vnd.jupyter.widget-view+json": {
       "model_id": "a3ea9354b0ef4ef5bc1b27907b7d738d",
       "version_major": 2,
       "version_minor": 0
      },
      "text/plain": [
       "Dan:   0%|          | 0/30 [00:00<?, ?it/s]"
      ]
     },
     "metadata": {},
     "output_type": "display_data"
    },
    {
     "name": "stdout",
     "output_type": "stream",
     "text": [
      "1 6 2023 15.37 3.25 18.62 65.49\n",
      "2 6 2023 15.40 3.23 18.63 65.62\n",
      "3 6 2023 15.42 3.23 18.65 65.75\n",
      "4 6 2023 15.45 3.22 18.67 65.87\n",
      "5 6 2023 15.47 3.22 18.68 65.98\n",
      "6 6 2023 15.48 3.20 18.68 66.08\n",
      "7 6 2023 15.50 3.20 18.70 66.18\n",
      "8 6 2023 15.53 3.18 18.72 66.28\n",
      "9 6 2023 15.55 3.18 18.73 66.36\n",
      "10 6 2023 15.55 3.18 18.73 66.44\n",
      "11 6 2023 15.57 3.18 18.75 66.52\n",
      "12 6 2023 15.57 3.18 18.75 66.58\n",
      "13 6 2023 15.60 3.17 18.77 66.64\n",
      "14 6 2023 15.60 3.17 18.77 66.70\n",
      "15 6 2023 15.62 3.17 18.78 66.74\n",
      "16 6 2023 15.62 3.17 18.78 66.78\n",
      "17 6 2023 15.63 3.17 18.80 66.81\n",
      "18 6 2023 15.63 3.17 18.80 66.84\n",
      "19 6 2023 15.63 3.17 18.80 66.86\n",
      "20 6 2023 15.63 3.18 18.82 66.87\n",
      "21 6 2023 15.63 3.18 18.82 66.87\n",
      "22 6 2023 15.63 3.18 18.82 66.87\n",
      "23 6 2023 15.63 3.18 18.82 66.86\n",
      "24 6 2023 15.63 3.18 18.82 66.85\n",
      "25 6 2023 15.62 3.20 18.82 66.82\n",
      "26 6 2023 15.62 3.20 18.82 66.79\n",
      "27 6 2023 15.60 3.22 18.82 66.76\n",
      "28 6 2023 15.60 3.22 18.82 66.71\n",
      "29 6 2023 15.58 3.23 18.82 66.66\n",
      "30 6 2023 15.58 3.23 18.82 66.61\n"
     ]
    },
    {
     "data": {
      "application/vnd.jupyter.widget-view+json": {
       "model_id": "a7a8d4c74810403dbc7d8b897a73530c",
       "version_major": 2,
       "version_minor": 0
      },
      "text/plain": [
       "Dan:   0%|          | 0/31 [00:00<?, ?it/s]"
      ]
     },
     "metadata": {},
     "output_type": "display_data"
    },
    {
     "name": "stdout",
     "output_type": "stream",
     "text": [
      "1 7 2023 15.57 3.25 18.82 66.54\n",
      "2 7 2023 15.57 3.25 18.82 66.47\n",
      "3 7 2023 15.53 3.27 18.80 66.39\n",
      "4 7 2023 15.53 3.27 18.80 66.31\n",
      "5 7 2023 15.52 3.28 18.80 66.22\n",
      "6 7 2023 15.48 3.30 18.78 66.12\n",
      "7 7 2023 15.48 3.30 18.78 66.02\n",
      "8 7 2023 15.47 3.32 18.78 65.91\n",
      "9 7 2023 15.43 3.33 18.77 65.79\n",
      "10 7 2023 15.40 3.35 18.75 65.67\n",
      "11 7 2023 15.38 3.37 18.75 65.54\n",
      "12 7 2023 15.35 3.38 18.73 65.40\n",
      "13 7 2023 15.35 3.38 18.73 65.26\n",
      "14 7 2023 15.32 3.40 18.72 65.11\n",
      "15 7 2023 15.28 3.42 18.70 64.96\n",
      "16 7 2023 15.25 3.43 18.68 64.80\n",
      "17 7 2023 15.23 3.45 18.68 64.63\n",
      "18 7 2023 15.20 3.47 18.67 64.46\n",
      "19 7 2023 15.17 3.48 18.65 64.28\n",
      "20 7 2023 15.13 3.50 18.63 64.09\n",
      "21 7 2023 15.10 3.52 18.62 63.90\n",
      "22 7 2023 15.07 3.53 18.60 63.71\n",
      "23 7 2023 15.03 3.55 18.58 63.51\n",
      "24 7 2023 14.98 3.58 18.57 63.30\n",
      "25 7 2023 14.95 3.60 18.55 63.09\n",
      "26 7 2023 14.92 3.62 18.53 62.87\n",
      "27 7 2023 14.88 3.63 18.52 62.65\n",
      "28 7 2023 14.83 3.65 18.48 62.42\n",
      "29 7 2023 14.80 3.67 18.47 62.18\n",
      "30 7 2023 14.77 3.68 18.45 61.94\n",
      "31 7 2023 14.72 3.72 18.43 61.70\n"
     ]
    },
    {
     "data": {
      "application/vnd.jupyter.widget-view+json": {
       "model_id": "64fcf812c1ba4f2d8b43f19fb935bc13",
       "version_major": 2,
       "version_minor": 0
      },
      "text/plain": [
       "Dan:   0%|          | 0/31 [00:00<?, ?it/s]"
      ]
     },
     "metadata": {},
     "output_type": "display_data"
    },
    {
     "name": "stdout",
     "output_type": "stream",
     "text": [
      "1 8 2023 14.67 3.73 18.40 61.45\n",
      "2 8 2023 14.63 3.75 18.38 61.20\n",
      "3 8 2023 14.60 3.77 18.37 60.94\n",
      "4 8 2023 14.55 3.78 18.33 60.67\n",
      "5 8 2023 14.52 3.80 18.32 60.41\n",
      "6 8 2023 14.45 3.83 18.28 60.13\n",
      "7 8 2023 14.42 3.85 18.27 59.86\n",
      "8 8 2023 14.37 3.87 18.23 59.57\n",
      "9 8 2023 14.33 3.88 18.22 59.29\n",
      "10 8 2023 14.27 3.92 18.18 59.00\n",
      "11 8 2023 14.23 3.93 18.17 58.70\n",
      "12 8 2023 14.18 3.95 18.13 58.41\n",
      "13 8 2023 14.15 3.97 18.12 58.10\n",
      "14 8 2023 14.08 4.00 18.08 57.80\n",
      "15 8 2023 14.03 4.02 18.05 57.49\n",
      "16 8 2023 14.00 4.03 18.03 57.17\n",
      "17 8 2023 13.95 4.05 18.00 56.85\n",
      "18 8 2023 13.88 4.08 17.97 56.53\n",
      "19 8 2023 13.85 4.10 17.95 56.21\n",
      "20 8 2023 13.80 4.12 17.92 55.88\n",
      "21 8 2023 13.75 4.13 17.88 55.55\n",
      "22 8 2023 13.68 4.17 17.85 55.22\n",
      "23 8 2023 13.65 4.18 17.83 54.88\n",
      "24 8 2023 13.60 4.20 17.80 54.54\n",
      "25 8 2023 13.53 4.23 17.77 54.19\n",
      "26 8 2023 13.48 4.25 17.73 53.85\n",
      "27 8 2023 13.43 4.27 17.70 53.50\n",
      "28 8 2023 13.38 4.28 17.67 53.15\n",
      "29 8 2023 13.33 4.32 17.65 52.79\n",
      "30 8 2023 13.28 4.33 17.62 52.44\n",
      "31 8 2023 13.23 4.35 17.58 52.08\n"
     ]
    },
    {
     "data": {
      "application/vnd.jupyter.widget-view+json": {
       "model_id": "34657d17e58c477bafdf321710f8afe5",
       "version_major": 2,
       "version_minor": 0
      },
      "text/plain": [
       "Dan:   0%|          | 0/30 [00:00<?, ?it/s]"
      ]
     },
     "metadata": {},
     "output_type": "display_data"
    },
    {
     "name": "stdout",
     "output_type": "stream",
     "text": [
      "1 9 2023 13.18 4.37 17.55 51.72\n",
      "2 9 2023 13.12 4.40 17.52 51.35\n",
      "3 9 2023 13.07 4.42 17.48 50.99\n",
      "4 9 2023 13.02 4.43 17.45 50.62\n",
      "5 9 2023 12.97 4.45 17.42 50.25\n",
      "6 9 2023 12.90 4.48 17.38 49.88\n",
      "7 9 2023 12.85 4.50 17.35 49.51\n",
      "8 9 2023 12.80 4.52 17.32 49.13\n",
      "9 9 2023 12.73 4.55 17.28 48.76\n",
      "10 9 2023 12.70 4.57 17.27 48.38\n",
      "11 9 2023 12.65 4.58 17.23 48.00\n",
      "12 9 2023 12.60 4.60 17.20 47.62\n",
      "13 9 2023 12.53 4.63 17.17 47.24\n",
      "14 9 2023 12.48 4.65 17.13 46.85\n",
      "15 9 2023 12.43 4.67 17.10 46.47\n",
      "16 9 2023 12.38 4.68 17.07 46.08\n",
      "17 9 2023 12.32 4.72 17.03 45.70\n",
      "18 9 2023 12.27 4.73 17.00 45.31\n",
      "19 9 2023 12.22 4.75 16.97 44.92\n",
      "20 9 2023 12.15 4.78 16.93 44.54\n",
      "21 9 2023 12.10 4.80 16.90 44.15\n",
      "22 9 2023 12.05 4.82 16.87 43.76\n",
      "23 9 2023 12.00 4.83 16.83 43.37\n",
      "24 9 2023 11.93 4.87 16.80 42.98\n",
      "25 9 2023 11.88 4.88 16.77 42.59\n",
      "26 9 2023 11.83 4.90 16.73 42.20\n",
      "27 9 2023 11.77 4.93 16.70 41.81\n",
      "28 9 2023 11.72 4.95 16.67 41.42\n",
      "29 9 2023 11.67 4.97 16.63 41.04\n",
      "30 9 2023 11.60 5.00 16.60 40.65\n"
     ]
    },
    {
     "data": {
      "application/vnd.jupyter.widget-view+json": {
       "model_id": "9871c0e516ff4cfe9b4d8e63cbb5020a",
       "version_major": 2,
       "version_minor": 0
      },
      "text/plain": [
       "Dan:   0%|          | 0/31 [00:00<?, ?it/s]"
      ]
     },
     "metadata": {},
     "output_type": "display_data"
    },
    {
     "name": "stdout",
     "output_type": "stream",
     "text": [
      "1 10 2023 11.55 5.02 16.57 40.26\n",
      "2 10 2023 11.50 5.03 16.53 39.87\n",
      "3 10 2023 11.43 5.07 16.50 39.49\n",
      "4 10 2023 11.38 5.08 16.47 39.10\n",
      "5 10 2023 11.33 5.10 16.43 38.71\n",
      "6 10 2023 11.27 5.13 16.40 38.33\n",
      "7 10 2023 11.22 5.15 16.37 37.95\n",
      "8 10 2023 11.17 5.17 16.33 37.57\n",
      "9 10 2023 11.10 5.20 16.30 37.18\n",
      "10 10 2023 11.05 5.22 16.27 36.81\n",
      "11 10 2023 11.02 5.23 16.25 36.43\n",
      "12 10 2023 10.95 5.27 16.22 36.05\n",
      "13 10 2023 10.90 5.28 16.18 35.68\n",
      "14 10 2023 10.85 5.30 16.15 35.30\n",
      "15 10 2023 10.78 5.33 16.12 34.93\n",
      "16 10 2023 10.73 5.35 16.08 34.56\n",
      "17 10 2023 10.67 5.38 16.05 34.20\n",
      "18 10 2023 10.63 5.40 16.03 33.83\n",
      "19 10 2023 10.57 5.43 16.00 33.47\n",
      "20 10 2023 10.52 5.45 15.97 33.11\n",
      "21 10 2023 10.47 5.47 15.93 32.75\n",
      "22 10 2023 10.42 5.50 15.92 32.40\n",
      "23 10 2023 10.37 5.52 15.88 32.04\n",
      "24 10 2023 10.30 5.55 15.85 31.70\n",
      "25 10 2023 10.25 5.57 15.82 31.35\n",
      "26 10 2023 10.20 5.60 15.80 31.01\n",
      "27 10 2023 10.15 5.62 15.77 30.67\n",
      "28 10 2023 10.12 5.63 15.75 30.33\n",
      "29 10 2023 10.05 5.67 15.72 30.00\n",
      "30 10 2023 10.00 5.68 15.68 29.67\n",
      "31 10 2023 9.95 5.72 15.67 29.34\n"
     ]
    },
    {
     "data": {
      "application/vnd.jupyter.widget-view+json": {
       "model_id": "8973cae59d8a414b8d0a5aeb44137c2a",
       "version_major": 2,
       "version_minor": 0
      },
      "text/plain": [
       "Dan:   0%|          | 0/30 [00:00<?, ?it/s]"
      ]
     },
     "metadata": {},
     "output_type": "display_data"
    },
    {
     "name": "stdout",
     "output_type": "stream",
     "text": [
      "1 11 2023 9.90 5.73 15.63 29.02\n",
      "2 11 2023 9.85 5.77 15.62 28.70\n",
      "3 11 2023 9.80 5.78 15.58 28.39\n",
      "4 11 2023 9.75 5.82 15.57 28.08\n",
      "5 11 2023 9.70 5.83 15.53 27.77\n",
      "6 11 2023 9.65 5.87 15.52 27.47\n",
      "7 11 2023 9.62 5.88 15.50 27.17\n",
      "8 11 2023 9.55 5.92 15.47 26.88\n",
      "9 11 2023 9.52 5.93 15.45 26.59\n",
      "10 11 2023 9.47 5.97 15.43 26.31\n",
      "11 11 2023 9.42 5.98 15.40 26.03\n",
      "12 11 2023 9.37 6.02 15.38 25.75\n",
      "13 11 2023 9.33 6.03 15.37 25.48\n",
      "14 11 2023 9.30 6.05 15.35 25.22\n",
      "15 11 2023 9.25 6.08 15.33 24.96\n",
      "16 11 2023 9.22 6.10 15.32 24.71\n",
      "17 11 2023 9.17 6.13 15.30 24.46\n",
      "18 11 2023 9.13 6.15 15.28 24.22\n",
      "19 11 2023 9.08 6.18 15.27 23.99\n",
      "20 11 2023 9.05 6.20 15.25 23.76\n",
      "21 11 2023 9.02 6.22 15.23 23.53\n",
      "22 11 2023 8.97 6.25 15.22 23.31\n",
      "23 11 2023 8.93 6.27 15.20 23.10\n",
      "24 11 2023 8.88 6.30 15.18 22.90\n",
      "25 11 2023 8.85 6.32 15.17 22.70\n",
      "26 11 2023 8.83 6.33 15.17 22.50\n",
      "27 11 2023 8.78 6.37 15.15 22.32\n",
      "28 11 2023 8.75 6.38 15.13 22.14\n",
      "29 11 2023 8.73 6.40 15.13 21.97\n",
      "30 11 2023 8.70 6.42 15.12 21.80\n"
     ]
    },
    {
     "data": {
      "application/vnd.jupyter.widget-view+json": {
       "model_id": "a3f26f62d8ce41aa986f68e928a5832c",
       "version_major": 2,
       "version_minor": 0
      },
      "text/plain": [
       "Dan:   0%|          | 0/31 [00:00<?, ?it/s]"
      ]
     },
     "metadata": {},
     "output_type": "display_data"
    },
    {
     "name": "stdout",
     "output_type": "stream",
     "text": [
      "1 12 2023 8.67 6.45 15.12 21.64\n",
      "2 12 2023 8.63 6.47 15.10 21.49\n",
      "3 12 2023 8.62 6.48 15.10 21.34\n",
      "4 12 2023 8.60 6.50 15.10 21.20\n",
      "5 12 2023 8.57 6.52 15.08 21.07\n",
      "6 12 2023 8.55 6.53 15.08 20.95\n",
      "7 12 2023 8.53 6.55 15.08 20.83\n",
      "8 12 2023 8.52 6.57 15.08 20.72\n",
      "9 12 2023 8.48 6.60 15.08 20.62\n",
      "10 12 2023 8.48 6.60 15.08 20.53\n",
      "11 12 2023 8.47 6.62 15.08 20.44\n",
      "12 12 2023 8.45 6.63 15.08 20.36\n",
      "13 12 2023 8.43 6.65 15.08 20.29\n",
      "14 12 2023 8.42 6.67 15.08 20.23\n",
      "15 12 2023 8.40 6.68 15.08 20.17\n",
      "16 12 2023 8.38 6.70 15.08 20.12\n",
      "17 12 2023 8.38 6.70 15.08 20.08\n",
      "18 12 2023 8.38 6.72 15.10 20.05\n",
      "19 12 2023 8.37 6.73 15.10 20.02\n",
      "20 12 2023 8.38 6.73 15.12 20.01\n",
      "21 12 2023 8.37 6.75 15.12 20.00\n",
      "22 12 2023 8.37 6.75 15.12 20.00\n",
      "23 12 2023 8.37 6.77 15.13 20.00\n",
      "24 12 2023 8.38 6.77 15.15 20.02\n",
      "25 12 2023 8.37 6.78 15.15 20.04\n",
      "26 12 2023 8.38 6.78 15.17 20.07\n",
      "27 12 2023 8.40 6.78 15.18 20.11\n",
      "28 12 2023 8.40 6.78 15.18 20.15\n",
      "29 12 2023 8.40 6.80 15.20 20.21\n",
      "30 12 2023 8.42 6.80 15.22 20.27\n",
      "31 12 2023 8.43 6.80 15.23 20.33\n"
     ]
    }
   ],
   "source": [
    "leto=2023\n",
    "\n",
    "dmesec=1\n",
    "ddan=1\n",
    "\n",
    "start_h=0\n",
    "end_h=24\n",
    "dh=1\n",
    "for mesec in tqdm(range(1,13,dmesec),desc=\"Mesec\"):\n",
    "    stevilo_dni=monthrange(leto, mesec)[1]\n",
    "    for dan in tqdm(range(1,stevilo_dni+1,ddan),desc=\"Dan\"):\n",
    "        \n",
    "        vzhod=False\n",
    "        alt_list=[]\n",
    "        \n",
    "        vzhod_loc=None\n",
    "        vzhod_t=None\n",
    "        \n",
    "        zahod_loc=None\n",
    "        zahod_t=None\n",
    "        for h in range(start_h,end_h,dh):\n",
    "            for m in range(0,60,1):\n",
    "                t=f\"{leto:04d}-{mesec:02d}-{dan:02d}T{h:02d}:{m:02d}:00\"\n",
    "                t=\"%04d-%02d-%02dT%02d:%02d:00\"%(leto,mesec,dan,h,m)\n",
    "                altaz = coord.AltAz(location=loc, obstime=t)\n",
    "                sun = coord.get_sun(Time(t, format='isot', scale='utc'))\n",
    "                y=sun.transform_to(altaz).alt.degree\n",
    "                y2=sun.transform_to(altaz).az.degree\n",
    "                df_1min[\"Datum\"].append(t)\n",
    "                df_1min[\"Mesec\"].append(mesec)\n",
    "                df_1min[\"Dan\"].append(dan)\n",
    "                df_1min[\"Ura\"].append(h)\n",
    "                df_1min[\"Minuta\"].append(m)\n",
    "                df_1min[\"Az\"].append(y2)\n",
    "                df_1min[\"Alt\"].append(y)\n",
    "                \n",
    "                alt_list.append(y)\n",
    "                \n",
    "                if not vzhod and len(df_1min[\"Alt\"])>1:\n",
    "                    if df_1min[\"Alt\"][-2]*df_1min[\"Alt\"][-1]<0:\n",
    "                        vzhod=True\n",
    "                        vzhod_loc=y2\n",
    "                        vzhod_t=h+m/60.0\n",
    "\n",
    "                if vzhod and df_1min[\"Alt\"][-2]>0 and df_1min[\"Alt\"][-1]<0:\n",
    "                    \n",
    "                    zahod_loc=y2\n",
    "                    zahod_t=h+m/60.0\n",
    "        dt=zahod_t-vzhod_t\n",
    "        \n",
    "        df_dnevno[\"Datum\"].append(t)\n",
    "        df_dnevno[\"Mesec\"].append(mesec)\n",
    "        df_dnevno[\"Dan\"].append(dan)\n",
    "        df_dnevno[\"Sončni vzhod lokacija\"].append(vzhod_loc)\n",
    "        df_dnevno[\"Sončni vzhod ura\"].append(vzhod_t)\n",
    "        df_dnevno[\"Sončni zahod lokacija\"].append(zahod_loc)\n",
    "        df_dnevno[\"Sončni zahod ura\"].append(zahod_t)\n",
    "        df_dnevno[\"Dolžina dneva\"].append(dt)\n",
    "        df_dnevno[\"Alt maks\"].append(max(alt_list))\n",
    "        print(dan,mesec,leto,\"%.2f\"%dt,\"%.2f\"%vzhod_t,\"%.2f\"%zahod_t,\"%.2f\"%max(alt_list))"
   ]
  },
  {
   "cell_type": "markdown",
   "id": "145040d7",
   "metadata": {},
   "source": [
    "## Izvoz podatkov"
   ]
  },
  {
   "cell_type": "code",
   "execution_count": 18,
   "id": "23f3b4f2",
   "metadata": {
    "ExecuteTime": {
     "end_time": "2023-02-27T23:37:47.836023Z",
     "start_time": "2023-02-27T23:37:44.673778Z"
    }
   },
   "outputs": [],
   "source": [
    "import pandas as pd\n",
    "df_dnevno=pd.DataFrame.from_dict(df_dnevno)\n",
    "df_dnevno.to_csv(\"solar_daily.csv\")\n",
    "\n",
    "df_1min=pd.DataFrame.from_dict(df_1min)\n",
    "df_1min.to_csv(\"solar_minute.csv\")"
   ]
  },
  {
   "cell_type": "markdown",
   "id": "a5f9a03c",
   "metadata": {},
   "source": [
    "# Prispevek Sonca\n",
    "\n",
    "## Uvozi podatke"
   ]
  },
  {
   "cell_type": "code",
   "execution_count": null,
   "id": "186597b6",
   "metadata": {
    "ExecuteTime": {
     "end_time": "2023-02-28T07:42:26.752705Z",
     "start_time": "2023-02-28T07:42:26.206842Z"
    }
   },
   "outputs": [],
   "source": [
    "import pandas as pd\n",
    "import matplotlib.pyplot as plt\n",
    "\n",
    "df_dnevno=pd.read_csv(\"solar_daily.csv\")\n",
    "df_1min=pd.read_csv(\"solar_minute.csv\")\n",
    "\n",
    "print(df_dnevno.columns)"
   ]
  },
  {
   "cell_type": "code",
   "execution_count": 43,
   "id": "f6e5bc33",
   "metadata": {
    "ExecuteTime": {
     "end_time": "2023-02-28T08:32:26.795297Z",
     "start_time": "2023-02-28T08:32:26.774748Z"
    }
   },
   "outputs": [],
   "source": [
    "def ZM(kot):\n",
    "    '''\n",
    "    kot - kot med navpičnico na površino in vpadno smerjo Sončnih žarkov.\n",
    "    '''\n",
    "    return 1.0/(np.cos(kot*np.pi/180.0)+0.50572*np.power(96.07995-kot,-1.6364))\n",
    "\n",
    "def Rp(alfa):\n",
    "    '''\n",
    "    Rp je relativni sevalni tok sonca.\n",
    "    Rp je potrebno pomnožiti z I0, da dobimo\n",
    "    absolutni sevalni tok.\n",
    "    '''\n",
    "    return np.power(0.7,np.power(ZM(alfa),0.678))*np.cos(alfa)\n",
    "\n",
    "def d2r(kot):\n",
    "    #Pretvori kot v radiane\n",
    "    return kot*np.pi/180.0\n",
    "\n",
    "def f_vzhod(alfa,beta):\n",
    "    s1=np.sin(d2r(alfa))*np.cos(d2r(beta))\n",
    "    if (s1<0 or beta<0):\n",
    "        s1=0\n",
    "    return (s1)#/np.sin(d2r(alfa))\n",
    "\n",
    "def f_jug(alfa,beta):\n",
    "    s1=np.cos(d2r(alfa-180))*np.cos(d2r(beta))\n",
    "    if (s1<0 or beta<0):\n",
    "        s1=0\n",
    "    return (s1)#/np.sin(d2r(alfa))\n",
    "\n",
    "def f_zahod(alfa,beta):\n",
    "    s1=np.sin(d2r(alfa)+180)*np.cos(d2r(beta))\n",
    "    if (s1<0 or beta<0):\n",
    "        s1=0\n",
    "    return (s1)#/np.sin(d2r(alfa))\n",
    "\n",
    "def f_streha(alfa,beta):\n",
    "    s1=np.cos(d2r(beta-90))\n",
    "    if s1<0:\n",
    "        s1=0\n",
    "    return (s1)#/np.sin(d2r(alfa))\n",
    "\n",
    "def f(alfa,beta):\n",
    "    return [f_vzhod(alfa,beta),f_jug(alfa,beta),f_zahod(alfa,beta),f_streha(alfa,beta)]"
   ]
  },
  {
   "cell_type": "markdown",
   "id": "8f87cd29",
   "metadata": {},
   "source": [
    "$$ f=\\frac{sin(\\alpha)cos(\\beta)+cos(\\alpha)\\ast c o s(\\gamma_S-\\gamma)\\ast s i n(\\beta)}{sin(\\alpha)}$$\n",
    "\n",
    "$\\alpha$ - višina Sonca <br>\n",
    "$\\beta$ - je nagnjenost površine (navpično je 90°) <br>\n",
    "$\\gamma_S$ - je usmerjenost površine (jug = 0°, zahod = +90°) <br>\n",
    "\n",
    ". S tem korekcijskim faktorjem lahko tako za vsako stran plastenjaka določimo efektivno površino, skozi katero vpada sončna svetloba, na določene dan v letu ob določeni uri. Spreminjanje tega korekcijskega faktorja za dva izbrana datuma v teku dneva je prikazan v sliki (15)."
   ]
  },
  {
   "cell_type": "code",
   "execution_count": null,
   "id": "7b1cdc4a",
   "metadata": {
    "ExecuteTime": {
     "end_time": "2023-02-28T08:51:10.783893Z",
     "start_time": "2023-02-28T08:47:57.910827Z"
    }
   },
   "outputs": [],
   "source": [
    "for i,ii in df_1min.loc[60*7::].head(10).iterrows():\n",
    "    print(ii[\"Ura\"],ii[\"Minuta\"],ii[\"Az\"],ii[\"Alt\"],f_jug(ii[\"Az\"],ii[\"Alt\"]))\n",
    "\n",
    "    tqdm.pandas(desc=\"Rp\")\n",
    "df_1min[\"Rp\"]=df_1min[[\"Alt\"]].progress_apply(lambda x:Rp(x),axis=1)\n",
    "\n",
    "tqdm.pandas(desc=\"jug\")\n",
    "df_1min[\"f_jug\"]=df_1min[[\"Az\",\"Alt\"]].progress_apply(lambda x:f_jug(x[\"Az\"],x[\"Alt\"]),axis=1)\n",
    "tqdm.pandas(desc=\"vzhod\")\n",
    "df_1min[\"f_vzhod\"]=df_1min[[\"Az\",\"Alt\"]].progress_apply(lambda x:f_vzhod(x[\"Az\"],x[\"Alt\"]),axis=1)\n",
    "\n",
    "tqdm.pandas(desc=\"zahod\")\n",
    "df_1min[\"f_zahod\"]=df_1min[[\"Az\",\"Alt\"]].progress_apply(lambda x:f_zahod(x[\"Az\"],x[\"Alt\"]),axis=1)\n",
    "\n",
    "tqdm.pandas(desc=\"streha\")\n",
    "df_1min[\"f_streha\"]=df_1min[[\"Az\",\"Alt\"]].progress_apply(lambda x:f_streha(x[\"Az\"],x[\"Alt\"]),axis=1)"
   ]
  },
  {
   "cell_type": "code",
   "execution_count": null,
   "id": "1a653400",
   "metadata": {
    "ExecuteTime": {
     "end_time": "2023-02-28T08:41:27.829370Z",
     "start_time": "2023-02-28T08:41:27.829370Z"
    }
   },
   "outputs": [],
   "source": [
    "display(df_1min[(df_1min[\"Mesec\"]==2) & ((df_1min[\"Dan\"]==8))].head(5))\n",
    "\n",
    "dfs=df_1min[(df_1min[\"Mesec\"]==2) & ((df_1min[\"Dan\"]==8))]\n",
    "\n",
    "plt.plot(dfs[\"f_jug\"],label=\"J\")\n",
    "plt.plot(dfs[\"f_vzhod\"],label=\"V\")\n",
    "plt.plot(dfs[\"f_zahod\"],label=\"Z\")\n",
    "plt.plot(dfs[\"f_streha\"],label=\"Streha\")\n",
    "plt.ylim(0,1)\n",
    "plt.legend()\n",
    "plt.show()\n",
    "\n",
    "dfs=df_1min[(df_1min[\"Mesec\"]==7) & ((df_1min[\"Dan\"]==8))]\n",
    "\n",
    "plt.plot(dfs[\"f_jug\"],label=\"J\")\n",
    "plt.plot(dfs[\"f_vzhod\"],label=\"V\")\n",
    "plt.plot(dfs[\"f_zahod\"],label=\"Z\")\n",
    "plt.plot(dfs[\"f_streha\"],label=\"Streha\")\n",
    "plt.ylim(0,1)\n",
    "plt.legend()\n",
    "plt.show()"
   ]
  },
  {
   "cell_type": "code",
   "execution_count": 50,
   "id": "2ee07bab",
   "metadata": {
    "ExecuteTime": {
     "end_time": "2023-02-28T08:52:46.923976Z",
     "start_time": "2023-02-28T08:52:46.871365Z"
    }
   },
   "outputs": [
    {
     "data": {
      "text/html": [
       "<div>\n",
       "<style scoped>\n",
       "    .dataframe tbody tr th:only-of-type {\n",
       "        vertical-align: middle;\n",
       "    }\n",
       "\n",
       "    .dataframe tbody tr th {\n",
       "        vertical-align: top;\n",
       "    }\n",
       "\n",
       "    .dataframe thead th {\n",
       "        text-align: right;\n",
       "    }\n",
       "</style>\n",
       "<table border=\"1\" class=\"dataframe\">\n",
       "  <thead>\n",
       "    <tr style=\"text-align: right;\">\n",
       "      <th></th>\n",
       "      <th>date</th>\n",
       "      <th>time</th>\n",
       "      <th>T</th>\n",
       "      <th>J</th>\n",
       "    </tr>\n",
       "  </thead>\n",
       "  <tbody>\n",
       "    <tr>\n",
       "      <th>0</th>\n",
       "      <td>2021-01-01</td>\n",
       "      <td>00:00</td>\n",
       "      <td>1.30</td>\n",
       "      <td>0.0</td>\n",
       "    </tr>\n",
       "    <tr>\n",
       "      <th>1</th>\n",
       "      <td>2021-01-01</td>\n",
       "      <td>01:00</td>\n",
       "      <td>1.25</td>\n",
       "      <td>0.0</td>\n",
       "    </tr>\n",
       "    <tr>\n",
       "      <th>2</th>\n",
       "      <td>2021-01-01</td>\n",
       "      <td>02:00</td>\n",
       "      <td>1.15</td>\n",
       "      <td>0.0</td>\n",
       "    </tr>\n",
       "    <tr>\n",
       "      <th>3</th>\n",
       "      <td>2021-01-01</td>\n",
       "      <td>03:00</td>\n",
       "      <td>0.95</td>\n",
       "      <td>0.0</td>\n",
       "    </tr>\n",
       "    <tr>\n",
       "      <th>4</th>\n",
       "      <td>2021-01-01</td>\n",
       "      <td>04:00</td>\n",
       "      <td>0.80</td>\n",
       "      <td>0.0</td>\n",
       "    </tr>\n",
       "  </tbody>\n",
       "</table>\n",
       "</div>"
      ],
      "text/plain": [
       "         date   time     T    J\n",
       "0  2021-01-01  00:00  1.30  0.0\n",
       "1  2021-01-01  01:00  1.25  0.0\n",
       "2  2021-01-01  02:00  1.15  0.0\n",
       "3  2021-01-01  03:00  0.95  0.0\n",
       "4  2021-01-01  04:00  0.80  0.0"
      ]
     },
     "metadata": {},
     "output_type": "display_data"
    },
    {
     "data": {
      "text/html": [
       "<div>\n",
       "<style scoped>\n",
       "    .dataframe tbody tr th:only-of-type {\n",
       "        vertical-align: middle;\n",
       "    }\n",
       "\n",
       "    .dataframe tbody tr th {\n",
       "        vertical-align: top;\n",
       "    }\n",
       "\n",
       "    .dataframe thead th {\n",
       "        text-align: right;\n",
       "    }\n",
       "</style>\n",
       "<table border=\"1\" class=\"dataframe\">\n",
       "  <thead>\n",
       "    <tr style=\"text-align: right;\">\n",
       "      <th></th>\n",
       "      <th>Unnamed: 0</th>\n",
       "      <th>Datum</th>\n",
       "      <th>Mesec</th>\n",
       "      <th>Dan</th>\n",
       "      <th>Ura</th>\n",
       "      <th>Minuta</th>\n",
       "      <th>Az</th>\n",
       "      <th>Alt</th>\n",
       "      <th>f_jug</th>\n",
       "      <th>f_vzhod</th>\n",
       "      <th>f_zahod</th>\n",
       "      <th>f_streha</th>\n",
       "      <th>Rp</th>\n",
       "    </tr>\n",
       "  </thead>\n",
       "  <tbody>\n",
       "    <tr>\n",
       "      <th>0</th>\n",
       "      <td>0</td>\n",
       "      <td>2023-01-01T00:00:00</td>\n",
       "      <td>1</td>\n",
       "      <td>1</td>\n",
       "      <td>0</td>\n",
       "      <td>0</td>\n",
       "      <td>31.997377</td>\n",
       "      <td>-63.615958</td>\n",
       "      <td>0.0</td>\n",
       "      <td>0.0</td>\n",
       "      <td>0.0</td>\n",
       "      <td>0.0</td>\n",
       "      <td>0.381628</td>\n",
       "    </tr>\n",
       "    <tr>\n",
       "      <th>1</th>\n",
       "      <td>1</td>\n",
       "      <td>2023-01-01T00:01:00</td>\n",
       "      <td>1</td>\n",
       "      <td>1</td>\n",
       "      <td>0</td>\n",
       "      <td>1</td>\n",
       "      <td>32.471206</td>\n",
       "      <td>-63.524259</td>\n",
       "      <td>0.0</td>\n",
       "      <td>0.0</td>\n",
       "      <td>0.0</td>\n",
       "      <td>0.0</td>\n",
       "      <td>0.415439</td>\n",
       "    </tr>\n",
       "    <tr>\n",
       "      <th>2</th>\n",
       "      <td>2</td>\n",
       "      <td>2023-01-01T00:02:00</td>\n",
       "      <td>1</td>\n",
       "      <td>1</td>\n",
       "      <td>0</td>\n",
       "      <td>2</td>\n",
       "      <td>32.942331</td>\n",
       "      <td>-63.431366</td>\n",
       "      <td>0.0</td>\n",
       "      <td>0.0</td>\n",
       "      <td>0.0</td>\n",
       "      <td>0.0</td>\n",
       "      <td>0.446214</td>\n",
       "    </tr>\n",
       "    <tr>\n",
       "      <th>3</th>\n",
       "      <td>3</td>\n",
       "      <td>2023-01-01T00:03:00</td>\n",
       "      <td>1</td>\n",
       "      <td>1</td>\n",
       "      <td>0</td>\n",
       "      <td>3</td>\n",
       "      <td>33.410748</td>\n",
       "      <td>-63.337290</td>\n",
       "      <td>0.0</td>\n",
       "      <td>0.0</td>\n",
       "      <td>0.0</td>\n",
       "      <td>0.0</td>\n",
       "      <td>0.473534</td>\n",
       "    </tr>\n",
       "    <tr>\n",
       "      <th>4</th>\n",
       "      <td>4</td>\n",
       "      <td>2023-01-01T00:04:00</td>\n",
       "      <td>1</td>\n",
       "      <td>1</td>\n",
       "      <td>0</td>\n",
       "      <td>4</td>\n",
       "      <td>33.876452</td>\n",
       "      <td>-63.242045</td>\n",
       "      <td>0.0</td>\n",
       "      <td>0.0</td>\n",
       "      <td>0.0</td>\n",
       "      <td>0.0</td>\n",
       "      <td>0.496990</td>\n",
       "    </tr>\n",
       "  </tbody>\n",
       "</table>\n",
       "</div>"
      ],
      "text/plain": [
       "   Unnamed: 0                Datum  Mesec  Dan  Ura  Minuta         Az  \\\n",
       "0           0  2023-01-01T00:00:00      1    1    0       0  31.997377   \n",
       "1           1  2023-01-01T00:01:00      1    1    0       1  32.471206   \n",
       "2           2  2023-01-01T00:02:00      1    1    0       2  32.942331   \n",
       "3           3  2023-01-01T00:03:00      1    1    0       3  33.410748   \n",
       "4           4  2023-01-01T00:04:00      1    1    0       4  33.876452   \n",
       "\n",
       "         Alt  f_jug  f_vzhod  f_zahod  f_streha        Rp  \n",
       "0 -63.615958    0.0      0.0      0.0       0.0  0.381628  \n",
       "1 -63.524259    0.0      0.0      0.0       0.0  0.415439  \n",
       "2 -63.431366    0.0      0.0      0.0       0.0  0.446214  \n",
       "3 -63.337290    0.0      0.0      0.0       0.0  0.473534  \n",
       "4 -63.242045    0.0      0.0      0.0       0.0  0.496990  "
      ]
     },
     "metadata": {},
     "output_type": "display_data"
    },
    {
     "ename": "NameError",
     "evalue": "name 'df_1h' is not defined",
     "output_type": "error",
     "traceback": [
      "\u001b[1;31m---------------------------------------------------------------------------\u001b[0m",
      "\u001b[1;31mNameError\u001b[0m                                 Traceback (most recent call last)",
      "Input \u001b[1;32mIn [50]\u001b[0m, in \u001b[0;36m<cell line: 11>\u001b[1;34m()\u001b[0m\n\u001b[0;32m      8\u001b[0m \u001b[38;5;28;01mexcept\u001b[39;00m:\n\u001b[0;32m      9\u001b[0m     \u001b[38;5;28;01mpass\u001b[39;00m\n\u001b[1;32m---> 11\u001b[0m df_all\u001b[38;5;241m=\u001b[39mpd\u001b[38;5;241m.\u001b[39mmerge(\u001b[43mdf_1h\u001b[49m, df_Vreme, on \u001b[38;5;241m=\u001b[39m \u001b[38;5;124m\"\u001b[39m\u001b[38;5;124mdate\u001b[39m\u001b[38;5;124m\"\u001b[39m, how \u001b[38;5;241m=\u001b[39m \u001b[38;5;124m\"\u001b[39m\u001b[38;5;124mleft\u001b[39m\u001b[38;5;124m\"\u001b[39m)\n\u001b[0;32m     12\u001b[0m \u001b[38;5;28;01mfor\u001b[39;00m i,ii \u001b[38;5;129;01min\u001b[39;00m df_all\u001b[38;5;241m.\u001b[39miterrows():\n\u001b[0;32m     13\u001b[0m     df_all\u001b[38;5;241m.\u001b[39mloc[i,\u001b[38;5;124m\"\u001b[39m\u001b[38;5;124mT\u001b[39m\u001b[38;5;124m\"\u001b[39m]\u001b[38;5;241m=\u001b[39mdf_Vreme\u001b[38;5;241m.\u001b[39mloc[i,\u001b[38;5;124m\"\u001b[39m\u001b[38;5;124mT\u001b[39m\u001b[38;5;124m\"\u001b[39m]\n",
      "\u001b[1;31mNameError\u001b[0m: name 'df_1h' is not defined"
     ]
    }
   ],
   "source": [
    "df_Vreme=pd.read_csv(\"Vreme_urni.csv\")\n",
    "display(df_Vreme.head(5))\n",
    "\n",
    "display(df_1min.head(5))\n",
    "try:\n",
    "    df_1h=df_1h.drop(columns=[\"T\"])\n",
    "    display(df_1h)\n",
    "except:\n",
    "    pass\n",
    "\n",
    "df_all=pd.merge(df_1h, df_Vreme, on = \"date\", how = \"left\")\n",
    "for i,ii in df_all.iterrows():\n",
    "    df_all.loc[i,\"T\"]=df_Vreme.loc[i,\"T\"]\n",
    "    df_all.loc[i,\"J\"]=df_Vreme.loc[i,\"J\"]\n",
    "    df_all.loc[i,\"Jd\"]=df_Vreme.loc[i,\"J\"]*df_all.loc[i,\"Sr\"]/1000\n",
    "print(df_all[\"T\"].min())"
   ]
  },
  {
   "cell_type": "code",
   "execution_count": null,
   "id": "ceaec30f",
   "metadata": {},
   "outputs": [],
   "source": [
    "def simulate_a_year(T,lam,S,h,nu,alb,Sr,key,regulate=False):\n",
    "    '''\n",
    "    T - Željena temperatura\n",
    "    lam - toplotna prevodnost\n",
    "    S - Površina\n",
    "    h - višina\n",
    "    nu - transmisivnost\n",
    "    alb - albedo\n",
    "    Sr - skupna površina, ki seva po SB zakonu\n",
    "    key - ime stolpca, ki vsebuje podatke o svetlobnem toku\n",
    "    regulate - Če želite regulirati toploto na željeno vrednost\n",
    "    '''\n",
    "    Tn=T\n",
    "    eps=5.67*np.power(10,-8.0)\n",
    "    jj={}\n",
    "    jj[\"A\"]=[]\n",
    "    jj[\"B\"]=[]\n",
    "    jj[\"C\"]=[]\n",
    "    jj[\"D\"]=[]\n",
    "    jj[\"Tot\"]=[]\n",
    "    jj[\"Q\"]=[]\n",
    "    jj[\"Tn\"]=[]\n",
    "    jj[\"To\"]=[]\n",
    "    for i,ii in df_all.iterrows():\n",
    "        ja=nu*ii[key]\n",
    "        if str(ii[\"Id\"])==\"nan\":\n",
    "            ja=0\n",
    "        jb=0.0#alb*eps*(np.power(ii[\"T\"]+273,4.0)-np.power(Tn+273,4.0))*Sr\n",
    "        jc=lam*(ii[\"T\"]-Tn)*Sr\n",
    "        jj[\"A\"].append(ja)\n",
    "        jj[\"B\"].append(jb)\n",
    "        jj[\"C\"].append(jc)\n",
    "        jj[\"Tot\"].append(jj[\"A\"][-1]+jj[\"B\"][-1]+jj[\"C\"][-1])\n",
    "        yy=np.array(jj[\"A\"]) #Pa= ja S\n",
    "        yy1=np.array(jj[\"B\"])#Pb= jb S \n",
    "        yy2=np.array(jj[\"C\"])#Pc= jc S\n",
    "        jj[\"Q\"].append(np.sum(yy)+np.sum(yy1)+np.sum(yy2)) #Q = (p1 + p2 + p3 + p3)*delta_t\n",
    "        if regulate==False:\n",
    "            Tn=Tn+jj[\"Tot\"][-1]*3600/(S*h*1.29*1005)\n",
    "        else:\n",
    "            Tn=Tn+jj[\"Tot\"][-1]*3600/(S*h*1.29*1005)\n",
    "            Q=S*h*1.29*1005*(T-Tn)\n",
    "            print(Tn,Q,jj[\"Tot\"],jj[\"A\"],jj[\"C\"])\n",
    "            Tn=Tn+Q/(S*h*1.29*1005)\n",
    "            jj[\"D\"].append(Q)\n",
    "        jj[\"Tn\"].append(Tn)\n",
    "        jj[\"To\"].append(ii[\"T\"])\n",
    "    if len(jj[\"D\"])<1:\n",
    "        jj[\"D\"]=[0 for i in range(len(jj[\"A\"]))]\n",
    "    return jj"
   ]
  },
  {
   "cell_type": "code",
   "execution_count": null,
   "id": "4617e80c",
   "metadata": {},
   "outputs": [],
   "source": []
  },
  {
   "cell_type": "code",
   "execution_count": null,
   "id": "3dcc048e",
   "metadata": {},
   "outputs": [],
   "source": []
  },
  {
   "cell_type": "code",
   "execution_count": null,
   "id": "d670b013",
   "metadata": {},
   "outputs": [],
   "source": []
  },
  {
   "cell_type": "code",
   "execution_count": null,
   "id": "337aaa9f",
   "metadata": {},
   "outputs": [],
   "source": []
  },
  {
   "cell_type": "code",
   "execution_count": null,
   "id": "3849eaed",
   "metadata": {},
   "outputs": [],
   "source": []
  },
  {
   "cell_type": "code",
   "execution_count": null,
   "id": "bd6a1aeb",
   "metadata": {},
   "outputs": [],
   "source": []
  },
  {
   "cell_type": "code",
   "execution_count": null,
   "id": "553f45b1",
   "metadata": {},
   "outputs": [],
   "source": []
  },
  {
   "cell_type": "code",
   "execution_count": null,
   "id": "e31ff5ba",
   "metadata": {},
   "outputs": [],
   "source": []
  },
  {
   "cell_type": "code",
   "execution_count": null,
   "id": "910dc163",
   "metadata": {},
   "outputs": [],
   "source": []
  },
  {
   "attachments": {},
   "cell_type": "markdown",
   "id": "0f81caa0",
   "metadata": {},
   "source": [
    "$𝐼_𝑃 (𝜃,𝛼,𝜇)= 𝐼_0∗0,7^{ZM^{0,678}} 𝑐𝑜𝑠(𝛼)$"
   ]
  },
  {
   "cell_type": "markdown",
   "id": "9a30d255",
   "metadata": {},
   "source": [
    "# Domača naloga"
   ]
  },
  {
   "cell_type": "code",
   "execution_count": null,
   "id": "ff9711f5",
   "metadata": {},
   "outputs": [],
   "source": [
    "1) Kako se spreminja Dolžina dneva glede na zaporeden dan v letu\n",
    "2) Kako se spreminja Lega sonca ob vzhodu glede na zaporeden dan v letu\n",
    "3) Kako se spreminja Lega sonca ob zahodu glede na zaporeden dan v letu\n",
    "4) Kako se spreminja najvija lega sonca ob glede na zaporeden dan v letu\n",
    "\n",
    "Možnosti za eksperimentiranje:\n",
    "Primerjaj grafe za lokacijo blizu ekvatorje in za lokacijo blizu pola"
   ]
  }
 ],
 "metadata": {
  "gist": {
   "data": {
    "description": "00_Python/Sonce_lega/Untitled.ipynb",
    "public": false
   },
   "id": ""
  },
  "hide_input": false,
  "kernelspec": {
   "display_name": "Python 3",
   "language": "python",
   "name": "python3"
  },
  "language_info": {
   "codemirror_mode": {
    "name": "ipython",
    "version": 3
   },
   "file_extension": ".py",
   "mimetype": "text/x-python",
   "name": "python",
   "nbconvert_exporter": "python",
   "pygments_lexer": "ipython3",
   "version": "3.10.4"
  },
  "toc": {
   "base_numbering": 1,
   "nav_menu": {},
   "number_sections": true,
   "sideBar": true,
   "skip_h1_title": false,
   "title_cell": "Table of Contents",
   "title_sidebar": "Contents",
   "toc_cell": false,
   "toc_position": {
    "height": "calc(100% - 180px)",
    "left": "10px",
    "top": "150px",
    "width": "165px"
   },
   "toc_section_display": true,
   "toc_window_display": true
  },
  "varInspector": {
   "cols": {
    "lenName": 16,
    "lenType": 16,
    "lenVar": 40
   },
   "kernels_config": {
    "python": {
     "delete_cmd_postfix": "",
     "delete_cmd_prefix": "del ",
     "library": "var_list.py",
     "varRefreshCmd": "print(var_dic_list())"
    },
    "r": {
     "delete_cmd_postfix": ") ",
     "delete_cmd_prefix": "rm(",
     "library": "var_list.r",
     "varRefreshCmd": "cat(var_dic_list()) "
    }
   },
   "types_to_exclude": [
    "module",
    "function",
    "builtin_function_or_method",
    "instance",
    "_Feature"
   ],
   "window_display": false
  }
 },
 "nbformat": 4,
 "nbformat_minor": 5
}
