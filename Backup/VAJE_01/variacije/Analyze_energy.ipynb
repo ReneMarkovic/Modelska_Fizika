{
 "cells": [
  {
   "cell_type": "code",
   "execution_count": null,
   "id": "4775b212",
   "metadata": {
    "ExecuteTime": {
     "end_time": "2022-03-28T16:01:25.331444Z",
     "start_time": "2022-03-28T16:01:23.595536Z"
    }
   },
   "outputs": [],
   "source": [
    "import matplotlib.pyplot as plt\n",
    "import numpy as np\n",
    "import pandas as pd\n",
    "import astropy.coordinates as coord\n",
    "from astropy.time import Time\n",
    "import astropy.units as u\n",
    "import time"
   ]
  },
  {
   "cell_type": "code",
   "execution_count": null,
   "id": "2eea1a3e",
   "metadata": {
    "ExecuteTime": {
     "end_time": "2022-03-28T19:17:50.419528Z",
     "start_time": "2022-03-28T19:17:50.388603Z"
    }
   },
   "outputs": [],
   "source": [
    "def convert(t):\n",
    "    return time.mktime(time.strptime(t, '%Y-%m-%d %H:%M:%S'))\n",
    "\n",
    "def convert_deg(d):\n",
    "    deg=d.split(\"d\")[0]\n",
    "    m=d.split(\"d\")[1].split(\"m\")[0]\n",
    "    s=d.split(\"m\")[1].split(\"s\")[0]\n",
    "    deg=float(deg)+float(m)/60+float(s)/3600\n",
    "    return deg\n",
    "\n",
    "def time_to_float(x):\n",
    "    H=float(x.split(\":\")[0])\n",
    "    M=float(x.split(\":\")[1])\n",
    "    return H+M/60.0\n",
    "def ZM(kot):\n",
    "    return 1.0/(np.cos(kot*np.pi/180.0)+0.50572*np.power(96.07995-kot,-1.6364))\n",
    "\n",
    "def Rp(kot1,kot2):\n",
    "    return np.power(0.7,np.power(ZM(kot1),0.678))*np.cos(kot2*np.pi/180.0)\n",
    "\n",
    "def d2r(x):\n",
    "    return np.deg2rad(x)\n",
    "\n",
    "def f_vzhod(alfa,beta):\n",
    "    s1=np.sin(d2r(alfa))*np.cos(d2r(beta))\n",
    "    if (s1<0 or beta<0):\n",
    "        s1=0\n",
    "    return (s1*35*5.9)#/np.sin(d2r(alfa))\n",
    "\n",
    "def f_jug(alfa,beta):\n",
    "    s1=np.cos(d2r(alfa-180))*np.cos(d2r(beta))\n",
    "    if (s1<0 or beta<0):\n",
    "        s1=0\n",
    "    return (s1*12*5.9)#/np.sin(d2r(alfa))\n",
    "\n",
    "def f_zahod(alfa,beta):\n",
    "    s1=np.sin(d2r(alfa)+180)*np.cos(d2r(beta))\n",
    "    if (s1<0 or beta<0):\n",
    "        s1=0\n",
    "    return (s1*35*5.9)#/np.sin(d2r(alfa))\n",
    "\n",
    "def f_gori(alfa,beta):\n",
    "    s1=np.cos(d2r(beta-90))\n",
    "    if s1<0:\n",
    "        s1=0\n",
    "    return (s1*35*12)#/np.sin(d2r(alfa))\n",
    "\n",
    "def f(alfa,beta):\n",
    "    return [f_vzhod(alfa,beta),f_jug(alfa,beta),f_zahod(alfa,beta),f_gori(alfa,beta)]\n",
    "\n",
    "def simulate_a_year(T,lam,S,h,nu,alb,Sr,key,regulate=False):\n",
    "    Tn=T\n",
    "    eps=5.67*np.power(10,-8.0)\n",
    "    jj={}\n",
    "    jj[\"A\"]=[]\n",
    "    jj[\"B\"]=[]\n",
    "    jj[\"C\"]=[]\n",
    "    jj[\"D\"]=[]\n",
    "    jj[\"Tot\"]=[]\n",
    "    jj[\"Q\"]=[]\n",
    "    jj[\"Tn\"]=[]\n",
    "    jj[\"To\"]=[]\n",
    "    for i,ii in df_all.iterrows():\n",
    "        ja=nu*ii[key]\n",
    "        if str(ii[\"Id\"])==\"nan\":\n",
    "            ja=0\n",
    "        jb=0.0#alb*eps*(np.power(ii[\"T\"]+273,4.0)-np.power(Tn+273,4.0))*Sr\n",
    "        jc=lam*(ii[\"T\"]-Tn)*Sr\n",
    "        jj[\"A\"].append(ja)\n",
    "        jj[\"B\"].append(jb)\n",
    "        jj[\"C\"].append(jc)\n",
    "        jj[\"Tot\"].append(jj[\"A\"][-1]+jj[\"B\"][-1]+jj[\"C\"][-1])\n",
    "        yy=np.array(jj[\"A\"])\n",
    "        yy1=np.array(jj[\"B\"])\n",
    "        yy2=np.array(jj[\"C\"])\n",
    "        jj[\"Q\"].append(np.sum(yy)+np.sum(yy1)+np.sum(yy2))\n",
    "        if regulate==False:\n",
    "            Tn=Tn+jj[\"Tot\"][-1]*3600/(S*h*1.29*1005)\n",
    "        else:\n",
    "            Tn=Tn+jj[\"Tot\"][-1]*3600/(S*h*1.29*1005)\n",
    "            Q=S*h*1.29*1005*(T-Tn)\n",
    "            print(Tn,Q,jj[\"Tot\"],jj[\"A\"],jj[\"C\"])\n",
    "            Tn=Tn+Q/(S*h*1.29*1005)\n",
    "            jj[\"D\"].append(Q)\n",
    "        jj[\"Tn\"].append(Tn)\n",
    "        jj[\"To\"].append(ii[\"T\"])\n",
    "    if len(jj[\"D\"])<1:\n",
    "        jj[\"D\"]=[0 for i in range(len(jj[\"A\"]))]\n",
    "    return jj"
   ]
  },
  {
   "cell_type": "code",
   "execution_count": null,
   "id": "352cb939",
   "metadata": {
    "ExecuteTime": {
     "end_time": "2022-03-28T16:02:40.416954Z",
     "start_time": "2022-03-28T16:02:40.355993Z"
    }
   },
   "outputs": [],
   "source": [
    "df_Vreme=pd.read_csv(\"Vreme_urni.csv\")\n",
    "display(df_Vreme)\n",
    "\n",
    "df_1h=pd.read_csv(\"df_1h.csv\")\n",
    "display(df_1h.loc[10:20,:])"
   ]
  },
  {
   "cell_type": "code",
   "execution_count": null,
   "id": "2303d477",
   "metadata": {
    "ExecuteTime": {
     "end_time": "2022-03-28T16:03:07.448939Z",
     "start_time": "2022-03-28T16:03:00.663278Z"
    }
   },
   "outputs": [],
   "source": [
    "try:\n",
    "    df_1h=df_1h.drop(columns=[\"T\"])\n",
    "    display(df_1h)\n",
    "except:\n",
    "    pass\n",
    "df_all=pd.merge(df_1h, df_Vreme, on = \"date\", how = \"left\")\n",
    "for i,ii in df_all.iterrows():\n",
    "    df_all.loc[i,\"T\"]=df_Vreme.loc[i,\"T\"]\n",
    "    df_all.loc[i,\"J\"]=df_Vreme.loc[i,\"J\"]\n",
    "    df_all.loc[i,\"Jd\"]=df_Vreme.loc[i,\"J\"]*df_all.loc[i,\"Sr\"]/1000\n",
    "print(df_all[\"T\"].min())"
   ]
  },
  {
   "cell_type": "code",
   "execution_count": null,
   "id": "3ef2be91",
   "metadata": {
    "ExecuteTime": {
     "end_time": "2022-03-28T16:04:49.498760Z",
     "start_time": "2022-03-28T16:04:49.491780Z"
    }
   },
   "outputs": [],
   "source": [
    "lam=0\n",
    "a=24.0\n",
    "b=35.0\n",
    "h=5.9\n",
    "S=a*b\n",
    "Sr=2*a*h+2*b*h+S\n",
    "V=a*b*h\n",
    "key=[\"Jd\",\"Id\"]"
   ]
  },
  {
   "cell_type": "code",
   "execution_count": null,
   "id": "472f30ed",
   "metadata": {
    "ExecuteTime": {
     "end_time": "2022-03-28T17:38:06.843823Z",
     "start_time": "2022-03-28T17:36:36.800924Z"
    }
   },
   "outputs": [],
   "source": [
    "T=20\n",
    "k=0\n",
    "plt.figure(figsize=(14,10),dpi=300)\n",
    "\n",
    "lam=7.5\n",
    "ic=0\n",
    "alb_p=[0.00001,0.0001,0.001,0.01]\n",
    "\n",
    "TT=0.9\n",
    "\n",
    "print(\"Subplot 1\")\n",
    "plt.subplot(221)\n",
    "r=simulate_a_year(T,lam,S,h,TT,alb_p[ic],Sr,key[k],regulate=False)\n",
    "for T in range(10,26,5):\n",
    "    print(T,\"Done\")\n",
    "    plt.plot([yy-T for yy in r[\"To\"]],label=\"$T$ = %.0f°C\"%T,lw=0.2,alpha=1)\n",
    "#plt.plot(r[\"To\"],label=\"Okolica\",lw=1,alpha=0.2,color=\"black\")\n",
    "#plt.xlim(0,364*24)\n",
    "plt.xticks([i for i in range(1,364*24,60*24)],[\"Jan\",\"Mar\",\"Maj\",\"Jul\",\"Sep\",\"Nov\",\"jan\"])\n",
    "plt.xlim(0,350*24)\n",
    "#plt.ylim(-15,75)\n",
    "plt.ylabel(\"$\\Delta $ [°C]\")\n",
    "plt.legend()\n",
    "\n",
    "\n",
    "\n",
    "plt.subplot(222)\n",
    "print(\"Subplot 1\")\n",
    "for T in range(20,21,5):\n",
    "    r=simulate_a_year(T,lam,S,h,TT,alb_p[ic],Sr,key[k],regulate=False)\n",
    "    print(T,\"Done\")\n",
    "    jj=[np.sum(r[\"A\"][0:kk])/1000 for kk in range(len(r[\"A\"]))]\n",
    "    plt.plot(jj,label=\"$T$ = %.0f°C\"%T,lw=1,alpha=1)\n",
    "#plt.plot(r[\"To\"],label=\"Okolica\",lw=1,alpha=0.2,color=\"black\")\n",
    "#plt.xlim(0,364*24)\n",
    "plt.xticks([i for i in range(1,364*24,60*24)],[\"Jan\",\"Mar\",\"Maj\",\"Jul\",\"Sep\",\"Nov\",\"jan\"])\n",
    "plt.xlim(0,350*24)\n",
    "#plt.ylim(-15,75)\n",
    "plt.ylabel(\"$Q_{A}$ [kWh]\")\n",
    "\n",
    "plt.subplot(223)\n",
    "print(\"Subplot 2\")\n",
    "for T in range(10,28,5):\n",
    "    r=simulate_a_year(T,lam,S,h,TT,alb_p[ic],Sr,key[k],regulate=False)\n",
    "    print(T,\"Done\")\n",
    "    jj=[np.sum(r[\"B\"][0:kk])/1000 for kk in range(len(r[\"B\"]))]\n",
    "    plt.plot(jj,label=\"$T$ = %.0f°C\"%T,lw=1)\n",
    "plt.legend()\n",
    "#plt.xlim(0,364*24)\n",
    "plt.xticks([i for i in range(1,364*24,60*24)],[\"Jan\",\"Mar\",\"Maj\",\"Jul\",\"Sep\",\"Nov\",\"jan\"])\n",
    "plt.xlim(0,350*24)\n",
    "#plt.ylim(-15,75)\n",
    "plt.ylabel(\"$Q_{B}$ [kWh]\")\n",
    "\n",
    "plt.subplot(224)\n",
    "print(\"Subplot 3\")\n",
    "for T in range(10,28,5):\n",
    "    r=simulate_a_year(T,lam,S,h,TT,alb_p[ic],Sr,key[k],regulate=False)\n",
    "    print(T,\"Done\")\n",
    "    jj=[np.sum(r[\"C\"][0:kk])/1000 for kk in range(len(r[\"C\"]))]\n",
    "    plt.plot(jj,label=\"$T$ = %.0f°C\"%T,lw=1,alpha=1)\n",
    "#plt.plot(r[\"To\"],label=\"Okolica\",lw=1,alpha=0.2,color=\"black\")\n",
    "plt.legend()\n",
    "#plt.xlim(0,364*24)\n",
    "plt.xticks([i for i in range(1,364*24,60*24)],[\"Jan\",\"Mar\",\"Maj\",\"Jul\",\"Sep\",\"Nov\",\"jan\"])\n",
    "plt.xlim(0,350*24)\n",
    "#plt.ylim(-15,75)\n",
    "\n",
    "plt.ylabel(\"$Q_{C}$ [kWh]\")\n",
    "plt.show()"
   ]
  },
  {
   "cell_type": "code",
   "execution_count": null,
   "id": "173cc939",
   "metadata": {
    "ExecuteTime": {
     "end_time": "2022-03-28T19:19:23.841495Z",
     "start_time": "2022-03-28T19:18:00.482802Z"
    }
   },
   "outputs": [],
   "source": [
    "for T in range(20,21,5):\n",
    "    r=simulate_a_year(T,lam,S,h,TT,0,Sr,key[k],regulate=True)"
   ]
  },
  {
   "cell_type": "code",
   "execution_count": null,
   "id": "4297dc9b",
   "metadata": {
    "ExecuteTime": {
     "end_time": "2022-03-28T18:15:13.456900Z",
     "start_time": "2022-03-28T18:15:13.278922Z"
    }
   },
   "outputs": [],
   "source": [
    "print(len(r[\"A\"]))\n",
    "print(len(r[\"B\"]))\n",
    "print(len(r[\"C\"]))\n",
    "\n",
    "plt.plot(r[\"C\"])\n",
    "plt.plot(r[\"A\"])\n",
    "plt.show()\n",
    "\n",
    "plt.plot(np.array(r[\"D\"])/3600)\n",
    "plt.show()"
   ]
  },
  {
   "cell_type": "code",
   "execution_count": null,
   "id": "5c54f147",
   "metadata": {
    "ExecuteTime": {
     "end_time": "2022-03-28T16:42:27.986449Z",
     "start_time": "2022-03-28T16:42:27.850082Z"
    }
   },
   "outputs": [],
   "source": [
    "plt.plot(r[\"Tn\"])"
   ]
  },
  {
   "cell_type": "code",
   "execution_count": null,
   "id": "57d0cf8e",
   "metadata": {},
   "outputs": [],
   "source": []
  }
 ],
 "metadata": {
  "hide_input": false,
  "kernelspec": {
   "display_name": "Python 3",
   "language": "python",
   "name": "python3"
  },
  "language_info": {
   "codemirror_mode": {
    "name": "ipython",
    "version": 3
   },
   "file_extension": ".py",
   "mimetype": "text/x-python",
   "name": "python",
   "nbconvert_exporter": "python",
   "pygments_lexer": "ipython3",
   "version": "3.10.4"
  },
  "toc": {
   "base_numbering": 1,
   "nav_menu": {},
   "number_sections": true,
   "sideBar": true,
   "skip_h1_title": false,
   "title_cell": "Table of Contents",
   "title_sidebar": "Contents",
   "toc_cell": false,
   "toc_position": {},
   "toc_section_display": true,
   "toc_window_display": false
  },
  "varInspector": {
   "cols": {
    "lenName": 16,
    "lenType": 16,
    "lenVar": 40
   },
   "kernels_config": {
    "python": {
     "delete_cmd_postfix": "",
     "delete_cmd_prefix": "del ",
     "library": "var_list.py",
     "varRefreshCmd": "print(var_dic_list())"
    },
    "r": {
     "delete_cmd_postfix": ") ",
     "delete_cmd_prefix": "rm(",
     "library": "var_list.r",
     "varRefreshCmd": "cat(var_dic_list()) "
    }
   },
   "types_to_exclude": [
    "module",
    "function",
    "builtin_function_or_method",
    "instance",
    "_Feature"
   ],
   "window_display": false
  }
 },
 "nbformat": 4,
 "nbformat_minor": 5
}
