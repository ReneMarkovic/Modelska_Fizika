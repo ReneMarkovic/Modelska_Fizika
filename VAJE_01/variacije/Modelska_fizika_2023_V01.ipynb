{
 "cells": [
  {
   "cell_type": "code",
   "execution_count": 1,
   "id": "dcb7c533",
   "metadata": {
    "ExecuteTime": {
     "end_time": "2023-02-21T07:42:26.345037Z",
     "start_time": "2023-02-21T07:42:24.882094Z"
    }
   },
   "outputs": [],
   "source": [
    "#več o astropy -> https://docs.astropy.org/en/stable/index.html\n",
    "import astropy.coordinates as coord\n",
    "from astropy.time import Time\n",
    "import astropy.units as u\n",
    "\n",
    "import time\n",
    "try:\n",
    "    from tqdm.notebook import tqdm\n",
    "except:\n",
    "    !pip install tqdm\n",
    "    from tqdm.notebook import tqdm\n",
    "import numpy as np\n",
    "import matplotlib.pyplot as plt\n",
    "from calendar import monthrange"
   ]
  },
  {
   "cell_type": "code",
   "execution_count": 2,
   "id": "942d604c",
   "metadata": {
    "ExecuteTime": {
     "end_time": "2023-02-21T07:42:31.445154Z",
     "start_time": "2023-02-21T07:42:31.428638Z"
    },
    "code_folding": [
     0,
     19,
     28,
     39,
     46
    ]
   },
   "outputs": [],
   "source": [
    "def plot_vzhod(x1,x2,y):\n",
    "    '''\n",
    "    V polarnih koordinatah izriše\n",
    "    lego sončnega vzhoda in zahoda glede na\n",
    "    dolžino dneva\n",
    "    x1 -> list: vsebuje podatke o azimutu sončnega vzhoda podanega v °\n",
    "    x2 -> list: vsebuje podatke o azimutu sončnega zahoda podanega v °\n",
    "    y -> list: vsebuje podatke o dolžini dneva v enotah ura\n",
    "    '''\n",
    "    fig = plt.figure()\n",
    "    ax = plt.axes(polar=True)\n",
    "    x1 =  np.array([2*np.pi/360*xx for xx in x1])\n",
    "    x2 =  np.array([2*np.pi/360*xx for xx in x2])\n",
    "    y = np.array(y)\n",
    "    ax.plot(x1, y, \"go\")\n",
    "    ax.plot(x2, y, \"ro\")\n",
    "    ax.set_ylim(4,20)\n",
    "    plt.show()\n",
    "    \n",
    "def convert_to_string(xx,ref):\n",
    "    m=str(xx)\n",
    "    m_len=len(m)\n",
    "    m_levo=(ref-m_len)//2\n",
    "    m_desno=ref-m_len-m_levo\n",
    "    m1=' '.join('' for k in range(m_levo))\n",
    "    m2=' '.join('' for k in range(m_desno))\n",
    "    return m1+m+m2\n",
    "    \n",
    "def convert_time_to_float(t):\n",
    "    '''\n",
    "    čas je podan v spremenljivki t kot string, ki ima format\n",
    "    hh:mm:ss -> ta zapis pretvorimo v realno število enota pa\n",
    "    so ure t.split(:)->[hh,mm,ss]\n",
    "    '''\n",
    "    h=float(t.split(\":\")[0])\n",
    "    m=float(t.split(\":\")[1])/60.0\n",
    "    s=float(t.split(\":\")[2])/3600.0\n",
    "    return h+m+s\n",
    "\n",
    "def convert(t):\n",
    "    '''\n",
    "    tukaj pretvorimo string, ki odraža podatek o datumu in uri v\n",
    "    datetime spremenljivko.\n",
    "    '''\n",
    "    return time.mktime(time.strptime(t, '%Y-%m-%d %H:%M:%S'))\n",
    "\n",
    "def convert_deg(d):\n",
    "    '''\n",
    "    d je string, ki vsebuje podatke o kotu in je podan v obliki\n",
    "    41d52m31s\n",
    "    s spodnjo kodo tako zapisan podatek pretvorimo v realno število,\n",
    "    ki odraža stopinje.\n",
    "    '''\n",
    "    deg=d.split(\"d\")[0]\n",
    "    m=d.split(\"d\")[1].split(\"m\")[0]\n",
    "    s=d.split(\"m\")[1].split(\"s\")[0]\n",
    "    deg=float(deg)+float(m)/60+float(s)/3600\n",
    "    return deg"
   ]
  },
  {
   "cell_type": "markdown",
   "id": "4b858f94",
   "metadata": {},
   "source": [
    "## Lokacija"
   ]
  },
  {
   "cell_type": "code",
   "execution_count": 3,
   "id": "c86e4401",
   "metadata": {
    "ExecuteTime": {
     "end_time": "2023-02-21T07:43:09.317522Z",
     "start_time": "2023-02-21T07:43:04.511841Z"
    }
   },
   "outputs": [
    {
     "data": {
      "application/vnd.jupyter.widget-view+json": {
       "model_id": "1f44c970ba984e81a9cdd0ea2bdac413",
       "version_major": 2,
       "version_minor": 0
      },
      "text/plain": [
       "Observatoriji:   0%|          | 0/322 [00:00<?, ?it/s]"
      ]
     },
     "metadata": {},
     "output_type": "display_data"
    },
    {
     "name": "stdout",
     "output_type": "stream",
     "text": [
      "ALMA 48.54888699999999 -71.65145899999999\n",
      "AO 47.593970000000006 14.124559999999999\n",
      "ARCA 56.0909916 49.8771828\n",
      "ATA -21.207991999999997 -50.43902250000002\n",
      "ATST 34.75162634999999 135.39237939999998\n",
      "Allen Telescope Array 40.81713210000001 -121.46904400000003\n",
      "Anderson Mesa 35.0552961 -111.44042919999998\n",
      "Anglo-Australian Observatory -31.275451999999994 149.067221\n",
      "Apache Point 35.795316499999984 -104.17914339999996\n"
     ]
    }
   ],
   "source": [
    "#knjižica omogoča dostop do lon in lat lokacij na različne načine\n",
    "\n",
    "observatoriji=coord.EarthLocation.get_site_names()\n",
    "\n",
    "for o in tqdm(observatoriji[0:10],total=len(observatoriji),desc=\"Observatoriji\"):\n",
    "    try:\n",
    "        loc=coord.EarthLocation.of_address(o)\n",
    "        print(o,loc.lat.degree,loc.lon.degree)\n",
    "    except:\n",
    "        pass"
   ]
  },
  {
   "cell_type": "code",
   "execution_count": 5,
   "id": "2f2f37af",
   "metadata": {
    "ExecuteTime": {
     "end_time": "2023-02-21T07:44:15.967961Z",
     "start_time": "2023-02-21T07:44:15.757963Z"
    }
   },
   "outputs": [
    {
     "name": "stdout",
     "output_type": "stream",
     "text": [
      "(4230704.25652027, 1183154.23497847, 4608555.13683359) m\n",
      "46.563743900000006 15.6241238\n"
     ]
    }
   ],
   "source": [
    "loc=coord.EarthLocation.of_address(\"Koroška cesta 160, Maribor, Slovenija\")\n",
    "print(loc)\n",
    "lat=loc.lat.degree\n",
    "lon=loc.lon.degree\n",
    "print(lat,lon)"
   ]
  },
  {
   "cell_type": "code",
   "execution_count": 46,
   "id": "665186be",
   "metadata": {
    "ExecuteTime": {
     "end_time": "2023-02-21T08:34:40.481690Z",
     "start_time": "2023-02-21T08:34:40.471691Z"
    }
   },
   "outputs": [],
   "source": [
    "df_1min={}\n",
    "df_1min[\"Datum\"]=[]\n",
    "df_1min[\"Mesec\"]=[]\n",
    "df_1min[\"Dan\"]=[]\n",
    "df_1min[\"Ura\"]=[]\n",
    "df_1min[\"Minuta\"]=[]\n",
    "df_1min[\"Az\"]=[]\n",
    "df_1min[\"Alt\"]=[]\n",
    "\n",
    "df_dnevno={}\n",
    "df_dnevno[\"Datum\"]=[]\n",
    "df_dnevno[\"Mesec\"]=[]\n",
    "df_dnevno[\"Dan\"]=[]\n",
    "df_dnevno[\"Sončni vzhod lokacija\"]=[]\n",
    "df_dnevno[\"Sončni vzhod ura\"]=[]\n",
    "df_dnevno[\"Sončni zahod lokacija\"]=[]\n",
    "df_dnevno[\"Sončni zahod ura\"]=[]\n",
    "df_dnevno[\"Dolžina dneva\"]=[]\n",
    "df_dnevno[\"Alt maks\"]=[]"
   ]
  },
  {
   "cell_type": "code",
   "execution_count": 50,
   "id": "9cd156a1",
   "metadata": {
    "ExecuteTime": {
     "end_time": "2023-02-21T08:46:05.859469Z",
     "start_time": "2023-02-21T08:43:41.022232Z"
    },
    "scrolled": false
   },
   "outputs": [
    {
     "data": {
      "application/vnd.jupyter.widget-view+json": {
       "model_id": "c562edf2d2ff40c5bf4e44ef4bc95e2c",
       "version_major": 2,
       "version_minor": 0
      },
      "text/plain": [
       "Mesec:   0%|          | 0/12 [00:00<?, ?it/s]"
      ]
     },
     "metadata": {},
     "output_type": "display_data"
    },
    {
     "data": {
      "application/vnd.jupyter.widget-view+json": {
       "model_id": "459bf4927533411eb21125e0f89a12b2",
       "version_major": 2,
       "version_minor": 0
      },
      "text/plain": [
       "Dan:   0%|          | 0/31 [00:00<?, ?it/s]"
      ]
     },
     "metadata": {},
     "output_type": "display_data"
    },
    {
     "name": "stdout",
     "output_type": "stream",
     "text": [
      "1 1 2023 15.25 0.00 15.25 20.43\n",
      "2 1 2023 8.47 6.80 15.27 20.52\n",
      "3 1 2023 8.48 6.80 15.28 20.61\n",
      "4 1 2023 8.50 6.80 15.30 20.71\n",
      "5 1 2023 8.52 6.80 15.32 20.82\n",
      "6 1 2023 8.55 6.78 15.33 20.94\n",
      "7 1 2023 8.57 6.78 15.35 21.06\n"
     ]
    },
    {
     "ename": "KeyboardInterrupt",
     "evalue": "",
     "output_type": "error",
     "traceback": [
      "\u001b[1;31m---------------------------------------------------------------------------\u001b[0m",
      "\u001b[1;31mKeyboardInterrupt\u001b[0m                         Traceback (most recent call last)",
      "Input \u001b[1;32mIn [50]\u001b[0m, in \u001b[0;36m<cell line: 9>\u001b[1;34m()\u001b[0m\n\u001b[0;32m     26\u001b[0m sun \u001b[38;5;241m=\u001b[39m coord\u001b[38;5;241m.\u001b[39mget_sun(Time(t, \u001b[38;5;28mformat\u001b[39m\u001b[38;5;241m=\u001b[39m\u001b[38;5;124m'\u001b[39m\u001b[38;5;124misot\u001b[39m\u001b[38;5;124m'\u001b[39m, scale\u001b[38;5;241m=\u001b[39m\u001b[38;5;124m'\u001b[39m\u001b[38;5;124mutc\u001b[39m\u001b[38;5;124m'\u001b[39m))\n\u001b[0;32m     27\u001b[0m y\u001b[38;5;241m=\u001b[39msun\u001b[38;5;241m.\u001b[39mtransform_to(altaz)\u001b[38;5;241m.\u001b[39malt\u001b[38;5;241m.\u001b[39mdegree\n\u001b[1;32m---> 28\u001b[0m y2\u001b[38;5;241m=\u001b[39m\u001b[43msun\u001b[49m\u001b[38;5;241;43m.\u001b[39;49m\u001b[43mtransform_to\u001b[49m\u001b[43m(\u001b[49m\u001b[43maltaz\u001b[49m\u001b[43m)\u001b[49m\u001b[38;5;241m.\u001b[39maz\u001b[38;5;241m.\u001b[39mdegree\n\u001b[0;32m     29\u001b[0m df_1min[\u001b[38;5;124m\"\u001b[39m\u001b[38;5;124mDatum\u001b[39m\u001b[38;5;124m\"\u001b[39m]\u001b[38;5;241m.\u001b[39mappend(t)\n\u001b[0;32m     30\u001b[0m df_1min[\u001b[38;5;124m\"\u001b[39m\u001b[38;5;124mMesec\u001b[39m\u001b[38;5;124m\"\u001b[39m]\u001b[38;5;241m.\u001b[39mappend(mesec)\n",
      "File \u001b[1;32m~\\anaconda3\\envs\\NNM\\lib\\site-packages\\astropy\\coordinates\\sky_coordinate.py:702\u001b[0m, in \u001b[0;36mSkyCoord.transform_to\u001b[1;34m(self, frame, merge_attributes)\u001b[0m\n\u001b[0;32m    698\u001b[0m generic_frame \u001b[38;5;241m=\u001b[39m GenericFrame(frame_kwargs)\n\u001b[0;32m    700\u001b[0m \u001b[38;5;66;03m# Do the transformation, returning a coordinate frame of the desired\u001b[39;00m\n\u001b[0;32m    701\u001b[0m \u001b[38;5;66;03m# final type (not generic).\u001b[39;00m\n\u001b[1;32m--> 702\u001b[0m new_coord \u001b[38;5;241m=\u001b[39m \u001b[43mtrans\u001b[49m\u001b[43m(\u001b[49m\u001b[38;5;28;43mself\u001b[39;49m\u001b[38;5;241;43m.\u001b[39;49m\u001b[43mframe\u001b[49m\u001b[43m,\u001b[49m\u001b[43m \u001b[49m\u001b[43mgeneric_frame\u001b[49m\u001b[43m)\u001b[49m\n\u001b[0;32m    704\u001b[0m \u001b[38;5;66;03m# Finally make the new SkyCoord object from the `new_coord` and\u001b[39;00m\n\u001b[0;32m    705\u001b[0m \u001b[38;5;66;03m# remaining frame_kwargs that are not frame_attributes in `new_coord`.\u001b[39;00m\n\u001b[0;32m    706\u001b[0m \u001b[38;5;28;01mfor\u001b[39;00m attr \u001b[38;5;129;01min\u001b[39;00m \u001b[38;5;28mset\u001b[39m(new_coord\u001b[38;5;241m.\u001b[39mframe_attributes) \u001b[38;5;241m&\u001b[39m \u001b[38;5;28mset\u001b[39m(frame_kwargs\u001b[38;5;241m.\u001b[39mkeys()):\n",
      "File \u001b[1;32m~\\anaconda3\\envs\\NNM\\lib\\site-packages\\astropy\\coordinates\\transformations.py:1579\u001b[0m, in \u001b[0;36mCompositeTransform.__call__\u001b[1;34m(self, fromcoord, toframe)\u001b[0m\n\u001b[0;32m   1576\u001b[0m             frattrs[inter_frame_attr_nm] \u001b[38;5;241m=\u001b[39m attr\n\u001b[0;32m   1578\u001b[0m     curr_toframe \u001b[38;5;241m=\u001b[39m t\u001b[38;5;241m.\u001b[39mtosys(\u001b[38;5;241m*\u001b[39m\u001b[38;5;241m*\u001b[39mfrattrs)\n\u001b[1;32m-> 1579\u001b[0m     curr_coord \u001b[38;5;241m=\u001b[39m \u001b[43mt\u001b[49m\u001b[43m(\u001b[49m\u001b[43mcurr_coord\u001b[49m\u001b[43m,\u001b[49m\u001b[43m \u001b[49m\u001b[43mcurr_toframe\u001b[49m\u001b[43m)\u001b[49m\n\u001b[0;32m   1581\u001b[0m \u001b[38;5;66;03m# this is safe even in the case where self.transforms is empty, because\u001b[39;00m\n\u001b[0;32m   1582\u001b[0m \u001b[38;5;66;03m# coordinate objects are immutable, so copying is not needed\u001b[39;00m\n\u001b[0;32m   1583\u001b[0m \u001b[38;5;28;01mreturn\u001b[39;00m curr_coord\n",
      "File \u001b[1;32m~\\anaconda3\\envs\\NNM\\lib\\site-packages\\astropy\\coordinates\\transformations.py:1145\u001b[0m, in \u001b[0;36mFunctionTransformWithFiniteDifference.__call__\u001b[1;34m(self, fromcoord, toframe)\u001b[0m\n\u001b[0;32m   1143\u001b[0m     \u001b[38;5;28;01mreturn\u001b[39;00m reprwithoutdiff\u001b[38;5;241m.\u001b[39mrealize_frame(reprwithdiff)\n\u001b[0;32m   1144\u001b[0m \u001b[38;5;28;01melse\u001b[39;00m:\n\u001b[1;32m-> 1145\u001b[0m     \u001b[38;5;28;01mreturn\u001b[39;00m \u001b[43msupcall\u001b[49m\u001b[43m(\u001b[49m\u001b[43mfromcoord\u001b[49m\u001b[43m,\u001b[49m\u001b[43m \u001b[49m\u001b[43mtoframe\u001b[49m\u001b[43m)\u001b[49m\n",
      "File \u001b[1;32m~\\anaconda3\\envs\\NNM\\lib\\site-packages\\astropy\\coordinates\\builtin_frames\\icrs_cirs_transforms.py:161\u001b[0m, in \u001b[0;36mgcrs_to_icrs\u001b[1;34m(gcrs_coo, icrs_frame)\u001b[0m\n\u001b[0;32m    158\u001b[0m astrom \u001b[38;5;241m=\u001b[39m erfa_astrom\u001b[38;5;241m.\u001b[39mget()\u001b[38;5;241m.\u001b[39mapcs(gcrs_coo)\n\u001b[0;32m    160\u001b[0m srepr \u001b[38;5;241m=\u001b[39m gcrs_coo\u001b[38;5;241m.\u001b[39mrepresent_as(SphericalRepresentation)\n\u001b[1;32m--> 161\u001b[0m i_ra, i_dec \u001b[38;5;241m=\u001b[39m \u001b[43maticq\u001b[49m\u001b[43m(\u001b[49m\u001b[43msrepr\u001b[49m\u001b[38;5;241;43m.\u001b[39;49m\u001b[43mwithout_differentials\u001b[49m\u001b[43m(\u001b[49m\u001b[43m)\u001b[49m\u001b[43m,\u001b[49m\u001b[43m \u001b[49m\u001b[43mastrom\u001b[49m\u001b[43m)\u001b[49m\n\u001b[0;32m    163\u001b[0m \u001b[38;5;28;01mif\u001b[39;00m (\n\u001b[0;32m    164\u001b[0m     gcrs_coo\u001b[38;5;241m.\u001b[39mdata\u001b[38;5;241m.\u001b[39mget_name() \u001b[38;5;241m==\u001b[39m \u001b[38;5;124m\"\u001b[39m\u001b[38;5;124munitspherical\u001b[39m\u001b[38;5;124m\"\u001b[39m\n\u001b[0;32m    165\u001b[0m     \u001b[38;5;129;01mor\u001b[39;00m gcrs_coo\u001b[38;5;241m.\u001b[39mdata\u001b[38;5;241m.\u001b[39mto_cartesian()\u001b[38;5;241m.\u001b[39mx\u001b[38;5;241m.\u001b[39munit \u001b[38;5;241m==\u001b[39m u\u001b[38;5;241m.\u001b[39mone\n\u001b[0;32m    166\u001b[0m ):\n\u001b[0;32m    167\u001b[0m     \u001b[38;5;66;03m# if no distance, just use the coordinate direction to yield the\u001b[39;00m\n\u001b[0;32m    168\u001b[0m     \u001b[38;5;66;03m# infinite-distance/no parallax answer\u001b[39;00m\n\u001b[0;32m    169\u001b[0m     newrep \u001b[38;5;241m=\u001b[39m UnitSphericalRepresentation(\n\u001b[0;32m    170\u001b[0m         lat\u001b[38;5;241m=\u001b[39mu\u001b[38;5;241m.\u001b[39mQuantity(i_dec, u\u001b[38;5;241m.\u001b[39mradian, copy\u001b[38;5;241m=\u001b[39m\u001b[38;5;28;01mFalse\u001b[39;00m),\n\u001b[0;32m    171\u001b[0m         lon\u001b[38;5;241m=\u001b[39mu\u001b[38;5;241m.\u001b[39mQuantity(i_ra, u\u001b[38;5;241m.\u001b[39mradian, copy\u001b[38;5;241m=\u001b[39m\u001b[38;5;28;01mFalse\u001b[39;00m),\n\u001b[0;32m    172\u001b[0m         copy\u001b[38;5;241m=\u001b[39m\u001b[38;5;28;01mFalse\u001b[39;00m,\n\u001b[0;32m    173\u001b[0m     )\n",
      "File \u001b[1;32m~\\anaconda3\\envs\\NNM\\lib\\site-packages\\astropy\\coordinates\\builtin_frames\\utils.py:238\u001b[0m, in \u001b[0;36maticq\u001b[1;34m(srepr, astrom)\u001b[0m\n\u001b[0;32m    236\u001b[0m eh \u001b[38;5;241m=\u001b[39m astrom[\u001b[38;5;124m\"\u001b[39m\u001b[38;5;124mem\u001b[39m\u001b[38;5;124m\"\u001b[39m][\u001b[38;5;241m.\u001b[39m\u001b[38;5;241m.\u001b[39m\u001b[38;5;241m.\u001b[39m, np\u001b[38;5;241m.\u001b[39mnewaxis] \u001b[38;5;241m*\u001b[39m astrom[\u001b[38;5;124m\"\u001b[39m\u001b[38;5;124meh\u001b[39m\u001b[38;5;124m\"\u001b[39m]\n\u001b[0;32m    237\u001b[0m \u001b[38;5;66;03m# unit vector from Sun to object\u001b[39;00m\n\u001b[1;32m--> 238\u001b[0m q \u001b[38;5;241m=\u001b[39m eh \u001b[38;5;241m+\u001b[39m \u001b[43msrepr_distance\u001b[49m\u001b[43m[\u001b[49m\u001b[38;5;241;43m.\u001b[39;49m\u001b[38;5;241;43m.\u001b[39;49m\u001b[38;5;241;43m.\u001b[39;49m\u001b[43m,\u001b[49m\u001b[43m \u001b[49m\u001b[43mnp\u001b[49m\u001b[38;5;241;43m.\u001b[39;49m\u001b[43mnewaxis\u001b[49m\u001b[43m]\u001b[49m\u001b[38;5;241m.\u001b[39mto_value(u\u001b[38;5;241m.\u001b[39mau) \u001b[38;5;241m*\u001b[39m before\n\u001b[0;32m    239\u001b[0m sundist, q \u001b[38;5;241m=\u001b[39m erfa\u001b[38;5;241m.\u001b[39mpn(q)\n\u001b[0;32m    240\u001b[0m sundist \u001b[38;5;241m=\u001b[39m sundist[\u001b[38;5;241m.\u001b[39m\u001b[38;5;241m.\u001b[39m\u001b[38;5;241m.\u001b[39m, np\u001b[38;5;241m.\u001b[39mnewaxis]\n",
      "File \u001b[1;32m~\\anaconda3\\envs\\NNM\\lib\\site-packages\\astropy\\units\\quantity.py:1272\u001b[0m, in \u001b[0;36mQuantity.__getitem__\u001b[1;34m(self, key)\u001b[0m\n\u001b[0;32m   1269\u001b[0m     \u001b[38;5;28;01mreturn\u001b[39;00m \u001b[38;5;28mself\u001b[39m\u001b[38;5;241m.\u001b[39m_new_view(\u001b[38;5;28mself\u001b[39m\u001b[38;5;241m.\u001b[39mview(np\u001b[38;5;241m.\u001b[39mndarray)[key], \u001b[38;5;28mself\u001b[39m\u001b[38;5;241m.\u001b[39munit[key])\n\u001b[0;32m   1271\u001b[0m \u001b[38;5;28;01mtry\u001b[39;00m:\n\u001b[1;32m-> 1272\u001b[0m     out \u001b[38;5;241m=\u001b[39m \u001b[38;5;28;43msuper\u001b[39;49m\u001b[43m(\u001b[49m\u001b[43m)\u001b[49m\u001b[38;5;241;43m.\u001b[39;49m\u001b[38;5;21;43m__getitem__\u001b[39;49m\u001b[43m(\u001b[49m\u001b[43mkey\u001b[49m\u001b[43m)\u001b[49m\n\u001b[0;32m   1273\u001b[0m \u001b[38;5;28;01mexcept\u001b[39;00m \u001b[38;5;167;01mIndexError\u001b[39;00m:\n\u001b[0;32m   1274\u001b[0m     \u001b[38;5;66;03m# We want zero-dimensional Quantity objects to behave like scalars,\u001b[39;00m\n\u001b[0;32m   1275\u001b[0m     \u001b[38;5;66;03m# so they should raise a TypeError rather than an IndexError.\u001b[39;00m\n\u001b[0;32m   1276\u001b[0m     \u001b[38;5;28;01mif\u001b[39;00m \u001b[38;5;28mself\u001b[39m\u001b[38;5;241m.\u001b[39misscalar:\n",
      "File \u001b[1;32m~\\anaconda3\\envs\\NNM\\lib\\site-packages\\astropy\\units\\quantity.py:600\u001b[0m, in \u001b[0;36mQuantity.__array_finalize__\u001b[1;34m(self, obj)\u001b[0m\n\u001b[0;32m    598\u001b[0m     unit \u001b[38;5;241m=\u001b[39m \u001b[38;5;28mgetattr\u001b[39m(obj, \u001b[38;5;124m\"\u001b[39m\u001b[38;5;124m_unit\u001b[39m\u001b[38;5;124m\"\u001b[39m, \u001b[38;5;28;01mNone\u001b[39;00m)\n\u001b[0;32m    599\u001b[0m     \u001b[38;5;28;01mif\u001b[39;00m unit \u001b[38;5;129;01mis\u001b[39;00m \u001b[38;5;129;01mnot\u001b[39;00m \u001b[38;5;28;01mNone\u001b[39;00m:\n\u001b[1;32m--> 600\u001b[0m         \u001b[38;5;28;43mself\u001b[39;49m\u001b[38;5;241;43m.\u001b[39;49m\u001b[43m_set_unit\u001b[49m\u001b[43m(\u001b[49m\u001b[43munit\u001b[49m\u001b[43m)\u001b[49m\n\u001b[0;32m    602\u001b[0m \u001b[38;5;66;03m# Copy info if the original had `info` defined.  Because of the way the\u001b[39;00m\n\u001b[0;32m    603\u001b[0m \u001b[38;5;66;03m# DataInfo works, `'info' in obj.__dict__` is False until the\u001b[39;00m\n\u001b[0;32m    604\u001b[0m \u001b[38;5;66;03m# `info` attribute is accessed or set.\u001b[39;00m\n\u001b[0;32m    605\u001b[0m \u001b[38;5;28;01mif\u001b[39;00m \u001b[38;5;124m\"\u001b[39m\u001b[38;5;124minfo\u001b[39m\u001b[38;5;124m\"\u001b[39m \u001b[38;5;129;01min\u001b[39;00m obj\u001b[38;5;241m.\u001b[39m\u001b[38;5;18m__dict__\u001b[39m:\n",
      "File \u001b[1;32m~\\anaconda3\\envs\\NNM\\lib\\site-packages\\astropy\\units\\quantity.py:2096\u001b[0m, in \u001b[0;36mSpecificTypeQuantity._set_unit\u001b[1;34m(self, unit)\u001b[0m\n\u001b[0;32m   2095\u001b[0m \u001b[38;5;28;01mdef\u001b[39;00m \u001b[38;5;21m_set_unit\u001b[39m(\u001b[38;5;28mself\u001b[39m, unit):\n\u001b[1;32m-> 2096\u001b[0m     \u001b[38;5;28;01mif\u001b[39;00m unit \u001b[38;5;129;01mis\u001b[39;00m \u001b[38;5;28;01mNone\u001b[39;00m \u001b[38;5;129;01mor\u001b[39;00m \u001b[38;5;129;01mnot\u001b[39;00m \u001b[43munit\u001b[49m\u001b[38;5;241;43m.\u001b[39;49m\u001b[43mis_equivalent\u001b[49m\u001b[43m(\u001b[49m\u001b[38;5;28;43mself\u001b[39;49m\u001b[38;5;241;43m.\u001b[39;49m\u001b[43m_equivalent_unit\u001b[49m\u001b[43m)\u001b[49m:\n\u001b[0;32m   2097\u001b[0m         \u001b[38;5;28;01mraise\u001b[39;00m UnitTypeError(\n\u001b[0;32m   2098\u001b[0m             \u001b[38;5;124m\"\u001b[39m\u001b[38;5;132;01m{}\u001b[39;00m\u001b[38;5;124m instances require units equivalent to \u001b[39m\u001b[38;5;124m'\u001b[39m\u001b[38;5;132;01m{}\u001b[39;00m\u001b[38;5;124m'\u001b[39m\u001b[38;5;124m\"\u001b[39m\u001b[38;5;241m.\u001b[39mformat(\n\u001b[0;32m   2099\u001b[0m                 \u001b[38;5;28mtype\u001b[39m(\u001b[38;5;28mself\u001b[39m)\u001b[38;5;241m.\u001b[39m\u001b[38;5;18m__name__\u001b[39m, \u001b[38;5;28mself\u001b[39m\u001b[38;5;241m.\u001b[39m_equivalent_unit\n\u001b[1;32m   (...)\u001b[0m\n\u001b[0;32m   2105\u001b[0m             )\n\u001b[0;32m   2106\u001b[0m         )\n\u001b[0;32m   2108\u001b[0m     \u001b[38;5;28msuper\u001b[39m()\u001b[38;5;241m.\u001b[39m_set_unit(unit)\n",
      "File \u001b[1;32m~\\anaconda3\\envs\\NNM\\lib\\site-packages\\astropy\\units\\core.py:969\u001b[0m, in \u001b[0;36mUnitBase.is_equivalent\u001b[1;34m(self, other, equivalencies)\u001b[0m\n\u001b[0;32m    948\u001b[0m \u001b[38;5;28;01mdef\u001b[39;00m \u001b[38;5;21mis_equivalent\u001b[39m(\u001b[38;5;28mself\u001b[39m, other, equivalencies\u001b[38;5;241m=\u001b[39m[]):\n\u001b[0;32m    949\u001b[0m     \u001b[38;5;124;03m\"\"\"\u001b[39;00m\n\u001b[0;32m    950\u001b[0m \u001b[38;5;124;03m    Returns `True` if this unit is equivalent to ``other``.\u001b[39;00m\n\u001b[0;32m    951\u001b[0m \n\u001b[1;32m   (...)\u001b[0m\n\u001b[0;32m    967\u001b[0m \u001b[38;5;124;03m    bool\u001b[39;00m\n\u001b[0;32m    968\u001b[0m \u001b[38;5;124;03m    \"\"\"\u001b[39;00m\n\u001b[1;32m--> 969\u001b[0m     equivalencies \u001b[38;5;241m=\u001b[39m \u001b[38;5;28;43mself\u001b[39;49m\u001b[38;5;241;43m.\u001b[39;49m\u001b[43m_normalize_equivalencies\u001b[49m\u001b[43m(\u001b[49m\u001b[43mequivalencies\u001b[49m\u001b[43m)\u001b[49m\n\u001b[0;32m    971\u001b[0m     \u001b[38;5;28;01mif\u001b[39;00m \u001b[38;5;28misinstance\u001b[39m(other, \u001b[38;5;28mtuple\u001b[39m):\n\u001b[0;32m    972\u001b[0m         \u001b[38;5;28;01mreturn\u001b[39;00m \u001b[38;5;28many\u001b[39m(\u001b[38;5;28mself\u001b[39m\u001b[38;5;241m.\u001b[39mis_equivalent(u, equivalencies) \u001b[38;5;28;01mfor\u001b[39;00m u \u001b[38;5;129;01min\u001b[39;00m other)\n",
      "File \u001b[1;32m~\\anaconda3\\envs\\NNM\\lib\\site-packages\\astropy\\units\\core.py:793\u001b[0m, in \u001b[0;36mUnitBase._normalize_equivalencies\u001b[1;34m(equivalencies)\u001b[0m\n\u001b[0;32m    791\u001b[0m normalized \u001b[38;5;241m=\u001b[39m _normalize_equivalencies(equivalencies)\n\u001b[0;32m    792\u001b[0m \u001b[38;5;28;01mif\u001b[39;00m equivalencies \u001b[38;5;129;01mis\u001b[39;00m \u001b[38;5;129;01mnot\u001b[39;00m \u001b[38;5;28;01mNone\u001b[39;00m:\n\u001b[1;32m--> 793\u001b[0m     normalized \u001b[38;5;241m+\u001b[39m\u001b[38;5;241m=\u001b[39m \u001b[43mget_current_unit_registry\u001b[49m\u001b[43m(\u001b[49m\u001b[43m)\u001b[49m\u001b[38;5;241m.\u001b[39mequivalencies\n\u001b[0;32m    795\u001b[0m \u001b[38;5;28;01mreturn\u001b[39;00m normalized\n",
      "File \u001b[1;32m~\\anaconda3\\envs\\NNM\\lib\\site-packages\\astropy\\units\\core.py:361\u001b[0m, in \u001b[0;36mget_current_unit_registry\u001b[1;34m()\u001b[0m\n\u001b[0;32m    355\u001b[0m         _unit_registries\u001b[38;5;241m.\u001b[39mpop()\n\u001b[0;32m    358\u001b[0m _unit_registries \u001b[38;5;241m=\u001b[39m [_UnitRegistry()]\n\u001b[1;32m--> 361\u001b[0m \u001b[38;5;28;01mdef\u001b[39;00m \u001b[38;5;21mget_current_unit_registry\u001b[39m():\n\u001b[0;32m    362\u001b[0m     \u001b[38;5;28;01mreturn\u001b[39;00m _unit_registries[\u001b[38;5;241m-\u001b[39m\u001b[38;5;241m1\u001b[39m]\n\u001b[0;32m    365\u001b[0m \u001b[38;5;28;01mdef\u001b[39;00m \u001b[38;5;21mset_enabled_units\u001b[39m(units):\n",
      "\u001b[1;31mKeyboardInterrupt\u001b[0m: "
     ]
    }
   ],
   "source": [
    "leto=2023\n",
    "\n",
    "dmesec=1\n",
    "ddan=1\n",
    "\n",
    "start_h=0\n",
    "end_h=24\n",
    "dh=1\n",
    "for mesec in tqdm(range(1,13,dmesec),desc=\"Mesec\"):\n",
    "    stevilo_dni=monthrange(leto, mesec)[1]\n",
    "    for dan in tqdm(range(1,stevilo_dni+1,ddan),desc=\"Dan\"):\n",
    "        \n",
    "        vzhod=False\n",
    "        alt_list=[]\n",
    "        \n",
    "        vzhod_loc=None\n",
    "        vzhod_t=None\n",
    "        \n",
    "        zahod_loc=None\n",
    "        zahod_t=None\n",
    "        for h in range(start_h,end_h,dh):\n",
    "            for m in range(0,60,1):\n",
    "                t=f\"{leto:04d}-{mesec:02d}-{dan:02d}T{h:02d}:{m:02d}:00\"\n",
    "                t=\"%04d-%02d-%02dT%02d:%02d:00\"%(leto,mesec,dan,h,m)\n",
    "                altaz = coord.AltAz(location=loc, obstime=t)\n",
    "                sun = coord.get_sun(Time(t, format='isot', scale='utc'))\n",
    "                y=sun.transform_to(altaz).alt.degree\n",
    "                y2=sun.transform_to(altaz).az.degree\n",
    "                df_1min[\"Datum\"].append(t)\n",
    "                df_1min[\"Mesec\"].append(mesec)\n",
    "                df_1min[\"Dan\"].append(dan)\n",
    "                df_1min[\"Ura\"].append(h)\n",
    "                df_1min[\"Minuta\"].append(m)\n",
    "                df_1min[\"Az\"].append(y2)\n",
    "                df_1min[\"Alt\"].append(y)\n",
    "                \n",
    "                alt_list.append(y)\n",
    "                \n",
    "                if not vzhod and len(df_1min[\"Alt\"])>1:\n",
    "                    if df_1min[\"Alt\"][-2]*df_1min[\"Alt\"][-1]<0:\n",
    "                        vzhod=True\n",
    "                        vzhod_loc=y2\n",
    "                        vzhod_t=h+m/60.0\n",
    "\n",
    "                if vzhod and df_1min[\"Alt\"][-2]>0 and df_1min[\"Alt\"][-1]<0:\n",
    "                    \n",
    "                    zahod_loc=y2\n",
    "                    zahod_t=h+m/60.0\n",
    "        dt=zahod_t-vzhod_t\n",
    "        \n",
    "        df_dnevno[\"Datum\"].append(t)\n",
    "        df_dnevno[\"Mesec\"].append(mesec)\n",
    "        df_dnevno[\"Dan\"].append(dan)\n",
    "        df_dnevno[\"Sončni vzhod lokacija\"].append(vzhod_loc)\n",
    "        df_dnevno[\"Sončni vzhod ura\"].append(vzhod_t)\n",
    "        df_dnevno[\"Sončni zahod lokacija\"].append(zahod_loc)\n",
    "        df_dnevno[\"Sončni zahod ura\"].append(zahod_t)\n",
    "        df_dnevno[\"Dolžina dneva\"].append(dt)\n",
    "        df_dnevno[\"Alt maks\"].append(max(alt_list))\n",
    "        print(dan,mesec,leto,\"%.2f\"%dt,\"%.2f\"%vzhod_t,\"%.2f\"%zahod_t,\"%.2f\"%max(alt_list))"
   ]
  },
  {
   "cell_type": "code",
   "execution_count": 51,
   "id": "23f3b4f2",
   "metadata": {
    "ExecuteTime": {
     "end_time": "2023-02-21T08:46:12.552346Z",
     "start_time": "2023-02-21T08:46:11.727940Z"
    }
   },
   "outputs": [],
   "source": [
    "import pandas as pd\n",
    "df_dnevno=pd.DataFrame.from_dict(df_dnevno)\n",
    "df_dnevno.to_csv(\"solar_daily.csv\")\n",
    "\n",
    "df_1min=pd.DataFrame.from_dict(df_1min)\n",
    "df_1min.to_csv(\"solar_minute.csv\")"
   ]
  },
  {
   "cell_type": "code",
   "execution_count": 52,
   "id": "26b29ea9",
   "metadata": {
    "ExecuteTime": {
     "end_time": "2023-02-21T08:46:16.937129Z",
     "start_time": "2023-02-21T08:46:16.916852Z"
    }
   },
   "outputs": [
    {
     "data": {
      "text/html": [
       "<div>\n",
       "<style scoped>\n",
       "    .dataframe tbody tr th:only-of-type {\n",
       "        vertical-align: middle;\n",
       "    }\n",
       "\n",
       "    .dataframe tbody tr th {\n",
       "        vertical-align: top;\n",
       "    }\n",
       "\n",
       "    .dataframe thead th {\n",
       "        text-align: right;\n",
       "    }\n",
       "</style>\n",
       "<table border=\"1\" class=\"dataframe\">\n",
       "  <thead>\n",
       "    <tr style=\"text-align: right;\">\n",
       "      <th></th>\n",
       "      <th>Datum</th>\n",
       "      <th>Mesec</th>\n",
       "      <th>Dan</th>\n",
       "      <th>Sončni vzhod lokacija</th>\n",
       "      <th>Sončni vzhod ura</th>\n",
       "      <th>Sončni zahod lokacija</th>\n",
       "      <th>Sončni zahod ura</th>\n",
       "      <th>Dolžina dneva</th>\n",
       "      <th>Alt maks</th>\n",
       "    </tr>\n",
       "  </thead>\n",
       "  <tbody>\n",
       "    <tr>\n",
       "      <th>0</th>\n",
       "      <td>2023-01-01T19:59:00</td>\n",
       "      <td>1</td>\n",
       "      <td>1</td>\n",
       "      <td>124.756877</td>\n",
       "      <td>6.800000</td>\n",
       "      <td>235.474433</td>\n",
       "      <td>15.250000</td>\n",
       "      <td>8.450000</td>\n",
       "      <td>20.431124</td>\n",
       "    </tr>\n",
       "    <tr>\n",
       "      <th>1</th>\n",
       "      <td>2023-01-01T23:59:00</td>\n",
       "      <td>1</td>\n",
       "      <td>1</td>\n",
       "      <td>124.756877</td>\n",
       "      <td>6.800000</td>\n",
       "      <td>235.474433</td>\n",
       "      <td>15.250000</td>\n",
       "      <td>8.450000</td>\n",
       "      <td>20.431124</td>\n",
       "    </tr>\n",
       "    <tr>\n",
       "      <th>2</th>\n",
       "      <td>2023-01-01T23:59:00</td>\n",
       "      <td>1</td>\n",
       "      <td>1</td>\n",
       "      <td>31.997377</td>\n",
       "      <td>0.000000</td>\n",
       "      <td>235.474433</td>\n",
       "      <td>15.250000</td>\n",
       "      <td>15.250000</td>\n",
       "      <td>20.431124</td>\n",
       "    </tr>\n",
       "    <tr>\n",
       "      <th>3</th>\n",
       "      <td>2023-01-02T23:59:00</td>\n",
       "      <td>1</td>\n",
       "      <td>2</td>\n",
       "      <td>124.619636</td>\n",
       "      <td>6.800000</td>\n",
       "      <td>235.624840</td>\n",
       "      <td>15.266667</td>\n",
       "      <td>8.466667</td>\n",
       "      <td>20.517080</td>\n",
       "    </tr>\n",
       "    <tr>\n",
       "      <th>4</th>\n",
       "      <td>2023-01-03T23:59:00</td>\n",
       "      <td>1</td>\n",
       "      <td>3</td>\n",
       "      <td>124.478743</td>\n",
       "      <td>6.800000</td>\n",
       "      <td>235.781097</td>\n",
       "      <td>15.283333</td>\n",
       "      <td>8.483333</td>\n",
       "      <td>20.610795</td>\n",
       "    </tr>\n",
       "    <tr>\n",
       "      <th>5</th>\n",
       "      <td>2023-01-04T23:59:00</td>\n",
       "      <td>1</td>\n",
       "      <td>4</td>\n",
       "      <td>124.334295</td>\n",
       "      <td>6.800000</td>\n",
       "      <td>235.943269</td>\n",
       "      <td>15.300000</td>\n",
       "      <td>8.500000</td>\n",
       "      <td>20.711927</td>\n",
       "    </tr>\n",
       "    <tr>\n",
       "      <th>6</th>\n",
       "      <td>2023-01-05T23:59:00</td>\n",
       "      <td>1</td>\n",
       "      <td>5</td>\n",
       "      <td>124.186392</td>\n",
       "      <td>6.800000</td>\n",
       "      <td>236.111419</td>\n",
       "      <td>15.316667</td>\n",
       "      <td>8.516667</td>\n",
       "      <td>20.820664</td>\n",
       "    </tr>\n",
       "    <tr>\n",
       "      <th>7</th>\n",
       "      <td>2023-01-06T23:59:00</td>\n",
       "      <td>1</td>\n",
       "      <td>6</td>\n",
       "      <td>123.853576</td>\n",
       "      <td>6.783333</td>\n",
       "      <td>236.285603</td>\n",
       "      <td>15.333333</td>\n",
       "      <td>8.550000</td>\n",
       "      <td>20.936771</td>\n",
       "    </tr>\n",
       "    <tr>\n",
       "      <th>8</th>\n",
       "      <td>2023-01-07T23:59:00</td>\n",
       "      <td>1</td>\n",
       "      <td>7</td>\n",
       "      <td>123.698998</td>\n",
       "      <td>6.783333</td>\n",
       "      <td>236.465876</td>\n",
       "      <td>15.350000</td>\n",
       "      <td>8.566667</td>\n",
       "      <td>21.060300</td>\n",
       "    </tr>\n",
       "  </tbody>\n",
       "</table>\n",
       "</div>"
      ],
      "text/plain": [
       "                 Datum  Mesec  Dan  Sončni vzhod lokacija  Sončni vzhod ura  \\\n",
       "0  2023-01-01T19:59:00      1    1             124.756877          6.800000   \n",
       "1  2023-01-01T23:59:00      1    1             124.756877          6.800000   \n",
       "2  2023-01-01T23:59:00      1    1              31.997377          0.000000   \n",
       "3  2023-01-02T23:59:00      1    2             124.619636          6.800000   \n",
       "4  2023-01-03T23:59:00      1    3             124.478743          6.800000   \n",
       "5  2023-01-04T23:59:00      1    4             124.334295          6.800000   \n",
       "6  2023-01-05T23:59:00      1    5             124.186392          6.800000   \n",
       "7  2023-01-06T23:59:00      1    6             123.853576          6.783333   \n",
       "8  2023-01-07T23:59:00      1    7             123.698998          6.783333   \n",
       "\n",
       "   Sončni zahod lokacija  Sončni zahod ura  Dolžina dneva   Alt maks  \n",
       "0             235.474433         15.250000       8.450000  20.431124  \n",
       "1             235.474433         15.250000       8.450000  20.431124  \n",
       "2             235.474433         15.250000      15.250000  20.431124  \n",
       "3             235.624840         15.266667       8.466667  20.517080  \n",
       "4             235.781097         15.283333       8.483333  20.610795  \n",
       "5             235.943269         15.300000       8.500000  20.711927  \n",
       "6             236.111419         15.316667       8.516667  20.820664  \n",
       "7             236.285603         15.333333       8.550000  20.936771  \n",
       "8             236.465876         15.350000       8.566667  21.060300  "
      ]
     },
     "execution_count": 52,
     "metadata": {},
     "output_type": "execute_result"
    }
   ],
   "source": [
    "df_dnevno"
   ]
  },
  {
   "cell_type": "code",
   "execution_count": null,
   "id": "ff9711f5",
   "metadata": {},
   "outputs": [],
   "source": [
    "# Graf ki prikazuje\n",
    "1) Kako se spreminja Dolžina dneva glede na zaporeden dan v letu\n",
    "2) Kako se spreminja Lega sonca ob vzhodu glede na zaporeden dan v letu\n",
    "3) Kako se spreminja Lega sonca ob zahodu glede na zaporeden dan v letu\n",
    "4) Kako se spreminja najvija lega sonca ob glede na zaporeden dan v letu\n",
    "\n",
    "Možnosti za eksperimentiranje:\n",
    "Primerjaj grafe za lokacijo blizu ekvatorje in za lokacijo blizu pola"
   ]
  }
 ],
 "metadata": {
  "gist": {
   "data": {
    "description": "00_Python/Sonce_lega/Untitled.ipynb",
    "public": false
   },
   "id": ""
  },
  "hide_input": false,
  "kernelspec": {
   "display_name": "Python 3",
   "language": "python",
   "name": "python3"
  },
  "language_info": {
   "codemirror_mode": {
    "name": "ipython",
    "version": 3
   },
   "file_extension": ".py",
   "mimetype": "text/x-python",
   "name": "python",
   "nbconvert_exporter": "python",
   "pygments_lexer": "ipython3",
   "version": "3.10.4"
  },
  "toc": {
   "base_numbering": 1,
   "nav_menu": {},
   "number_sections": true,
   "sideBar": true,
   "skip_h1_title": false,
   "title_cell": "Table of Contents",
   "title_sidebar": "Contents",
   "toc_cell": false,
   "toc_position": {},
   "toc_section_display": true,
   "toc_window_display": false
  },
  "varInspector": {
   "cols": {
    "lenName": 16,
    "lenType": 16,
    "lenVar": 40
   },
   "kernels_config": {
    "python": {
     "delete_cmd_postfix": "",
     "delete_cmd_prefix": "del ",
     "library": "var_list.py",
     "varRefreshCmd": "print(var_dic_list())"
    },
    "r": {
     "delete_cmd_postfix": ") ",
     "delete_cmd_prefix": "rm(",
     "library": "var_list.r",
     "varRefreshCmd": "cat(var_dic_list()) "
    }
   },
   "types_to_exclude": [
    "module",
    "function",
    "builtin_function_or_method",
    "instance",
    "_Feature"
   ],
   "window_display": false
  }
 },
 "nbformat": 4,
 "nbformat_minor": 5
}
