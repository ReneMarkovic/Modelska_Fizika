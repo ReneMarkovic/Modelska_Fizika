{
 "cells": [
  {
   "cell_type": "markdown",
   "metadata": {},
   "source": [
    "# Uvozim knjižice"
   ]
  },
  {
   "cell_type": "code",
   "execution_count": 1,
   "metadata": {
    "ExecuteTime": {
     "end_time": "2023-03-21T07:09:45.539845Z",
     "start_time": "2023-03-21T07:09:43.891022Z"
    }
   },
   "outputs": [],
   "source": [
    "import spacy #\n",
    "\n",
    "import warnings\n",
    "warnings.filterwarnings('ignore')\n",
    "from spacy import displacy\n",
    "import nltk\n",
    "from tqdm.notebook import tqdm\n",
    "import networkx as nx\n",
    "import re #regular expression"
   ]
  },
  {
   "cell_type": "markdown",
   "metadata": {},
   "source": [
    "# Priprava besedila"
   ]
  },
  {
   "cell_type": "code",
   "execution_count": 2,
   "metadata": {
    "ExecuteTime": {
     "end_time": "2023-03-21T07:09:49.717147Z",
     "start_time": "2023-03-21T07:09:47.837263Z"
    }
   },
   "outputs": [
    {
     "name": "stdout",
     "output_type": "stream",
     "text": [
      "Stevilo stavkov v besedilu je 89040\n"
     ]
    }
   ],
   "source": [
    "#1 Naložimo besedilo\n",
    "book=open(\"GOT.txt\",encoding=\"utf8\").read()\n",
    "\n",
    "#2 Čiščenje besedila\n",
    "book=re.sub(r\"“\",\"\",book)\n",
    "book=re.sub(r\"”\",\"\",book)\n",
    "\n",
    "#3 Diskretizacija besedila\n",
    "stavki=nltk.sent_tokenize(book)\n",
    "print(f\"Stevilo stavkov v besedilu je {len(stavki)}\")"
   ]
  },
  {
   "cell_type": "markdown",
   "metadata": {},
   "source": [
    "# NER (Named Enteties Recognition): Spacy"
   ]
  },
  {
   "cell_type": "code",
   "execution_count": 10,
   "metadata": {
    "ExecuteTime": {
     "end_time": "2023-03-21T07:16:49.360890Z",
     "start_time": "2023-03-21T07:16:48.800409Z"
    }
   },
   "outputs": [],
   "source": [
    "nlp=spacy.load(\"en_core_web_sm\")"
   ]
  },
  {
   "cell_type": "markdown",
   "metadata": {},
   "source": [
    "<img src=\"https://user-images.githubusercontent.com/13643239/55229632-dbff9480-521d-11e9-8499-efb2a9c948db.png\" alt=\"Slika_1\" width=\"900\"/>"
   ]
  },
  {
   "cell_type": "code",
   "execution_count": 50,
   "metadata": {
    "ExecuteTime": {
     "end_time": "2023-03-21T08:43:06.732354Z",
     "start_time": "2023-03-21T08:43:06.722338Z"
    }
   },
   "outputs": [],
   "source": [
    "liki={} #Prazen dictionary za like in lege, kje se pojavljajo.\n",
    "\n",
    "N=int(0.2*len(stavki)) #Definiram kolikšen delež oz. število stavkov uporabi v analizi"
   ]
  },
  {
   "cell_type": "markdown",
   "metadata": {},
   "source": [
    "Sedja lahko uporabimo spacy, da prepoznamo za kakšno vrsto besede gre oz. ali ima posamezna beseda določen pomen kot je to recimo ime osebe. V spodnji zanki gremo skozi prvih 10 stavkov in preverimo kakšne so entitete v besedilu."
   ]
  },
  {
   "cell_type": "code",
   "execution_count": 51,
   "metadata": {
    "ExecuteTime": {
     "end_time": "2023-03-21T08:43:07.692636Z",
     "start_time": "2023-03-21T08:43:07.503080Z"
    },
    "scrolled": false
   },
   "outputs": [
    {
     "data": {
      "application/vnd.jupyter.widget-view+json": {
       "model_id": "6ad1484f11034f7ab31fd78ce04fd254",
       "version_major": 2,
       "version_minor": 0
      },
      "text/plain": [
       "  0%|          | 0/100 [00:00<?, ?it/s]"
      ]
     },
     "metadata": {},
     "output_type": "display_data"
    },
    {
     "data": {
      "text/html": [
       "<span class=\"tex2jax_ignore\"><div class=\"entities\" style=\"line-height: 2.5; direction: ltr\">Will could see the tightness around \n",
       "<mark class=\"entity\" style=\"background: #bfeeb7; padding: 0.45em 0.6em; margin: 0 0.25em; line-height: 1; border-radius: 0.35em;\">\n",
       "    Gared\n",
       "    <span style=\"font-size: 0.8em; font-weight: bold; line-height: 1; border-radius: 0.35em; vertical-align: middle; margin-left: 0.5rem\">PRODUCT</span>\n",
       "</mark>\n",
       "’s mouth, the barely suppressed anger in his eyes under the thick black hood of his cloak.</div></span>"
      ],
      "text/plain": [
       "<IPython.core.display.HTML object>"
      ]
     },
     "metadata": {},
     "output_type": "display_data"
    },
    {
     "data": {
      "text/html": [
       "<span class=\"tex2jax_ignore\"><div class=\"entities\" style=\"line-height: 2.5; direction: ltr\">Gared had spent \n",
       "<mark class=\"entity\" style=\"background: #bfe1d9; padding: 0.45em 0.6em; margin: 0 0.25em; line-height: 1; border-radius: 0.35em;\">\n",
       "    forty years\n",
       "    <span style=\"font-size: 0.8em; font-weight: bold; line-height: 1; border-radius: 0.35em; vertical-align: middle; margin-left: 0.5rem\">DATE</span>\n",
       "</mark>\n",
       " in \n",
       "<mark class=\"entity\" style=\"background: #9cc9cc; padding: 0.45em 0.6em; margin: 0 0.25em; line-height: 1; border-radius: 0.35em;\">\n",
       "    the Night’s Watch\n",
       "    <span style=\"font-size: 0.8em; font-weight: bold; line-height: 1; border-radius: 0.35em; vertical-align: middle; margin-left: 0.5rem\">FAC</span>\n",
       "</mark>\n",
       ", man and boy, and he was not accustomed to being made light of.</div></span>"
      ],
      "text/plain": [
       "<IPython.core.display.HTML object>"
      ]
     },
     "metadata": {},
     "output_type": "display_data"
    },
    {
     "data": {
      "text/html": [
       "<span class=\"tex2jax_ignore\"><div class=\"entities\" style=\"line-height: 2.5; direction: ltr\">The \n",
       "<mark class=\"entity\" style=\"background: #e4e7d2; padding: 0.45em 0.6em; margin: 0 0.25em; line-height: 1; border-radius: 0.35em;\">\n",
       "    first\n",
       "    <span style=\"font-size: 0.8em; font-weight: bold; line-height: 1; border-radius: 0.35em; vertical-align: middle; margin-left: 0.5rem\">ORDINAL</span>\n",
       "</mark>\n",
       " time he had been sent beyond, all the old stories had come rushing back, and his bowels had turned to water.</div></span>"
      ],
      "text/plain": [
       "<IPython.core.display.HTML object>"
      ]
     },
     "metadata": {},
     "output_type": "display_data"
    },
    {
     "data": {
      "text/html": [
       "<span class=\"tex2jax_ignore\"><div class=\"entities\" style=\"line-height: 2.5; direction: ltr\">He was a veteran of a \n",
       "<mark class=\"entity\" style=\"background: #e4e7d2; padding: 0.45em 0.6em; margin: 0 0.25em; line-height: 1; border-radius: 0.35em;\">\n",
       "    hundred\n",
       "    <span style=\"font-size: 0.8em; font-weight: bold; line-height: 1; border-radius: 0.35em; vertical-align: middle; margin-left: 0.5rem\">CARDINAL</span>\n",
       "</mark>\n",
       " rangings by now, and the endless dark wilderness that the southron called the haunted forest had no more terrors for him.</div></span>"
      ],
      "text/plain": [
       "<IPython.core.display.HTML object>"
      ]
     },
     "metadata": {},
     "output_type": "display_data"
    },
    {
     "data": {
      "text/html": [
       "<span class=\"tex2jax_ignore\"><div class=\"entities\" style=\"line-height: 2.5; direction: ltr\">\n",
       "<mark class=\"entity\" style=\"background: #bfe1d9; padding: 0.45em 0.6em; margin: 0 0.25em; line-height: 1; border-radius: 0.35em;\">\n",
       "    Nine days\n",
       "    <span style=\"font-size: 0.8em; font-weight: bold; line-height: 1; border-radius: 0.35em; vertical-align: middle; margin-left: 0.5rem\">DATE</span>\n",
       "</mark>\n",
       " they had been riding, north and northwest and then north again, farther and farther from the Wall, hard on the track of a band of wildling raiders.</div></span>"
      ],
      "text/plain": [
       "<IPython.core.display.HTML object>"
      ]
     },
     "metadata": {},
     "output_type": "display_data"
    },
    {
     "data": {
      "text/html": [
       "<span class=\"tex2jax_ignore\"><div class=\"entities\" style=\"line-height: 2.5; direction: ltr\">All day, Will had felt as though something were watching him, something cold and implacable that loved him not.</div></span>"
      ],
      "text/plain": [
       "<IPython.core.display.HTML object>"
      ]
     },
     "metadata": {},
     "output_type": "display_data"
    },
    {
     "data": {
      "text/html": [
       "<span class=\"tex2jax_ignore\"><div class=\"entities\" style=\"line-height: 2.5; direction: ltr\">Will wanted nothing so much as to ride hellbent for the safety of the Wall, but that was not a feeling to share with your commander.</div></span>"
      ],
      "text/plain": [
       "<IPython.core.display.HTML object>"
      ]
     },
     "metadata": {},
     "output_type": "display_data"
    },
    {
     "data": {
      "text/html": [
       "<span class=\"tex2jax_ignore\"><div class=\"entities\" style=\"line-height: 2.5; direction: ltr\">Mounted on his huge black destrier, the knight towered above Will and \n",
       "<mark class=\"entity\" style=\"background: #aa9cfc; padding: 0.45em 0.6em; margin: 0 0.25em; line-height: 1; border-radius: 0.35em;\">\n",
       "    Gared\n",
       "    <span style=\"font-size: 0.8em; font-weight: bold; line-height: 1; border-radius: 0.35em; vertical-align: middle; margin-left: 0.5rem\">PERSON</span>\n",
       "</mark>\n",
       " on their smaller garrons.</div></span>"
      ],
      "text/plain": [
       "<IPython.core.display.HTML object>"
      ]
     },
     "metadata": {},
     "output_type": "display_data"
    },
    {
     "data": {
      "text/html": [
       "<span class=\"tex2jax_ignore\"><div class=\"entities\" style=\"line-height: 2.5; direction: ltr\">He wore black leather boots, black woolen pants, black moleskin gloves, and a fine supple coat of gleaming black ringmail over layers of black wool and boiled leather.</div></span>"
      ],
      "text/plain": [
       "<IPython.core.display.HTML object>"
      ]
     },
     "metadata": {},
     "output_type": "display_data"
    },
    {
     "data": {
      "text/html": [
       "<span class=\"tex2jax_ignore\"><div class=\"entities\" style=\"line-height: 2.5; direction: ltr\">Ser \n",
       "<mark class=\"entity\" style=\"background: #aa9cfc; padding: 0.45em 0.6em; margin: 0 0.25em; line-height: 1; border-radius: 0.35em;\">\n",
       "    Waymar\n",
       "    <span style=\"font-size: 0.8em; font-weight: bold; line-height: 1; border-radius: 0.35em; vertical-align: middle; margin-left: 0.5rem\">PERSON</span>\n",
       "</mark>\n",
       " had been a Sworn Brother of \n",
       "<mark class=\"entity\" style=\"background: #7aecec; padding: 0.45em 0.6em; margin: 0 0.25em; line-height: 1; border-radius: 0.35em;\">\n",
       "    the Night’s Watch\n",
       "    <span style=\"font-size: 0.8em; font-weight: bold; line-height: 1; border-radius: 0.35em; vertical-align: middle; margin-left: 0.5rem\">ORG</span>\n",
       "</mark>\n",
       " for \n",
       "<mark class=\"entity\" style=\"background: #e4e7d2; padding: 0.45em 0.6em; margin: 0 0.25em; line-height: 1; border-radius: 0.35em;\">\n",
       "    less than half\n",
       "    <span style=\"font-size: 0.8em; font-weight: bold; line-height: 1; border-radius: 0.35em; vertical-align: middle; margin-left: 0.5rem\">CARDINAL</span>\n",
       "</mark>\n",
       " a year, but no one could say he had not prepared for his vocation.</div></span>"
      ],
      "text/plain": [
       "<IPython.core.display.HTML object>"
      ]
     },
     "metadata": {},
     "output_type": "display_data"
    },
    {
     "data": {
      "text/html": [
       "<span class=\"tex2jax_ignore\"><div class=\"entities\" style=\"line-height: 2.5; direction: ltr\">Bet he killed them all himself, he did, \n",
       "<mark class=\"entity\" style=\"background: #aa9cfc; padding: 0.45em 0.6em; margin: 0 0.25em; line-height: 1; border-radius: 0.35em;\">\n",
       "    Gared\n",
       "    <span style=\"font-size: 0.8em; font-weight: bold; line-height: 1; border-radius: 0.35em; vertical-align: middle; margin-left: 0.5rem\">PERSON</span>\n",
       "</mark>\n",
       " told the barracks over wine, twisted their little heads off, our mighty warrior.</div></span>"
      ],
      "text/plain": [
       "<IPython.core.display.HTML object>"
      ]
     },
     "metadata": {},
     "output_type": "display_data"
    },
    {
     "data": {
      "text/html": [
       "<span class=\"tex2jax_ignore\"><div class=\"entities\" style=\"line-height: 2.5; direction: ltr\">It is hard to take orders from a man you laughed at in your cups, Will reflected as he sat shivering atop his garron.</div></span>"
      ],
      "text/plain": [
       "<IPython.core.display.HTML object>"
      ]
     },
     "metadata": {},
     "output_type": "display_data"
    },
    {
     "data": {
      "text/html": [
       "<span class=\"tex2jax_ignore\"><div class=\"entities\" style=\"line-height: 2.5; direction: ltr\">Will had ridden with the knight long enough to understand that it was best not to interrupt him when he looked like that.</div></span>"
      ],
      "text/plain": [
       "<IPython.core.display.HTML object>"
      ]
     },
     "metadata": {},
     "output_type": "display_data"
    },
    {
     "data": {
      "text/html": [
       "<span class=\"tex2jax_ignore\"><div class=\"entities\" style=\"line-height: 2.5; direction: ltr\">Mallister freeriders had caught him red-handed in the \n",
       "<mark class=\"entity\" style=\"background: #aa9cfc; padding: 0.45em 0.6em; margin: 0 0.25em; line-height: 1; border-radius: 0.35em;\">\n",
       "    Mallisters\n",
       "    <span style=\"font-size: 0.8em; font-weight: bold; line-height: 1; border-radius: 0.35em; vertical-align: middle; margin-left: 0.5rem\">PERSON</span>\n",
       "</mark>\n",
       "’ own woods, skinning \n",
       "<mark class=\"entity\" style=\"background: #e4e7d2; padding: 0.45em 0.6em; margin: 0 0.25em; line-height: 1; border-radius: 0.35em;\">\n",
       "    one\n",
       "    <span style=\"font-size: 0.8em; font-weight: bold; line-height: 1; border-radius: 0.35em; vertical-align: middle; margin-left: 0.5rem\">CARDINAL</span>\n",
       "</mark>\n",
       " of the Mallisters’ own bucks, and it had been a choice of putting on the black or losing a hand.</div></span>"
      ],
      "text/plain": [
       "<IPython.core.display.HTML object>"
      ]
     },
     "metadata": {},
     "output_type": "display_data"
    },
    {
     "data": {
      "text/html": [
       "<span class=\"tex2jax_ignore\"><div class=\"entities\" style=\"line-height: 2.5; direction: ltr\">No one could move through the woods as silent as Will, and it had not taken the black brothers long to discover his talent.</div></span>"
      ],
      "text/plain": [
       "<IPython.core.display.HTML object>"
      ]
     },
     "metadata": {},
     "output_type": "display_data"
    }
   ],
   "source": [
    "for s in tqdm(range(100),total=100):\n",
    "    if len(stavki[s])>100:\n",
    "        doc=nlp(stavki[s])\n",
    "        try:\n",
    "            displacy.render(doc, style=\"ent\", jupyter=True)\n",
    "        except:\n",
    "            pass"
   ]
  },
  {
   "cell_type": "code",
   "execution_count": 52,
   "metadata": {
    "ExecuteTime": {
     "end_time": "2023-03-21T08:44:33.326895Z",
     "start_time": "2023-03-21T08:43:09.510509Z"
    }
   },
   "outputs": [
    {
     "data": {
      "application/vnd.jupyter.widget-view+json": {
       "model_id": "114a473cabc54a0791f2a7bd5859f469",
       "version_major": 2,
       "version_minor": 0
      },
      "text/plain": [
       "  0%|          | 0/17808 [00:00<?, ?it/s]"
      ]
     },
     "metadata": {},
     "output_type": "display_data"
    }
   ],
   "source": [
    "for s in tqdm(range(N),total=N):\n",
    "    doc=nlp(stavki[s])\n",
    "    for ent in doc.ents:\n",
    "        if ent.label_==\"PERSON\":\n",
    "            oseba=ent.text\n",
    "            if oseba not in liki:\n",
    "                liki[oseba]=[]\n",
    "                #print(s,oseba, ent.start_char, ent.end_char, ent.label_)\n",
    "            liki[oseba].append(s) # Za osebo si zapomnimo v katerem zaporednem stavku se je pojavila."
   ]
  },
  {
   "cell_type": "code",
   "execution_count": 53,
   "metadata": {
    "ExecuteTime": {
     "end_time": "2023-03-21T08:44:33.464994Z",
     "start_time": "2023-03-21T08:44:33.449128Z"
    }
   },
   "outputs": [
    {
     "name": "stdout",
     "output_type": "stream",
     "text": [
      "Gared [0, 11, 20, 25, 49, 54, 58, 111, 114, 126, 138, 195, 212, 217]\n",
      "Waymar Royce [3, 23, 47, 160, 173, 236, 301, 345, 373, 5980, 7885]\n",
      "grey-eyed [48]\n",
      "Waymar [51, 112, 126, 129, 133, 177, 213, 249, 253, 285, 312, 322, 328, 335, 342]\n",
      "Mallisters [73]\n",
      "m’lord [108, 178, 202, 4349, 4815, 7894, 8884, 9128, 9138, 9144, 10847, 10865, 11131, 11923, 12645, 12660, 12669, 14111, 14360, 14361, 14362, 14367, 14411, 14417, 14418, 14970, 15796, 15810, 16222, 17179, 17238]\n",
      "Maester Aemon [135, 369, 5710, 5794, 6577, 6581, 6583, 6649, 8396, 8571, 13851, 13879, 13906, 13912, 13921, 13929, 13938, 13951, 13966, 13980, 13993, 15969, 15982, 16084, 16103, 17139, 17276, 17334, 17356, 17588]\n",
      "Will [144, 170]\n",
      "Royce [169]\n",
      "wolf [174, 704, 1608, 1721, 2297, 2301, 2532, 2536, 2538, 2540, 2543, 2783, 3834, 4006, 4176, 4263, 4269, 4534, 4649, 4683, 4727, 5279, 7102, 7843, 10668, 16226, 16698, 17658, 17766, 17781]\n"
     ]
    }
   ],
   "source": [
    "for oseba in list(liki.keys())[:10]:\n",
    "    print(oseba,liki[oseba])"
   ]
  },
  {
   "cell_type": "markdown",
   "metadata": {},
   "source": [
    "# Izgradnmja sociograma"
   ]
  },
  {
   "cell_type": "markdown",
   "metadata": {},
   "source": [
    "## Poselimo mrežo z vozlišči"
   ]
  },
  {
   "cell_type": "code",
   "execution_count": 54,
   "metadata": {
    "ExecuteTime": {
     "end_time": "2023-03-21T08:44:33.613731Z",
     "start_time": "2023-03-21T08:44:33.598505Z"
    }
   },
   "outputs": [],
   "source": [
    "#Ustvariom prazno mrežo.\n",
    "G=nx.Graph()\n",
    "\n",
    "#Mrežo poselimo z vozlišči.\n",
    "for node in liki:\n",
    "    G.add_node(node)\n",
    "\n",
    "nodes=[node for node in G]"
   ]
  },
  {
   "cell_type": "code",
   "execution_count": 55,
   "metadata": {
    "ExecuteTime": {
     "end_time": "2023-03-21T08:44:33.727919Z",
     "start_time": "2023-03-21T08:44:33.716805Z"
    }
   },
   "outputs": [],
   "source": [
    "TH_LINK=3\n",
    "def check_dist(TH_LINK,x,y):\n",
    "    '''\n",
    "    x -> seznam lokacij za lik 1\n",
    "    y -> seznam lokacij za lik 2\n",
    "    '''\n",
    "    xx=np.array(x)\n",
    "    yy=np.array(y)\n",
    "    edge=None\n",
    "    z=[min(abs(s-xx)) for s in yy]\n",
    "    edge=len([zz for zz in z if zz<TH_LINK])\n",
    "    return edge\n",
    "\n",
    "def create_sociogram(liki,TH,TH_LINK):\n",
    "    #Ustvariom prazno mrežo.\n",
    "    G=nx.Graph()\n",
    "\n",
    "    #Mrežo poselimo z vozlišči.\n",
    "    for node in liki:\n",
    "        G.add_node(node)\n",
    "\n",
    "    for i,ix in tqdm(enumerate(nodes),total=len(nodes)):\n",
    "        for iy in nodes[i+1:]: #Zgornja trikotna matrika\n",
    "            wij=check_dist(TH_LINK,liki[ix],liki[iy])\n",
    "            if wij>=TH:\n",
    "                G.add_edge(ix,iy,weight=wij)\n",
    "    return G"
   ]
  },
  {
   "cell_type": "markdown",
   "metadata": {},
   "source": [
    "## Ustvarimo povezave"
   ]
  },
  {
   "cell_type": "markdown",
   "metadata": {},
   "source": [
    "Poveza do progrma vizualizacijo in analizo mrež <a href=\"https://gephi.org/\"> GEPHI </a>"
   ]
  },
  {
   "cell_type": "code",
   "execution_count": 56,
   "metadata": {
    "ExecuteTime": {
     "end_time": "2023-03-21T08:44:58.071542Z",
     "start_time": "2023-03-21T08:44:33.833814Z"
    }
   },
   "outputs": [
    {
     "data": {
      "application/vnd.jupyter.widget-view+json": {
       "model_id": "e307e5fdffbc42a0b97cc3bf229cab08",
       "version_major": 2,
       "version_minor": 0
      },
      "text/plain": [
       "  0%|          | 0/541 [00:00<?, ?it/s]"
      ]
     },
     "metadata": {},
     "output_type": "display_data"
    },
    {
     "name": "stdout",
     "output_type": "stream",
     "text": [
      "TH = 0, <k> = 540.00\n"
     ]
    },
    {
     "data": {
      "application/vnd.jupyter.widget-view+json": {
       "model_id": "1b1799a2675548ab818fee30fb4d324d",
       "version_major": 2,
       "version_minor": 0
      },
      "text/plain": [
       "  0%|          | 0/541 [00:00<?, ?it/s]"
      ]
     },
     "metadata": {},
     "output_type": "display_data"
    },
    {
     "name": "stdout",
     "output_type": "stream",
     "text": [
      "TH = 1, <k> = 8.12\n"
     ]
    },
    {
     "data": {
      "application/vnd.jupyter.widget-view+json": {
       "model_id": "7be41c0eca49494697a2d119c41b83a3",
       "version_major": 2,
       "version_minor": 0
      },
      "text/plain": [
       "  0%|          | 0/541 [00:00<?, ?it/s]"
      ]
     },
     "metadata": {},
     "output_type": "display_data"
    },
    {
     "name": "stdout",
     "output_type": "stream",
     "text": [
      "TH = 2, <k> = 2.00\n"
     ]
    },
    {
     "data": {
      "application/vnd.jupyter.widget-view+json": {
       "model_id": "1d8a5dfc87bc4ea18f242ea21b0b2b71",
       "version_major": 2,
       "version_minor": 0
      },
      "text/plain": [
       "  0%|          | 0/541 [00:00<?, ?it/s]"
      ]
     },
     "metadata": {},
     "output_type": "display_data"
    },
    {
     "name": "stdout",
     "output_type": "stream",
     "text": [
      "TH = 3, <k> = 1.07\n"
     ]
    },
    {
     "data": {
      "application/vnd.jupyter.widget-view+json": {
       "model_id": "487918073dc9438ba8ca2d69c95fa7f6",
       "version_major": 2,
       "version_minor": 0
      },
      "text/plain": [
       "  0%|          | 0/541 [00:00<?, ?it/s]"
      ]
     },
     "metadata": {},
     "output_type": "display_data"
    },
    {
     "name": "stdout",
     "output_type": "stream",
     "text": [
      "TH = 4, <k> = 0.68\n"
     ]
    },
    {
     "data": {
      "application/vnd.jupyter.widget-view+json": {
       "model_id": "10f49158635a4c0286d295b3b0d3b43d",
       "version_major": 2,
       "version_minor": 0
      },
      "text/plain": [
       "  0%|          | 0/541 [00:00<?, ?it/s]"
      ]
     },
     "metadata": {},
     "output_type": "display_data"
    },
    {
     "name": "stdout",
     "output_type": "stream",
     "text": [
      "TH = 5, <k> = 0.47\n"
     ]
    },
    {
     "data": {
      "application/vnd.jupyter.widget-view+json": {
       "model_id": "a18e6fd5149a4d0da3caec906210a367",
       "version_major": 2,
       "version_minor": 0
      },
      "text/plain": [
       "  0%|          | 0/541 [00:00<?, ?it/s]"
      ]
     },
     "metadata": {},
     "output_type": "display_data"
    },
    {
     "name": "stdout",
     "output_type": "stream",
     "text": [
      "TH = 6, <k> = 0.34\n"
     ]
    },
    {
     "data": {
      "application/vnd.jupyter.widget-view+json": {
       "model_id": "123303949e0b41df966e1fdb769cae22",
       "version_major": 2,
       "version_minor": 0
      },
      "text/plain": [
       "  0%|          | 0/541 [00:00<?, ?it/s]"
      ]
     },
     "metadata": {},
     "output_type": "display_data"
    },
    {
     "name": "stdout",
     "output_type": "stream",
     "text": [
      "TH = 7, <k> = 0.25\n"
     ]
    },
    {
     "data": {
      "application/vnd.jupyter.widget-view+json": {
       "model_id": "a83903a2128e4ff08dfc962b3700bfe2",
       "version_major": 2,
       "version_minor": 0
      },
      "text/plain": [
       "  0%|          | 0/541 [00:00<?, ?it/s]"
      ]
     },
     "metadata": {},
     "output_type": "display_data"
    },
    {
     "name": "stdout",
     "output_type": "stream",
     "text": [
      "TH = 8, <k> = 0.20\n"
     ]
    },
    {
     "data": {
      "application/vnd.jupyter.widget-view+json": {
       "model_id": "26537731248e452f90775dcdcd44b0c8",
       "version_major": 2,
       "version_minor": 0
      },
      "text/plain": [
       "  0%|          | 0/541 [00:00<?, ?it/s]"
      ]
     },
     "metadata": {},
     "output_type": "display_data"
    },
    {
     "name": "stdout",
     "output_type": "stream",
     "text": [
      "TH = 9, <k> = 0.18\n"
     ]
    }
   ],
   "source": [
    "for TH in range(0,10):\n",
    "    G=create_sociogram(liki,TH,TH_LINK)\n",
    "    print(f\"TH = {TH}, <k> = {np.mean([G.degree(node) for node in G]):.2f}\")"
   ]
  },
  {
   "cell_type": "code",
   "execution_count": 58,
   "metadata": {
    "ExecuteTime": {
     "end_time": "2023-03-21T08:45:27.531452Z",
     "start_time": "2023-03-21T08:45:25.121153Z"
    }
   },
   "outputs": [
    {
     "data": {
      "application/vnd.jupyter.widget-view+json": {
       "model_id": "3ca827f11a6a41cc8f338c6c90898a2b",
       "version_major": 2,
       "version_minor": 0
      },
      "text/plain": [
       "  0%|          | 0/541 [00:00<?, ?it/s]"
      ]
     },
     "metadata": {},
     "output_type": "display_data"
    }
   ],
   "source": [
    "G=create_sociogram(liki,3,TH_LINK)\n",
    "\n",
    "node_to_remove=[]\n",
    "\n",
    "for node in G:\n",
    "    if G.degree(node)<1:\n",
    "        node_to_remove.append(node)\n",
    "\n",
    "for node in node_to_remove:\n",
    "    G.remove_node(node)\n",
    "\n",
    "nx.write_graphml(G,\"sociogram_GOT.graphml\")"
   ]
  },
  {
   "cell_type": "markdown",
   "metadata": {},
   "source": [
    "# Sentimentalna vrednost stavka"
   ]
  },
  {
   "cell_type": "code",
   "execution_count": 64,
   "metadata": {
    "ExecuteTime": {
     "end_time": "2023-03-21T08:49:28.822882Z",
     "start_time": "2023-03-21T08:49:28.817876Z"
    }
   },
   "outputs": [
    {
     "name": "stdout",
     "output_type": "stream",
     "text": [
      "['tok2vec', 'tagger', 'parser', 'attribute_ruler', 'lemmatizer', 'ner', 'spacytextblob']\n"
     ]
    }
   ],
   "source": [
    "from spacytextblob.spacytextblob import SpacyTextBlob\n",
    "#nlp.add_pipe('spacytextblob')\n",
    "print(nlp.pipe_names)"
   ]
  },
  {
   "cell_type": "code",
   "execution_count": 69,
   "metadata": {
    "ExecuteTime": {
     "end_time": "2023-03-21T09:02:00.195299Z",
     "start_time": "2023-03-21T09:02:00.109915Z"
    }
   },
   "outputs": [
    {
     "data": {
      "application/vnd.jupyter.widget-view+json": {
       "model_id": "de71699e351c4e76be3f1f7dcda5b8df",
       "version_major": 2,
       "version_minor": 0
      },
      "text/plain": [
       "  0%|          | 0/10 [00:00<?, ?it/s]"
      ]
     },
     "metadata": {},
     "output_type": "display_data"
    }
   ],
   "source": [
    "for s in tqdm(range(10),total=10):\n",
    "    doc=nlp(stavki[s])\n",
    "    sentiment=doc._.blob.polarity\n",
    "    if abs(sentiment)>0.7:\n",
    "        print(f\"{doc} | polarity = {sentiment:.2f}\")"
   ]
  },
  {
   "cell_type": "code",
   "execution_count": 73,
   "metadata": {
    "ExecuteTime": {
     "end_time": "2023-03-21T09:03:11.508235Z",
     "start_time": "2023-03-21T09:03:11.498238Z"
    }
   },
   "outputs": [],
   "source": [
    "text='Janez1: \"Asdlčfkjasčdlkf jčadsfg\"\\n.P1eter: \"lkasjdhflkasdjhfasf\"\\nMarija: \"lksadjflkasjf\"'"
   ]
  },
  {
   "cell_type": "code",
   "execution_count": 71,
   "metadata": {
    "ExecuteTime": {
     "end_time": "2023-03-21T09:02:32.054947Z",
     "start_time": "2023-03-21T09:02:32.048223Z"
    }
   },
   "outputs": [],
   "source": [
    "import re"
   ]
  },
  {
   "cell_type": "code",
   "execution_count": 74,
   "metadata": {
    "ExecuteTime": {
     "end_time": "2023-03-21T09:03:13.285539Z",
     "start_time": "2023-03-21T09:03:13.279512Z"
    }
   },
   "outputs": [
    {
     "name": "stdout",
     "output_type": "stream",
     "text": [
      "\"Asdlčfkjasčdlkf jčadsfg\"\n",
      ".\"lkasjdhflkasdjhfasf\"\n",
      "\"lksadjflkasjf\"\n"
     ]
    }
   ],
   "source": [
    "text=re.sub(r\"[A-Z]+[a-z0-9]+:\\s\",'',text)\n",
    "print(text)"
   ]
  },
  {
   "cell_type": "code",
   "execution_count": null,
   "metadata": {},
   "outputs": [],
   "source": []
  }
 ],
 "metadata": {
  "hide_input": false,
  "kernelspec": {
   "display_name": "Python 3 (ipykernel)",
   "language": "python",
   "name": "python3"
  },
  "language_info": {
   "codemirror_mode": {
    "name": "ipython",
    "version": 3
   },
   "file_extension": ".py",
   "mimetype": "text/x-python",
   "name": "python",
   "nbconvert_exporter": "python",
   "pygments_lexer": "ipython3",
   "version": "3.10.0"
  },
  "toc": {
   "base_numbering": 1,
   "nav_menu": {},
   "number_sections": true,
   "sideBar": true,
   "skip_h1_title": false,
   "title_cell": "Table of Contents",
   "title_sidebar": "Contents",
   "toc_cell": false,
   "toc_position": {},
   "toc_section_display": true,
   "toc_window_display": true
  },
  "varInspector": {
   "cols": {
    "lenName": 16,
    "lenType": 16,
    "lenVar": 40
   },
   "kernels_config": {
    "python": {
     "delete_cmd_postfix": "",
     "delete_cmd_prefix": "del ",
     "library": "var_list.py",
     "varRefreshCmd": "print(var_dic_list())"
    },
    "r": {
     "delete_cmd_postfix": ") ",
     "delete_cmd_prefix": "rm(",
     "library": "var_list.r",
     "varRefreshCmd": "cat(var_dic_list()) "
    }
   },
   "types_to_exclude": [
    "module",
    "function",
    "builtin_function_or_method",
    "instance",
    "_Feature"
   ],
   "window_display": false
  }
 },
 "nbformat": 4,
 "nbformat_minor": 2
}
