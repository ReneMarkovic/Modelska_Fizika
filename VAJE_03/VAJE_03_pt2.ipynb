{
 "cells": [
  {
   "cell_type": "markdown",
   "metadata": {},
   "source": [
    "# Uvozim knjižice"
   ]
  },
  {
   "cell_type": "code",
   "execution_count": 5,
   "metadata": {
    "ExecuteTime": {
     "end_time": "2023-03-21T06:38:32.881404Z",
     "start_time": "2023-03-21T06:38:31.609513Z"
    }
   },
   "outputs": [],
   "source": [
    "import spacy\n",
    "import nltk\n",
    "from tqdm.notebook import tqdm\n",
    "import networkx as nx\n",
    "import re #regular expression"
   ]
  },
  {
   "cell_type": "markdown",
   "metadata": {},
   "source": [
    "# Priprava besedila"
   ]
  },
  {
   "cell_type": "code",
   "execution_count": 6,
   "metadata": {
    "ExecuteTime": {
     "end_time": "2023-03-21T06:38:35.228364Z",
     "start_time": "2023-03-21T06:38:32.915258Z"
    }
   },
   "outputs": [
    {
     "name": "stdout",
     "output_type": "stream",
     "text": [
      "Stevilo stavkov v besedilu je 89040\n"
     ]
    }
   ],
   "source": [
    "#1 Naložimo besedilo\n",
    "book=open(\"GOT.txt\",encoding=\"utf8\").read()\n",
    "\n",
    "#2 Čiščenje besedila\n",
    "book=re.sub(r\"“\",\"\",book)\n",
    "book=re.sub(r\"”\",\"\",book)\n",
    "\n",
    "#3 Diskretizacija besedila\n",
    "stavki=nltk.sent_tokenize(book)\n",
    "print(f\"Stevilo stavkov v besedilu je {len(stavki)}\")"
   ]
  },
  {
   "cell_type": "markdown",
   "metadata": {},
   "source": [
    "# NER (Named Enteties Recognition): Spacy"
   ]
  },
  {
   "cell_type": "code",
   "execution_count": 3,
   "metadata": {
    "ExecuteTime": {
     "end_time": "2023-03-16T09:21:18.296588Z",
     "start_time": "2023-03-16T09:21:16.749559Z"
    }
   },
   "outputs": [],
   "source": [
    "nlp=spacy.load(\"en_core_web_md\")"
   ]
  },
  {
   "cell_type": "markdown",
   "metadata": {},
   "source": [
    "<img src=\"https://user-images.githubusercontent.com/13643239/55229632-dbff9480-521d-11e9-8499-efb2a9c948db.png\" alt=\"Slika_1\" width=\"900\"/>"
   ]
  },
  {
   "cell_type": "code",
   "execution_count": 7,
   "metadata": {
    "ExecuteTime": {
     "end_time": "2023-03-21T06:39:35.458437Z",
     "start_time": "2023-03-21T06:38:47.247297Z"
    }
   },
   "outputs": [
    {
     "data": {
      "application/vnd.jupyter.widget-view+json": {
       "model_id": "8621282df6dc48ddb697ac5a37602074",
       "version_major": 2,
       "version_minor": 0
      },
      "text/plain": [
       "  0%|          | 0/8904 [00:00<?, ?it/s]"
      ]
     },
     "metadata": {},
     "output_type": "display_data"
    }
   ],
   "source": [
    "liki={}\n",
    "\n",
    "N=int(0.1*len(stavki))\n",
    "\n",
    "for s in tqdm(range(N),total=N):\n",
    "    doc=nlp(stavki[s])\n",
    "    for ent in doc.ents:\n",
    "        if ent.label_==\"PERSON\":\n",
    "            oseba=ent.text\n",
    "            if oseba not in liki:\n",
    "                liki[oseba]=[]\n",
    "                #print(s,oseba, ent.start_char, ent.end_char, ent.label_)\n",
    "            liki[oseba].append(s)"
   ]
  },
  {
   "cell_type": "code",
   "execution_count": 8,
   "metadata": {
    "ExecuteTime": {
     "end_time": "2023-03-21T06:39:35.571845Z",
     "start_time": "2023-03-21T06:39:35.559843Z"
    }
   },
   "outputs": [
    {
     "name": "stdout",
     "output_type": "stream",
     "text": [
      "Gared [0, 11, 20, 25, 49, 54, 58, 111, 114, 126, 138, 195, 212, 217]\n",
      "Waymar Royce [3, 23, 47, 160, 173, 236, 301, 345, 373, 5980, 7885]\n",
      "grey-eyed [48]\n",
      "Waymar [51, 112, 126, 129, 133, 177, 213, 249, 253, 285, 312, 322, 328, 335, 342]\n",
      "Mallisters [73]\n",
      "m’lord [108, 178, 202, 4349, 4815, 7894, 8884]\n",
      "Maester Aemon [135, 369, 5710, 5794, 6577, 6581, 6583, 6649, 8396, 8571]\n",
      "Will [144, 170]\n",
      "Royce [169]\n",
      "wolf [174, 704, 1608, 1721, 2297, 2301, 2532, 2536, 2538, 2540, 2543, 2783, 3834, 4006, 4176, 4263, 4269, 4534, 4649, 4683, 4727, 5279, 7102, 7843]\n"
     ]
    }
   ],
   "source": [
    "for oseba in list(liki.keys())[:10]:\n",
    "    print(oseba,liki[oseba])"
   ]
  },
  {
   "cell_type": "markdown",
   "metadata": {},
   "source": [
    "# Ustvarjanje sociograma"
   ]
  },
  {
   "cell_type": "markdown",
   "metadata": {},
   "source": [
    "## Mrežo poselimo z vozlišli, ki ponazarjajo posamezne like"
   ]
  },
  {
   "cell_type": "code",
   "execution_count": 9,
   "metadata": {
    "ExecuteTime": {
     "end_time": "2023-03-21T06:39:35.712178Z",
     "start_time": "2023-03-21T06:39:35.698626Z"
    }
   },
   "outputs": [
    {
     "name": "stdout",
     "output_type": "stream",
     "text": [
      "Število oseb = 294\n"
     ]
    }
   ],
   "source": [
    "G=nx.Graph()\n",
    "for oseba in liki:\n",
    "    G.add_node(oseba)\n",
    "\n",
    "print(f\"Število oseb = {len(G)}\")\n",
    "\n",
    "nodes=G.nodes()"
   ]
  },
  {
   "cell_type": "code",
   "execution_count": 10,
   "metadata": {
    "ExecuteTime": {
     "end_time": "2023-03-21T06:39:40.154745Z",
     "start_time": "2023-03-21T06:39:35.814261Z"
    }
   },
   "outputs": [
    {
     "data": {
      "application/vnd.jupyter.widget-view+json": {
       "model_id": "ae8712d17246410da22f6c3706d75df4",
       "version_major": 2,
       "version_minor": 0
      },
      "text/plain": [
       "  0%|          | 0/294 [00:00<?, ?it/s]"
      ]
     },
     "metadata": {},
     "output_type": "display_data"
    }
   ],
   "source": [
    "for p1 in tqdm(G,total=len(G)):\n",
    "    x=np.array(liki[p1])\n",
    "    for p2 in G:\n",
    "        y=np.array(liki[p2])\n",
    "        if p1!=p2:\n",
    "            xy=np.array([np.min(np.abs(y-xi)) for xi in x])\n",
    "            wij=len(np.where(xy<5)[0])\n",
    "            if wij>3:\n",
    "                #print(p1,p2,wij)\n",
    "                G.add_edge(p1,p2,weight=wij)"
   ]
  },
  {
   "cell_type": "code",
   "execution_count": 11,
   "metadata": {
    "ExecuteTime": {
     "end_time": "2023-03-21T06:39:40.590956Z",
     "start_time": "2023-03-21T06:39:40.278257Z"
    }
   },
   "outputs": [],
   "source": [
    "remove_nodes=[]\n",
    "for node in G:\n",
    "    if G.degree(node)<1:\n",
    "        remove_nodes.append(node)\n",
    "\n",
    "for node in remove_nodes:\n",
    "    G.remove_node(node)\n",
    "\n",
    "nx.write_graphml(G,\"sociogram.graphml\")"
   ]
  },
  {
   "cell_type": "markdown",
   "metadata": {},
   "source": [
    "# Kateri hiši pripadajo liki?"
   ]
  },
  {
   "cell_type": "markdown",
   "metadata": {
    "ExecuteTime": {
     "end_time": "2023-03-16T09:59:54.028082Z",
     "start_time": "2023-03-16T09:59:54.008082Z"
    }
   },
   "source": [
    "appendix=open(\"appendix.txt\",encoding=\"utf8\").read().split(\"Other Houses Great And Small\")[1]\n",
    "appendix=re.sub(\"\\n\\n+\",\"\\n\",appendix)\n",
    "\n",
    "house=None\n",
    "pattern = r\"\\b[A-Z]+\\b\"\n",
    "for p in appendix.split(\"\\n\")[1::]:\n",
    "    if \"HOUSE\" in p:\n",
    "        house=p.split(\"HOUSE\")[1]\n",
    "    elif p[0]==\"—\":\n",
    "        for pp in p.split(\",\"):\n",
    "            matches = ' '.join(re.findall(pattern, pp))\n",
    "            if matches!='':\n",
    "                print(house,matches)"
   ]
  },
  {
   "cell_type": "markdown",
   "metadata": {},
   "source": [
    "# Dodatna analiza besedila"
   ]
  },
  {
   "cell_type": "code",
   "execution_count": 13,
   "metadata": {
    "ExecuteTime": {
     "end_time": "2023-03-21T06:39:42.893130Z",
     "start_time": "2023-03-21T06:39:42.877894Z"
    }
   },
   "outputs": [],
   "source": [
    "import spacy\n",
    "from spacytextblob.spacytextblob import SpacyTextBlob\n",
    "import pandas as pd"
   ]
  },
  {
   "cell_type": "code",
   "execution_count": 20,
   "metadata": {
    "ExecuteTime": {
     "end_time": "2023-03-21T08:47:13.312589Z",
     "start_time": "2023-03-21T08:47:13.295817Z"
    }
   },
   "outputs": [
    {
     "name": "stdout",
     "output_type": "stream",
     "text": [
      "['tok2vec', 'tagger', 'parser', 'attribute_ruler', 'lemmatizer', 'ner', 'spacytextblob']\n"
     ]
    }
   ],
   "source": [
    "print(nlp.pipe_names)"
   ]
  },
  {
   "cell_type": "code",
   "execution_count": null,
   "metadata": {},
   "outputs": [],
   "source": [
    "patterns = [\n",
    "    {\n",
    "        \"pattern\": [{\"LOWER\": {\"IN\": [\"sword\", \"swords\", \"dagger\", \"daggers\"]}}],\n",
    "        \"attrs\": {\"_\": {\"is_weapon\": True}},\n",
    "    },\n",
    "]\n",
    "\n",
    "attribute_ruler.add_patterns(patterns)"
   ]
  },
  {
   "cell_type": "code",
   "execution_count": 18,
   "metadata": {
    "ExecuteTime": {
     "end_time": "2023-03-21T06:42:40.670833Z",
     "start_time": "2023-03-21T06:42:06.750995Z"
    }
   },
   "outputs": [
    {
     "data": {
      "application/vnd.jupyter.widget-view+json": {
       "model_id": "8960abcf2c5a4b7b8af7191a75b0e7f9",
       "version_major": 2,
       "version_minor": 0
      },
      "text/plain": [
       "  0%|          | 0/8904 [00:00<?, ?it/s]"
      ]
     },
     "metadata": {},
     "output_type": "display_data"
    },
    {
     "name": "stdout",
     "output_type": "stream",
     "text": [
      "He had laughed about it afterward. | 0.7\n",
      "Today was the worst of all. | -1.0\n",
      "A cold wind was blowing out of the north, and it made the trees rustle like living things. | -0.6\n",
      "Heavy-looking, double-bladed, a cruel piece of iron. | -1.0\n",
      "Ser Waymar asked casually. | -0.5\n",
      "It was the cold, Gared said with iron certainty. | -0.6\n",
      "Nothing burns like the cold. | -0.6\n",
      "I’ve had the cold in me too, lordling. | -0.6\n",
      "You ought dress more warmly, Gared. | 0.55\n",
      "We’ll see how warm you can dress when the winter comes. | 0.6\n",
      "There never was a week when he did not draw a dozen bloody watches. | -0.8\n",
      "Bright lad. | 0.7\n",
      "A half-moon rose. | 0.6\n",
      "Best go the rest of the way on foot, m’lord. | 1.0\n",
      "A cold wind whispered through the trees. | -0.6\n",
      "Four years in the Night’s Watch, and he had never been so afraid. | -0.6\n",
      "It was a splendid weapon, castle-forged, and new-made from the look of it. | 0.83\n",
      "Will doubted it had ever been swung in anger. | -0.7\n",
      "The taste of cold iron in his mouth gave him comfort. | -0.6\n",
      "Why is it so cold? | -0.6\n",
      "It was cold. | -0.6\n",
      "It was very cold. | -0.78\n",
      "Ser Waymar met him bravely. | 0.8\n",
      "His hands trembled from the weight of it, or perhaps from the cold. | -0.6\n",
      "Three of them… four… five… Ser Waymar may have felt the cold that came with them, but he never saw them, never heard them. | -0.6\n",
      "Swords rose and fell, all in a deathly silence. | 0.6\n",
      "It was cold butchery. | -0.6\n",
      "Will rose. | 0.6\n",
      "The wildlings were cruel men, she said, slavers and slayers and thieves. | -1.0\n",
      "And their women lay with the Others in the Long Night to sire terrible half-human children. | -0.53\n",
      "He laughed, put his boot on the head, and kicked it away. | 0.7\n",
      "The deserter died bravely, Robb said. | 0.8\n",
      "His lord father smiled. | 0.6\n",
      "One day, Bran, you will be Robb’s bannerman, holding a keep of your own for your brother and your king, and justice will fall to you. | 0.6\n",
      "There’s something in the throat, Robb told him, proud to have found the answer before his father even asked. | 0.8\n",
      "Bran looked at him with desperate hope. | -0.6\n",
      "He loved Jon with all his heart at that moment. | 0.7\n",
      "I will soak a towel with warm milk, and give him suck from that. | 0.6\n",
      "The pup squirmed in his grasp, licked at his face with a warm tongue. | 0.6\n",
      "And the gods help you if you neglect them, or brutalize them, or train them badly. | -0.7\n",
      "She could feel the eyes watching her, but she did her best to ignore them. | 1.0\n",
      "Is he afraid? | -0.6\n",
      "Every noble house had its words. | 0.6\n",
      "You would have been proud of Bran. | 0.8\n",
      "I am always proud of Bran, Catelyn replied, watching the sword as he stroked it. | 0.8\n",
      "The day may come when I will have no choice but to call the banners and ride north to deal with this King-beyond-the-Wall for good and all. | 0.7\n",
      "There was grievous news today, my lord. | -0.8\n",
      "When the Mad King Aerys II Targaryen had demanded their heads, the Lord of the Eyrie had raised his moon-and-falcon banners in revolt rather than give up those he had pledged to protect. | -0.62\n",
      "It was the king’s seal, and the letter is in Robert’s own hand. | 0.6\n",
      "Catelyn wished she could share his joy. | 0.8\n",
      "Ned rose and pulled her to her feet. | 0.6\n",
      "It will be good to see the children. | 0.7\n",
      "He had friends in all of the Nine Free Cities, it was said, and even beyond, in Vaes Dothrak and the fabled lands beside the Jade Sea. | 0.55\n",
      "His anger was a terrible thing when roused. | -0.85\n",
      "Her brother smiled. | 0.6\n",
      "Good. | 0.7\n",
      "They said that storm was terrible. | -1.0\n",
      "The servants had lived in terror of him, but he had always been kind to Dany. | 0.6\n",
      "She liked the heat. | 0.6\n",
      "There was more like that, so much more, what a handsome man the khal was, so tall and fierce, fearless in battle, the best rider ever to mount a horse, a demon archer. | 0.62\n",
      "Yet now Viserys schemed to sell her to a stranger, a barbarian. | -0.7\n",
      "Good. | 0.7\n",
      "I suppose, her brother said doubtfully. | -0.8\n",
      "Boys, horses, sheep…\n",
      "Best not suggest this to Khal Drogo, Illyrio said. | 1.0\n",
      "Anger flashed in her brother’s lilac eyes. | -0.7\n",
      "He looked them over coldly. | -0.6\n",
      "Illyrio smiled through his beard. | 0.6\n",
      "A man should be able to do as he likes with his own chattel. | 0.55\n",
      "His face was hard and cruel, his eyes as cold and dark as onyx. | -0.51\n",
      "He smiled at her. | 0.6\n",
      "Ah, but it is good to see that frozen face of yours. | 0.7\n",
      "The king looked him over top to bottom, and laughed. | 0.6\n",
      "Ned loved him for that, for remembering her still after all these years. | 0.7\n",
      "He laughed and slapped his own ample stomach a thump. | 0.65\n",
      "The king laughed happily. | 0.75\n",
      "Ned had loved her with all his heart. | 0.7\n",
      "Robert had loved her even more. | 0.6\n",
      "She was more beautiful than that, the king said after a silence. | 0.68\n",
      "His voice was hoarse with remembered grief. | -0.8\n",
      "How does Lysa bear her grief? | -0.8\n",
      "I think losing Jon has driven the woman mad, Ned. | -0.62\n",
      "Six, and sickly, and Lord of the Eyrie, gods have mercy, the king swore. | -0.71\n",
      "The Lannisters are a great and noble House. | 0.7\n",
      "She and Catelyn were close as girls, and she would be welcome here as well. | 0.8\n",
      "Fostering the boy elsewhere would be a grievous affront to him. | -0.8\n",
      "Robert laughed, the sound rattling among the tombs and bouncing from the vaulted ceiling. | 0.55\n",
      "For the joy of my company, surely, he said lightly. | 0.57\n",
      "I need good men about me. | 0.7\n",
      "For his father’s sake if not his own. | 0.6\n",
      "He smiled. | 0.6\n",
      "At times he even sat upon the Iron Throne to dispense king’s justice, when the king was absent, or sick, or otherwise indisposed. | -0.71\n",
      "They say it grows so cold up here in winter that a man’s laughter freezes in his throat and chokes him to death, Ned said evenly. | -0.6\n",
      "You helped me win this damnable throne, now help me hold it. | 0.8\n",
      "The king smiled. | 0.6\n",
      "She was as beautiful as men said. | 0.85\n",
      "Robb didn’t even have the sense to realize how stupid she was; he was grinning like a fool. | -0.8\n",
      "He swallowed another gulp of wine and watched his direwolf devour the chicken. | -0.6\n",
      "Jon smiled. | 0.6\n",
      "Robb would someday inherit Winterfell, would command great armies as the Warden of the North. | 0.8\n",
      "Jon felt anger rise inside him. | -0.7\n",
      "The dwarf dusted himself off and laughed. | 0.7\n",
      "He ruffled the snow-white fur between Ghost’s ears and said, Nice wolf. | 0.6\n",
      "In that case, you had best stay close, the dwarf said. | 1.0\n",
      "He rose. | 0.6\n",
      "He favored Jon with a rueful grin. | 0.8\n",
      "CATELYN\n",
      "Of all the rooms in Winterfell’s Great Keep, Catelyn’s bedchambers were the hottest. | 0.8\n",
      "It was a good ache. | 0.7\n",
      "I’m afraid, she admitted. | -0.6\n",
      "There is grief in this message, Ned. | -0.8\n",
      "Even Ned looked shocked. | -0.7\n",
      "She found a dressing gown and shrugged into it, then knelt over the cold hearth. | -0.6\n",
      "Your sister is sick with grief. | -0.76\n",
      "The Hand of the King has great power, my lord. | 0.8\n",
      "No, she said, suddenly afraid. | -0.6\n",
      "Maester Luwin, I trust you as I would my own blood. | 0.6\n",
      "Ser Rodrik tells me there is bad feeling between Robb and Prince Joffrey. | -0.7\n",
      "Keep him off the walls, then, she said bravely. | 0.8\n",
      "Ned felt the anger in her, and pulled away. | -0.7\n",
      "He was welcome to whatever solace he might find between battles. | 0.8\n",
      "The Lady Ashara Dayne, tall and fair, with haunting violet eyes. | 0.7\n",
      "Never ask me about Jon, he said, cold as ice. | -0.6\n",
      "Whoever Jon’s mother had been, Ned must have loved her fiercely, for nothing Catelyn said would persuade him to send the boy away. | 0.7\n",
      "I had hoped…\n",
      "He cannot stay here, Catelyn said, cutting him off. | -0.6\n",
      "How can you be so damnably cruel, Catelyn? | -1.0\n",
      "Ned looked shocked. | -0.7\n",
      "Let Ned work it out in his own mind; her voice would not be welcome now. | 0.7\n",
      "His was the perfect solution. | 1.0\n",
      "He would father no sons who might someday contest with Catelyn’s own grandchildren for Winterfell. | 0.6\n",
      "Maester Luwin said, There is great honor in service on the Wall, my lord. | 0.8\n",
      "I suppose it is for the best. | 1.0\n",
      "Sansa’s needlework was exquisite. | 1.0\n",
      "Sansa was chatting away happily as she worked. | 0.8\n",
      "Myrcella said something then, and the septa laughed along with the rest of the ladies. | 0.7\n",
      "Joffrey likes your sister, Jeyne whispered, proud as if she had something to do with it. | 0.8\n",
      "He told her she was very beautiful. | 1.0\n",
      "She smiled for the septa. | 0.6\n",
      "A great honor for us all. | 0.8\n",
      "Princess Myrcella smiled uncertainly at the compliment. | 0.6\n",
      "She rose to her feet, starched skirts rustling as she started across the room. | 0.6\n",
      "It wasn’t fair. | 0.7\n"
     ]
    },
    {
     "name": "stdout",
     "output_type": "stream",
     "text": [
      "If she did marry Prince Joff, Arya hoped for his sake that he had a good steward. | 0.7\n",
      "Nymeria was waiting for her in the guardroom at the base of the stairs. | -0.8\n",
      "The wolf pup loved her, even if no one else did. | 0.7\n",
      "That had been a great scandal too. | 0.8\n",
      "He smiled. | 0.6\n",
      "I could do just as good as Bran, she said. | 0.7\n",
      "No doubt the needlework was exquisite. | 1.0\n",
      "The Lannisters are proud, Jon observed. | 0.8\n",
      "Are you afraid? | -0.6\n",
      "Some of the Lannister men laughed. | 0.7\n",
      "You’ll be sorry! | -0.62\n",
      "I hate needlework! | -1.0\n",
      "Nothing is fair, Jon said. | 0.7\n",
      "That was almost as good as going south with the king. | 0.7\n",
      "How could he be afraid? | -0.6\n",
      "The greatest living knight was Ser Barristan Selmy, Barristan the Bold, the Lord Commander of the Kingsguard. | 0.67\n",
      "Bran did his best, although he did not think he ever really fooled her. | 0.6\n",
      "That was the best time of all. | 1.0\n",
      "That was another thing he liked about climbing; it was almost like being invisible. | 0.6\n",
      "Bran hung, listening, suddenly afraid to go on. | -0.6\n",
      "You are all mad. | -0.62\n",
      "He laughed. | 0.7\n",
      "All this talk is getting very tiresome, sister, the man said. | -0.65\n",
      "He was very strong. | 0.56\n",
      "TYRION\n",
      "Somewhere in the great stone maze of Winterfell, a wolf howled. | 0.8\n",
      "Tyrion Lannister looked up from his books and shivered, though the library was snug and warm. | 0.6\n",
      "He tested the weight of it, slicing at the cold morning air. | -0.6\n",
      "What good will my comfort do them? | 0.7\n",
      "If he forgets, be a good dog and remind him. | 0.7\n",
      "A cold, cheerless meal had been laid out in the morning room of the Guest House. | -0.6\n",
      "Another him was a thought too dreadful to contemplate. | -1.0\n",
      "Myrcella gave a happy gasp, and Tommen smiled nervously, but it was not the children Tyrion was watching. | 0.7\n",
      "They are dangerous. | -0.6\n",
      "Jaime smiled. | 0.6\n",
      "Tyrion laughed. | 0.7\n",
      "He would not take it kindly. | 0.6\n",
      "A grotesque. | -0.55\n",
      "Give me a good clean death. | 0.53\n",
      "Jaime smiled. | 0.6\n",
      "He stood in the door for a moment, afraid to speak, afraid to come closer. | -0.6\n",
      "Something cold moved in her eyes. | -0.6\n",
      "Under the blanket, his legs bent in ways that made Jon sick. | -0.71\n",
      "I was afraid. | -0.6\n",
      "It wasn’t your fault, he managed after an awkward silence. | -0.6\n",
      "My mother…\n",
      "She was… very kind, Jon told him. | 0.78\n",
      "Good. | 0.7\n",
      "He smiled. | 0.6\n",
      "The blow stung, but Jon found himself grinning like an idiot. | -0.8\n",
      "A doubtful look crossed her face. | -0.8\n",
      "All the best swords have names. | 1.0\n",
      "Your very favorite thing. | 0.65\n",
      "You have waited most of your life, great king. | 0.65\n",
      "Illyrio smiled enigmatically and tore a wing from the duck. | 0.6\n",
      "As if in answer, there was a hideous ripping sound and the crackling of some great fire. | 0.6\n",
      "When she looked again, Viserys was gone, great columns of flame rose all around, and in the midst of them was the dragon. | 0.7\n",
      "She was afraid of her brother, of what he might do if she failed him. | -0.55\n",
      "She’s very good, Illyrio and I can both swear to that. | 0.91\n",
      "Magister Illyrio murmured a command, and four burly slaves hurried forward, bearing between them a great cedar chest bound in bronze. | 0.8\n",
      "The eons have turned them to stone, yet still they burn bright with beauty. | 0.7\n",
      "It was a truly magnificent gift, though she knew that Illyrio could afford to be lavish. | 1.0\n",
      "Haggo gave her a great leather whip with a silver handle, Cohollo a magnificent arakh chased in gold, and Qotho a double-curved dragonbone bow taller than she was. | 0.9\n",
      "This is a gift worthy of a great warrior, O blood of my blood, and I am but a woman. | 0.57\n",
      "She’s beautiful, Dany murmured. | 0.85\n",
      "The horse broke into a trot, and she smiled. | 0.6\n",
      "Gods, he swore, laughing, it feels good to get out and ride the way a man was meant to ride! | 0.88\n",
      "Ned laughed. | 0.7\n",
      "Good man! | 0.88\n",
      "Just you and me, two vagabond knights on the kingsroad, our swords at our sides and the gods know what in front of us, and maybe a farmer’s daughter or a tavern wench to warm our beds tonight. | 0.6\n",
      "You never told me what she looked like…\n",
      "Ned’s mouth tightened in anger. | -0.7\n",
      "Ned unrolled the paper with trepidation, thinking of Lysa and her terrible accusation, but the message did not concern Lady Arryn. | -1.0\n",
      "Lord Varys makes good use of him. | 0.7\n",
      "It had taken another death to reconcile them; Lyanna’s death, and the grief they had shared over her passing. | -0.8\n",
      "Jon Arryn was a wise man and a good Hand. | 0.7\n",
      "I know the boy is your nephew, but with Targaryens climbing in bed with Dothraki, I would be mad to rest one quarter of the realm on the shoulders of a sickly child. | -0.67\n",
      "He rode on dangerous ground now, he knew. | -0.6\n",
      "His sword helped win the throne I sit on. | 0.8\n",
      "He swore a vow to protect his king’s life with his own. | 0.6\n",
      "The anger was building in him again. | -0.7\n",
      "I ask you, Ned, what good is it to wear a crown? | 0.7\n",
      "I am heartily sick of secrets and squabbles and matters of state, Ned. | -0.71\n",
      "He belonged with Catelyn in her grief, and with Bran. | -0.8\n",
      "Jon Snow’s albino direwolf pricked up his ears at the nightly howling, but never raised his own voice in reply. | 0.6\n",
      "There was something very unsettling about that animal, Tyrion thought. | -0.65\n",
      "Tyrion traveled with two of his own men, as befit a Lannister. | 0.6\n",
      "Rapers, Yoren said with a cold look at his charges. | -0.6\n",
      "His two young recruits smelled even worse, and seemed as stupid as they were cruel. | -0.53\n",
      "It was cold up here, and growing colder. | -0.6\n",
      "A grotesquely ancient oak provided shelter from the biting wind. | -0.55\n",
      "He had not thought to find them beautiful. | 0.85\n",
      "They liked the fire, he sensed. | 0.6\n",
      "Is this some kind of trick? | 0.6\n",
      "You are remarkably polite for a bastard, Snow. | 0.75\n",
      "What good is that? | 0.7\n",
      "When I was your age, used to dream of having a dragon of my own. | 0.6\n",
      "Well, no doubt the Starks have been terribly good to you. | 0.7\n",
      "And your brother Robb, he’s always been kind, and why not? | 0.6\n",
      "The Night’s Watch is a noble calling! | 0.75\n",
      "Tyrion laughed. | 0.7\n",
      "The bad part is you freeze your balls off, but since you’re not allowed to breed anyway, I don’t suppose that matters. | -0.7\n",
      "Ask me nicely. | 0.6\n",
      "Jon Snow set his mouth in a grim line. | -1.0\n",
      "That’s good, bastard. | 0.7\n",
      "He would make his own way, as he had all his life. | 0.6\n",
      "Still, the camp was a welcome sight. | 0.8\n",
      "Jon Snow smiled. | 0.6\n",
      "Good men, he said. | 0.7\n",
      "Very good, my lord. | 0.91\n",
      "Maester Luwin says the time of greatest danger has passed. | 1.0\n",
      "Bran needs to stay warm. | 0.6\n",
      "It was the grief, the cold, the howling of the direwolves. | -0.7\n",
      "Don’t be afraid, Mother. | -0.6\n",
      "Robb looked at her as if she’d gone mad. | -0.62\n",
      "He was a small, dirty man in filthy brown clothing, and he stank of horses. | -0.55\n",
      "You weren’t s’posed to be here, he repeated stupidly. | -0.8\n",
      "His blood felt like warm rain as it sprayed across her face. | 0.6\n",
      "It all seemed like a nightmare to her now, everything since Bran’s fall, a terrible dream of blood and grief, but she had the pain in her hands to remind her that it was real. | -0.53\n",
      "Greyjoy was doubtful. | -0.8\n",
      "If I hadn’t been half-mad with grief, it would have worked. | -0.8\n",
      "Answer your own question. | 0.6\n",
      "Someone is afraid Bran might wake up, Robb said, afraid of what he might say or do, afraid of something he knows. | -0.6\n",
      "Catelyn was proud of him. | 0.8\n",
      "Very good. | 0.91\n",
      "Winterfell may have need of all its swords soon, and they had best not be made of wood. | 1.0\n",
      "Theon Greyjoy put a hand on the hilt of his blade and said, My lady, if it comes to that, my House owes yours a great debt. | 0.8\n",
      "She will not take it kindly. | 0.6\n",
      "My lady, said Maester Luwin, is that wise? | 0.7\n",
      "I will welcome your company, Ser Rodrik. | 0.8\n",
      "You’re a good girl, Sansa, but I do vow, when it comes to that creature you’re as willful as your sister Arya. | 0.7\n",
      "Do remind her to dress nicely today. | 0.6\n",
      "We are all invited to ride with the queen and Princess Myrcella in the royal wheelhouse, and we must look our best. | 1.0\n",
      "Sansa already looked her best. | 1.0\n",
      "It was a great honor to ride with the queen, and besides, Prince Joffrey might be there. | 0.8\n",
      "Arya gave her a look like she was so stupid. | -0.8\n",
      "I hate riding, Sansa said fervently. | -0.8\n",
      "Sansa scratched her ears the way she liked, and Lady sat beside her on her haunches, watching Arya chase Nymeria. | 0.6\n",
      "I don’t like the queen, Arya said casually. | -0.5\n",
      "And Princess Myrcella is afraid of them, you know that. | -0.6\n",
      "Bad wolf! | -0.87\n",
      "Lady and I will eat all the lemon cakes and just have the best time without you. | 1.0\n",
      "She would have liked a sister like that. | 0.6\n"
     ]
    },
    {
     "name": "stdout",
     "output_type": "stream",
     "text": [
      "She heard her saying, The council does us great honor, my good lords. | 0.75\n",
      "When she got closer, she saw two knights kneeling before the queen, in armor so fine and gorgeous that it made her blink. | 0.56\n",
      "Cradled under one arm was an antlered helm, its magnificent rack shimmering in gold. | 1.0\n",
      "He stood to one side, beside their horses, a gaunt grim man who watched the proceedings in silence. | -1.0\n",
      "Still, Sansa wrenched away from him, and the Hound laughed, and Lady moved between them, rumbling a warning. | 0.7\n",
      "Why are you afraid? | -0.6\n",
      "The honor is mine, good knight. | 0.7\n",
      "He smiled at her. | 0.6\n",
      "Then she smiled graciously and said, Sansa, the good councillors and I must speak together until the king returns with your father. | 0.65\n",
      "Joffrey, perhaps you would be so kind as to entertain our guest today. | 0.6\n",
      "The way he had rescued her from Ser Ilyn and the Hound, why, it was almost like the songs, like the time Serwyn of the Mirror Shield saved the Princess Daeryssa from the giants, or Prince Aemon the Dragonknight championing Queen Naerys’s honor against evil Ser Morgil’s slanders. | -1.0\n",
      "I didn’t know you had a dog…\n",
      "Joffrey laughed. | 0.7\n",
      "Her prince would never love her if she seemed stupid. | -0.52\n",
      "Prince Joffrey laughed. | 0.7\n",
      "Pick up your sword, butcher’s boy, he said, his eyes bright with amusement. | 0.7\n",
      "Let us see how good you are. | 0.7\n",
      "Sansa was afraid. | -0.6\n",
      "Joffrey slashed at Arya with his sword, screaming obscenities, terrible words, filthy words. | -0.9\n",
      "Don’t be afraid. | -0.6\n",
      "He rose to face the king. | 0.6\n",
      "It seemed best to bring her here and get the business done with quickly. | 0.67\n",
      "It is a great crime to lie to a king. | 0.8\n",
      "My brother is too kind. | 0.6\n",
      "Robert did not look unhappy. | -0.6\n",
      "Robert’s face darkened with anger. | -0.7\n",
      "Stop them, Sansa pleaded, don’t let them do it, please, please, it wasn’t Lady, it was Nymeria, Arya did it, you can’t, it wasn’t Lady, don’t let them hurt Lady, I’ll make her be good, I promise, I promise… She started to cry. | 0.7\n",
      "He looked at Ned’s face and laughed. | 0.7\n",
      "Fly, a voice whispered in the darkness, but Bran did not know how to fly, so all he could do was fall. | 0.8\n",
      "It was cold here in the darkness. | -0.6\n",
      "Fly. | 0.8\n",
      "I can’t fly, Bran said. | 0.8\n",
      "That won’t do any good, the crow said. | 0.7\n",
      "Teaching you how to fly. | 0.8\n",
      "I can’t fly! | 1.0\n",
      "He saw his mother sitting alone in a cabin, looking at a bloodstained knife on a table in front of her, as the rowers pulled at their oars and Ser Rodrik leaned across a rail, shaking and heaving. | -0.6\n",
      "He looked south, and saw the great blue-green rush of the Trident. | 0.8\n",
      "He saw his father pleading with the king, his face etched with grief. | -0.8\n",
      "One shadow was dark as ash, with the terrible face of a hound. | -0.57\n",
      "Another was armored like the sun, golden and beautiful. | 0.57\n",
      "There was nothing below him now but snow and cold and death, a frozen wasteland where jagged blue-white spires of ice waited to embrace him. | -0.6\n",
      "He was desperately afraid. | -0.6\n",
      "Fly or die. | 0.8\n",
      "The terrible needles of ice receded below him. | -1.0\n",
      "The honor of carrying a great lady like yourself is all the reward they need. | 0.8\n",
      "Moreo smiled. | 0.6\n",
      "It was good that she had. | 0.7\n",
      "The galley skimmed the water like a dragonfly, her oars rising and falling in perfect time. | 1.0\n",
      "Ser Aron Santagar is a vain man, but an honest one. | 0.6\n",
      "Visenya’s hill was crowned by the Great Sept of Baelor with its seven crystal towers. | 0.8\n",
      "His son Maegor the Cruel had seen it completed. | -1.0\n",
      "My lady, Ser Rodrik said, I have thought on how best to proceed while I lay abed. | 1.0\n",
      "Ser Rodrik smiled. | 0.6\n",
      "A man must make his own choices, Catelyn said. | 0.6\n",
      "Best of all, she had no interest in their names. | 1.0\n",
      "Their leader smiled at the dagger in her hand and said, No need for that, m’lady. | 0.6\n",
      "She hoped he’d gotten a good price for the information. | 0.7\n",
      "He rose and gestured brusquely to the guards. | 0.6\n",
      "I’ve angered you, my lady. | -0.75\n",
      "Even as a child, he had always loved his silver. | 0.7\n",
      "I am master of coin, the king’s own councillor. | 0.6\n",
      "Littlefinger laughed. | 0.7\n",
      "Oh, very good, my lady, but please don’t expect me to believe that. | 0.91\n",
      "The fingers are so delicate… Our good Maester Pycelle makes a marvelous salve, shall I send for a jar? | 0.85\n",
      "I thank you, my lord, but my own Maester Luwin has already seen to my hurts. | 0.6\n",
      "I was grievous sad to hear about your son. | -0.65\n",
      "The gods are cruel. | -1.0\n",
      "Never has a king been so beloved as our Robert, quipped Littlefinger. | 0.7\n",
      "He smiled slyly. | 0.6\n",
      "Good lady, Varys said with great solicitude. | 0.75\n",
      "She would not let them see her grief. | -0.8\n",
      "I hope you forgive me, kind lady. | 0.6\n",
      "The frosty morning air felt good on his face. | 0.7\n",
      "Thorne hated him, Jon had decided; of course, he hated the other boys even worse. | -0.58\n",
      "Even his uncle had abandoned him in this cold place at the end of the world. | -0.6\n",
      "Stupidly, Jon argued. | -0.8\n",
      "The thought made him sick. | -0.71\n",
      "You looked bad before I ever met you, Jon told him. | -0.7\n",
      "He laughed. | 0.7\n",
      "His fingers came away bloody. | -0.8\n",
      "You won’t win any honors killing him. | 0.8\n",
      "Jon’s anger flared. | -0.7\n",
      "Jon was cold with rage. | -0.6\n",
      "In his dreams, she was beautiful, and highborn, and her eyes were kind. | 0.72\n",
      "I hate it here. | -0.8\n",
      "It’s too… it’s cold. | -0.6\n",
      "Four who are probably afraid of you. | -0.6\n",
      "Does that make you proud? | 0.8\n",
      "He did feel proud when he won. | 0.8\n",
      "His look was grim. | -1.0\n",
      "I never… I didn’t think…\n",
      "Best you start thinking, Noye warned him. | 1.0\n",
      "As the queen’s own brother, Tyrion Lannister had been an honored guest of the Night’s Watch. | 0.6\n",
      "If they want to give you a name, take it, make it your own. | 0.6\n",
      "Jon was hungry too, so he fell in beside Lannister and slowed his pace to match the dwarf’s awkward, waddling steps. | -0.6\n",
      "Tyrion Lannister’s laughter steamed in the cold air. | -0.6\n",
      "Wise boys, Lannister said. | 0.7\n",
      "Tyrion Lannister swung off the bench and rose. | 0.6\n",
      "Jon smiled at him. | 0.6\n",
      "Jon heard Grenn suck in his breath, shocked. | -0.7\n",
      "Ned saw Vayon Poole, his own steward, and called out. | 0.6\n",
      "It will be my great pleasure, the steward said. | 0.8\n",
      "Myrish carpets covered the floor instead of rushes, and in one corner a hundred fabulous beasts cavorted in bright paints on a carved screen from the Summer Isles. | 0.55\n",
      "Renly Baratheon laughed. | 0.7\n",
      "Perhaps we had best wait for Ser Barristan and the king to join us, Ned suggested. | 1.0\n",
      "Renly Baratheon laughed aloud. | 0.7\n",
      "Our good King Robert has many cares, Varys said. | 0.6\n",
      "Littlefinger smiled and handed the paper to Ned. | 0.6\n",
      "Gods be good, he swore. | 0.7\n",
      "What Lord Eddard means to say, Lord Renly announced, is that His Grace instructs us to stage a great tournament in honor of his appointment as the Hand of the King. | 0.8\n",
      "Ned was aghast. | -0.6\n",
      "Lord Arryn was a prudent man, but I fear that His Grace does not always listen to wise counsel. | 0.7\n",
      "Speak to him as you will, Lord Renly said, we had still best make our plans. | 1.0\n"
     ]
    },
    {
     "ename": "KeyboardInterrupt",
     "evalue": "",
     "output_type": "error",
     "traceback": [
      "\u001b[1;31m---------------------------------------------------------------------------\u001b[0m",
      "\u001b[1;31mKeyboardInterrupt\u001b[0m                         Traceback (most recent call last)",
      "Cell \u001b[1;32mIn[18], line 2\u001b[0m\n\u001b[0;32m      1\u001b[0m \u001b[38;5;28;01mfor\u001b[39;00m s \u001b[38;5;129;01min\u001b[39;00m tqdm(\u001b[38;5;28mrange\u001b[39m(N),total\u001b[38;5;241m=\u001b[39mN):\n\u001b[1;32m----> 2\u001b[0m     doc\u001b[38;5;241m=\u001b[39m\u001b[43mnlp\u001b[49m\u001b[43m(\u001b[49m\u001b[43mstavki\u001b[49m\u001b[43m[\u001b[49m\u001b[43ms\u001b[49m\u001b[43m]\u001b[49m\u001b[43m)\u001b[49m\n\u001b[0;32m      3\u001b[0m     s\u001b[38;5;241m=\u001b[39mdoc\u001b[38;5;241m.\u001b[39m_\u001b[38;5;241m.\u001b[39mblob\u001b[38;5;241m.\u001b[39mpolarity\n\u001b[0;32m      4\u001b[0m     \u001b[38;5;28;01mif\u001b[39;00m \u001b[38;5;28mabs\u001b[39m(s)\u001b[38;5;241m>\u001b[39m\u001b[38;5;241m0.5\u001b[39m:\n",
      "File \u001b[1;32m~\\anaconda3\\envs\\SPACY\\lib\\site-packages\\spacy\\language.py:1011\u001b[0m, in \u001b[0;36mLanguage.__call__\u001b[1;34m(self, text, disable, component_cfg)\u001b[0m\n\u001b[0;32m   1009\u001b[0m     error_handler \u001b[38;5;241m=\u001b[39m proc\u001b[38;5;241m.\u001b[39mget_error_handler()\n\u001b[0;32m   1010\u001b[0m \u001b[38;5;28;01mtry\u001b[39;00m:\n\u001b[1;32m-> 1011\u001b[0m     doc \u001b[38;5;241m=\u001b[39m proc(doc, \u001b[38;5;241m*\u001b[39m\u001b[38;5;241m*\u001b[39mcomponent_cfg\u001b[38;5;241m.\u001b[39mget(name, {}))  \u001b[38;5;66;03m# type: ignore[call-arg]\u001b[39;00m\n\u001b[0;32m   1012\u001b[0m \u001b[38;5;28;01mexcept\u001b[39;00m \u001b[38;5;167;01mKeyError\u001b[39;00m \u001b[38;5;28;01mas\u001b[39;00m e:\n\u001b[0;32m   1013\u001b[0m     \u001b[38;5;66;03m# This typically happens if a component is not initialized\u001b[39;00m\n\u001b[0;32m   1014\u001b[0m     \u001b[38;5;28;01mraise\u001b[39;00m \u001b[38;5;167;01mValueError\u001b[39;00m(Errors\u001b[38;5;241m.\u001b[39mE109\u001b[38;5;241m.\u001b[39mformat(name\u001b[38;5;241m=\u001b[39mname)) \u001b[38;5;28;01mfrom\u001b[39;00m \u001b[38;5;21;01me\u001b[39;00m\n",
      "File \u001b[1;32m~\\anaconda3\\envs\\SPACY\\lib\\site-packages\\spacy\\pipeline\\trainable_pipe.pyx:52\u001b[0m, in \u001b[0;36mspacy.pipeline.trainable_pipe.TrainablePipe.__call__\u001b[1;34m()\u001b[0m\n",
      "File \u001b[1;32m~\\anaconda3\\envs\\SPACY\\lib\\site-packages\\spacy\\pipeline\\transition_parser.pyx:253\u001b[0m, in \u001b[0;36mspacy.pipeline.transition_parser.Parser.predict\u001b[1;34m()\u001b[0m\n",
      "File \u001b[1;32m~\\anaconda3\\envs\\SPACY\\lib\\site-packages\\spacy\\pipeline\\transition_parser.pyx:274\u001b[0m, in \u001b[0;36mspacy.pipeline.transition_parser.Parser.greedy_parse\u001b[1;34m()\u001b[0m\n",
      "File \u001b[1;32m~\\anaconda3\\envs\\SPACY\\lib\\site-packages\\thinc\\model.py:315\u001b[0m, in \u001b[0;36mModel.predict\u001b[1;34m(self, X)\u001b[0m\n\u001b[0;32m    311\u001b[0m \u001b[38;5;28;01mdef\u001b[39;00m \u001b[38;5;21mpredict\u001b[39m(\u001b[38;5;28mself\u001b[39m, X: InT) \u001b[38;5;241m-\u001b[39m\u001b[38;5;241m>\u001b[39m OutT:\n\u001b[0;32m    312\u001b[0m     \u001b[38;5;124;03m\"\"\"Call the model's `forward` function with `is_train=False`, and return\u001b[39;00m\n\u001b[0;32m    313\u001b[0m \u001b[38;5;124;03m    only the output, instead of the `(output, callback)` tuple.\u001b[39;00m\n\u001b[0;32m    314\u001b[0m \u001b[38;5;124;03m    \"\"\"\u001b[39;00m\n\u001b[1;32m--> 315\u001b[0m     \u001b[38;5;28;01mreturn\u001b[39;00m \u001b[38;5;28;43mself\u001b[39;49m\u001b[38;5;241;43m.\u001b[39;49m\u001b[43m_func\u001b[49m\u001b[43m(\u001b[49m\u001b[38;5;28;43mself\u001b[39;49m\u001b[43m,\u001b[49m\u001b[43m \u001b[49m\u001b[43mX\u001b[49m\u001b[43m,\u001b[49m\u001b[43m \u001b[49m\u001b[43mis_train\u001b[49m\u001b[38;5;241;43m=\u001b[39;49m\u001b[38;5;28;43;01mFalse\u001b[39;49;00m\u001b[43m)\u001b[49m[\u001b[38;5;241m0\u001b[39m]\n",
      "File \u001b[1;32m~\\anaconda3\\envs\\SPACY\\lib\\site-packages\\spacy\\ml\\tb_framework.py:33\u001b[0m, in \u001b[0;36mforward\u001b[1;34m(model, X, is_train)\u001b[0m\n\u001b[0;32m     32\u001b[0m \u001b[38;5;28;01mdef\u001b[39;00m \u001b[38;5;21mforward\u001b[39m(model, X, is_train):\n\u001b[1;32m---> 33\u001b[0m     step_model \u001b[38;5;241m=\u001b[39m \u001b[43mParserStepModel\u001b[49m\u001b[43m(\u001b[49m\n\u001b[0;32m     34\u001b[0m \u001b[43m        \u001b[49m\u001b[43mX\u001b[49m\u001b[43m,\u001b[49m\n\u001b[0;32m     35\u001b[0m \u001b[43m        \u001b[49m\u001b[43mmodel\u001b[49m\u001b[38;5;241;43m.\u001b[39;49m\u001b[43mlayers\u001b[49m\u001b[43m,\u001b[49m\n\u001b[0;32m     36\u001b[0m \u001b[43m        \u001b[49m\u001b[43munseen_classes\u001b[49m\u001b[38;5;241;43m=\u001b[39;49m\u001b[43mmodel\u001b[49m\u001b[38;5;241;43m.\u001b[39;49m\u001b[43mattrs\u001b[49m\u001b[43m[\u001b[49m\u001b[38;5;124;43m\"\u001b[39;49m\u001b[38;5;124;43munseen_classes\u001b[39;49m\u001b[38;5;124;43m\"\u001b[39;49m\u001b[43m]\u001b[49m\u001b[43m,\u001b[49m\n\u001b[0;32m     37\u001b[0m \u001b[43m        \u001b[49m\u001b[43mtrain\u001b[49m\u001b[38;5;241;43m=\u001b[39;49m\u001b[43mis_train\u001b[49m\u001b[43m,\u001b[49m\n\u001b[0;32m     38\u001b[0m \u001b[43m        \u001b[49m\u001b[43mhas_upper\u001b[49m\u001b[38;5;241;43m=\u001b[39;49m\u001b[43mmodel\u001b[49m\u001b[38;5;241;43m.\u001b[39;49m\u001b[43mattrs\u001b[49m\u001b[43m[\u001b[49m\u001b[38;5;124;43m\"\u001b[39;49m\u001b[38;5;124;43mhas_upper\u001b[39;49m\u001b[38;5;124;43m\"\u001b[39;49m\u001b[43m]\u001b[49m\u001b[43m,\u001b[49m\n\u001b[0;32m     39\u001b[0m \u001b[43m    \u001b[49m\u001b[43m)\u001b[49m\n\u001b[0;32m     41\u001b[0m     \u001b[38;5;28;01mreturn\u001b[39;00m step_model, step_model\u001b[38;5;241m.\u001b[39mfinish_steps\n",
      "File \u001b[1;32m~\\anaconda3\\envs\\SPACY\\lib\\site-packages\\spacy\\ml\\parser_model.pyx:220\u001b[0m, in \u001b[0;36mspacy.ml.parser_model.ParserStepModel.__init__\u001b[1;34m()\u001b[0m\n",
      "File \u001b[1;32m~\\anaconda3\\envs\\SPACY\\lib\\site-packages\\spacy\\ml\\parser_model.pyx:359\u001b[0m, in \u001b[0;36mspacy.ml.parser_model.precompute_hiddens.__init__\u001b[1;34m()\u001b[0m\n",
      "File \u001b[1;32m~\\anaconda3\\envs\\SPACY\\lib\\site-packages\\thinc\\model.py:291\u001b[0m, in \u001b[0;36mModel.__call__\u001b[1;34m(self, X, is_train)\u001b[0m\n\u001b[0;32m    288\u001b[0m \u001b[38;5;28;01mdef\u001b[39;00m \u001b[38;5;21m__call__\u001b[39m(\u001b[38;5;28mself\u001b[39m, X: InT, is_train: \u001b[38;5;28mbool\u001b[39m) \u001b[38;5;241m-\u001b[39m\u001b[38;5;241m>\u001b[39m Tuple[OutT, Callable]:\n\u001b[0;32m    289\u001b[0m     \u001b[38;5;124;03m\"\"\"Call the model's `forward` function, returning the output and a\u001b[39;00m\n\u001b[0;32m    290\u001b[0m \u001b[38;5;124;03m    callback to compute the gradients via backpropagation.\"\"\"\u001b[39;00m\n\u001b[1;32m--> 291\u001b[0m     \u001b[38;5;28;01mreturn\u001b[39;00m \u001b[38;5;28;43mself\u001b[39;49m\u001b[38;5;241;43m.\u001b[39;49m\u001b[43m_func\u001b[49m\u001b[43m(\u001b[49m\u001b[38;5;28;43mself\u001b[39;49m\u001b[43m,\u001b[49m\u001b[43m \u001b[49m\u001b[43mX\u001b[49m\u001b[43m,\u001b[49m\u001b[43m \u001b[49m\u001b[43mis_train\u001b[49m\u001b[38;5;241;43m=\u001b[39;49m\u001b[43mis_train\u001b[49m\u001b[43m)\u001b[49m\n",
      "File \u001b[1;32m~\\anaconda3\\envs\\SPACY\\lib\\site-packages\\spacy\\ml\\_precomputable_affine.py:27\u001b[0m, in \u001b[0;36mforward\u001b[1;34m(model, X, is_train)\u001b[0m\n\u001b[0;32m     25\u001b[0m \u001b[38;5;66;03m# Preallocate array for layer output, including padding.\u001b[39;00m\n\u001b[0;32m     26\u001b[0m Yf \u001b[38;5;241m=\u001b[39m model\u001b[38;5;241m.\u001b[39mops\u001b[38;5;241m.\u001b[39malloc2f(X\u001b[38;5;241m.\u001b[39mshape[\u001b[38;5;241m0\u001b[39m] \u001b[38;5;241m+\u001b[39m \u001b[38;5;241m1\u001b[39m, nF \u001b[38;5;241m*\u001b[39m nO \u001b[38;5;241m*\u001b[39m nP, zeros\u001b[38;5;241m=\u001b[39m\u001b[38;5;28;01mFalse\u001b[39;00m)\n\u001b[1;32m---> 27\u001b[0m \u001b[43mmodel\u001b[49m\u001b[38;5;241;43m.\u001b[39;49m\u001b[43mops\u001b[49m\u001b[38;5;241;43m.\u001b[39;49m\u001b[43mgemm\u001b[49m\u001b[43m(\u001b[49m\u001b[43mX\u001b[49m\u001b[43m,\u001b[49m\u001b[43m \u001b[49m\u001b[43mW\u001b[49m\u001b[38;5;241;43m.\u001b[39;49m\u001b[43mreshape\u001b[49m\u001b[43m(\u001b[49m\u001b[43m(\u001b[49m\u001b[43mnF\u001b[49m\u001b[43m \u001b[49m\u001b[38;5;241;43m*\u001b[39;49m\u001b[43m \u001b[49m\u001b[43mnO\u001b[49m\u001b[43m \u001b[49m\u001b[38;5;241;43m*\u001b[39;49m\u001b[43m \u001b[49m\u001b[43mnP\u001b[49m\u001b[43m,\u001b[49m\u001b[43m \u001b[49m\u001b[43mnI\u001b[49m\u001b[43m)\u001b[49m\u001b[43m)\u001b[49m\u001b[43m,\u001b[49m\u001b[43m \u001b[49m\u001b[43mtrans2\u001b[49m\u001b[38;5;241;43m=\u001b[39;49m\u001b[38;5;28;43;01mTrue\u001b[39;49;00m\u001b[43m,\u001b[49m\u001b[43m \u001b[49m\u001b[43mout\u001b[49m\u001b[38;5;241;43m=\u001b[39;49m\u001b[43mYf\u001b[49m\u001b[43m[\u001b[49m\u001b[38;5;241;43m1\u001b[39;49m\u001b[43m:\u001b[49m\u001b[43m]\u001b[49m\u001b[43m)\u001b[49m\n\u001b[0;32m     28\u001b[0m Yf \u001b[38;5;241m=\u001b[39m Yf\u001b[38;5;241m.\u001b[39mreshape((Yf\u001b[38;5;241m.\u001b[39mshape[\u001b[38;5;241m0\u001b[39m], nF, nO, nP))\n\u001b[0;32m     30\u001b[0m \u001b[38;5;66;03m# Set padding. Padding has shape (1, nF, nO, nP). Unfortunately, we cannot\u001b[39;00m\n\u001b[0;32m     31\u001b[0m \u001b[38;5;66;03m# change its shape to (nF, nO, nP) without breaking existing models. So\u001b[39;00m\n\u001b[0;32m     32\u001b[0m \u001b[38;5;66;03m# we'll squeeze the first dimension here.\u001b[39;00m\n",
      "\u001b[1;31mKeyboardInterrupt\u001b[0m: "
     ]
    }
   ],
   "source": [
    "for s in tqdm(range(N),total=N):\n",
    "    doc=nlp(stavki[s])\n",
    "    s=doc._.blob.polarity\n",
    "    if abs(s)>0.5:\n",
    "        print(f\"{doc} | {round(s,2)}\")"
   ]
  },
  {
   "cell_type": "code",
   "execution_count": null,
   "metadata": {},
   "outputs": [],
   "source": []
  }
 ],
 "metadata": {
  "hide_input": false,
  "kernelspec": {
   "display_name": "Python 3 (ipykernel)",
   "language": "python",
   "name": "python3"
  },
  "language_info": {
   "codemirror_mode": {
    "name": "ipython",
    "version": 3
   },
   "file_extension": ".py",
   "mimetype": "text/x-python",
   "name": "python",
   "nbconvert_exporter": "python",
   "pygments_lexer": "ipython3",
   "version": "3.10.0"
  },
  "toc": {
   "base_numbering": 1,
   "nav_menu": {},
   "number_sections": true,
   "sideBar": true,
   "skip_h1_title": false,
   "title_cell": "Table of Contents",
   "title_sidebar": "Contents",
   "toc_cell": false,
   "toc_position": {},
   "toc_section_display": true,
   "toc_window_display": false
  },
  "varInspector": {
   "cols": {
    "lenName": 16,
    "lenType": 16,
    "lenVar": 40
   },
   "kernels_config": {
    "python": {
     "delete_cmd_postfix": "",
     "delete_cmd_prefix": "del ",
     "library": "var_list.py",
     "varRefreshCmd": "print(var_dic_list())"
    },
    "r": {
     "delete_cmd_postfix": ") ",
     "delete_cmd_prefix": "rm(",
     "library": "var_list.r",
     "varRefreshCmd": "cat(var_dic_list()) "
    }
   },
   "types_to_exclude": [
    "module",
    "function",
    "builtin_function_or_method",
    "instance",
    "_Feature"
   ],
   "window_display": false
  }
 },
 "nbformat": 4,
 "nbformat_minor": 2
}
